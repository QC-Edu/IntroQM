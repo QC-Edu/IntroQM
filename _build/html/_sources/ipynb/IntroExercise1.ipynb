{
 "cells": [
  {
   "cell_type": "markdown",
   "metadata": {},
   "source": [
    "# &#x1f4dd; Exercise\n",
    "**Suppose you are given a photon with an energy of 2 eV. What is its momentum in \n",
    "$\\frac{\\text{m} \\cdot \\text{kg}}{\\text{s}}$? What is its frequency in Hz?** "
   ]
  },
  {
   "cell_type": "markdown",
   "metadata": {},
   "source": [
    "First we can compute the frequency of the photon as:\n",
    "\n",
    "$$ \\nu = \\frac{E}{h} $$\n",
    "\n",
    "but there is the slight complication that the energy was given in electron-volts. Fortunately we have this constant built into to scipy.constants. \n",
    "\n",
    "The momentum of the photon can be computed from the De Broglie relation,\n",
    "\n",
    "$$ p = \\frac{h}{\\lambda} = \\frac{h}{\\tfrac{c}{\\nu}} = \\frac{h \\nu}{c} = \\frac{E}{c} $$\n",
    "\n",
    "Where the last formula, which was proposed long ago by Einstein and Compton and appeared in the notes, could have been used directly had you remembered it. However, because our energy is in electron-volts, it's a bit easier to use the next-to-last formula.\n"
   ]
  },
  {
   "cell_type": "code",
   "execution_count": 2,
   "metadata": {},
   "outputs": [
    {
     "name": "stdout",
     "output_type": "stream",
     "text": [
      "The frequency of a photon with an energy of 2 eV is 4.836e+14 Hz\n",
      "The momentum of a photon with an energy of 2 eV is 1.069e-27 m kg/s\n"
     ]
    }
   ],
   "source": [
    "import scipy\n",
    "from scipy import constants\n",
    "\n",
    "# frequency = E/h\n",
    "# get Planck's constant in useful units.\n",
    "h_in_eVs = scipy.constants.value(\"Planck constant in eV/Hz\")\n",
    "frequency_d9 = 2.0/h_in_eVs\n",
    "\n",
    "#Now useful to use Planck's constant in nice units.\n",
    "momentum_d9 = constants.h*frequency_d9/constants.c\n",
    "\n",
    "print(\"The frequency of a photon with an energy of 2 eV is {0:.3e} Hz\".format(frequency_d9))\n",
    "print(\"The momentum of a photon with an energy of 2 eV is {0:.3e} m kg/s\".format(momentum_d9))"
   ]
  },
  {
   "cell_type": "code",
   "execution_count": null,
   "metadata": {},
   "outputs": [],
   "source": []
  }
 ],
 "metadata": {
  "interpreter": {
   "hash": "8867fa4a874d625ac151e80518eaa96dde9c32243951e64c9d5c087633ad9a9a"
  },
  "kernelspec": {
   "display_name": "Python 3.8.5 64-bit",
   "language": "python",
   "name": "python3"
  },
  "language_info": {
   "codemirror_mode": {
    "name": "ipython",
    "version": 3
   },
   "file_extension": ".py",
   "mimetype": "text/x-python",
   "name": "python",
   "nbconvert_exporter": "python",
   "pygments_lexer": "ipython3",
   "version": "3.8.5"
  },
  "orig_nbformat": 4
 },
 "nbformat": 4,
 "nbformat_minor": 2
}
