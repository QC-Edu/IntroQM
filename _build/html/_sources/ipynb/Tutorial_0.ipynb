{
 "cells": [
  {
   "cell_type": "markdown",
   "id": "733f9490",
   "metadata": {},
   "source": [
    "# Python _and_ GitHub fundamentals\n",
    "\n",
    "\n",
    "Hello Folks! In this tutorial we are going to cover basics steps of __editing__, __submitting__ and __analyzing__ our results using GitHub environment along with basic python skills."
   ]
  },
  {
   "cell_type": "markdown",
   "id": "b09b0bd4",
   "metadata": {},
   "source": [
    "## Receive the assignments\n",
    "\n",
    "\n",
    "This mock assignment is available via the [link](https://classroom.github.com/a/8eHJCZ35). Accept the assignment, as described in [GitHub fundamentals](https://qc-edu.github.io/IntroQM2022/ipynb/ghfundamentals.html)\n",
    "![p1](pics_t0/1.png)\n",
    "\n",
    "Now you will see that a new repository was created with the task ![p1](pics_t0/2.png)\n",
    "There is only one file --jupyter notebook (_\\*.ipynb file_)-- that you need to complete in order to have your assignment done. \n",
    "\n",
    "In the current repo this file is called **Schrodinger.ipynb**"
   ]
  },
  {
   "cell_type": "markdown",
   "id": "6ede8cb5",
   "metadata": {},
   "source": [
    "## Editing a Jupyter Notebook\n",
    "\n",
    "There are several ways to edit .ipynb file. \n",
    "1. Using [Google Colab](https://colab.research.google.com/). **Recommended!**\n",
    "1. Using [Binder](https://mybinder.org/). \n",
    "1. You can, in general, use any online Jupyter Hub (e.g. [syzygy](https://mcmaster.syzygy.ca/)). However, it can be difficult to ensure that the dependencies you need are installed.\n",
    "1. You can edit Jupyter Notebooks locally. It is relatively easy to use [jupyter](https://docs.anaconda.com/ae-notebooks/user-guide/basic-tasks/apps/jupyter/index.html) through [Anaconda](https://www.anaconda.com/products/individual). One can also use [Visual Studio Code](https://code.visualstudio.com/) to edit [notebooks](https://code.visualstudio.com/docs/datascience/jupyter-notebooks).\n",
    "\n",
    "We will ensure that assignments work with colab. We'll try to help people using other platforms, but make no promises.\n",
    "\n",
    "In this tutorial we will cover the how to work with Jupyter notebooks through google colab. To do this, you need to download the .zip archive of the repo. In order to download it click `code` and `Download Zip` ![p4](pics_t0/3.png)\n",
    "\n",
    "When the repo is downloaded you need to go to to [Google Colab](https://colab.research.google.com/) and add the .ipynb file from the repo: `File` $\\rightarrow$ `Upload notebook` ![p5](pics_t0/4.png)\n",
    "Upload the **Schrodinger.ipynb** file \n",
    "\n",
    "Voila! ![p6](pics_t0/5.png)\n",
    "\n",
    "## Understanding the assignment\n",
    "There is an instruction written in the notebook. All you need to do is to fill the code between \n",
    "```\n",
    "### START YOUR CODE HERE\n",
    "...\n",
    "### END YOUR CODE HERE\n",
    "```\n",
    "Let's say I'm sensetive enough to assume that cat is 100% alive:\n",
    "![p6](pics_t0/6.png)\n",
    "\n",
    "Now, we can save and download edited notebook: click `File` $\\rightarrow$ `Save` and then `Download` $\\rightarrow$ `Download .ipynb`\n",
    "![p7](pics_t0/7.png)\n",
    "\n",
    "\n",
    "## Submitting an assignment\n",
    "\n",
    "Submitting the assignment is breeze!\n",
    "When you downloaded the final version of the file just go to your repo and click `Add file` $\\rightarrow$ `Upload files` and upload recently created file ![p9](pics_t0/9.png)\n",
    "Now commit your changes and click `Commit changes` ![p10](pics_t0/10.png)\n",
    "\n",
    "\n",
    "## Check the result\n",
    "\n",
    "In order to check whether your code passed tests all you need to do is go to `Actions`$\\rightarrow$ `Your commit` $\\rightarrow$ `Test with pytest`. ![p11](pics_t0/11.png)\n",
    "\n",
    "\n",
    "Ooops.... red cross indicates that there is something wrong. Let's try again.\n",
    "\n",
    "Open Google Colab and now let's say that cat is alive _and_ dead simultaneously:\n",
    "![p12](pics_t0/12.png)\n",
    "\n",
    "If you can see green check mark - ***CONGRATULATIONS!*** you passed the assignment\n",
    "\n",
    "\n",
    "Upload and commit new notebook and check if it passed the test:\n",
    "![p14](pics_t0/14.png)\n",
    "\n",
    "\n",
    "Well done! We nailed it and now it's finally a time to reward yourself scrolling Tik Tok\n",
    "\n",
    "\n",
    "\n",
    "__Nota Bene__\n",
    "In case you can't pass the test click at the commit name (`Wrong answer` in this particular case) and then contact me `@RichRick1`at the comment section\n",
    "![p16](pics_t0/15.png) ![p17](pics_t0/16.png)\n",
    "\n"
   ]
  },
  {
   "cell_type": "markdown",
   "id": "0a552cdc",
   "metadata": {},
   "source": []
  }
 ],
 "metadata": {
  "kernelspec": {
   "display_name": "Python 3 (ipykernel)",
   "language": "python",
   "name": "python3"
  },
  "language_info": {
   "codemirror_mode": {
    "name": "ipython",
    "version": 3
   },
   "file_extension": ".py",
   "mimetype": "text/x-python",
   "name": "python",
   "nbconvert_exporter": "python",
   "pygments_lexer": "ipython3",
   "version": "3.9.7"
  }
 },
 "nbformat": 4,
 "nbformat_minor": 5
}
