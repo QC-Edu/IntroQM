{
 "cells": [
  {
   "cell_type": "markdown",
   "id": "946af0a8",
   "metadata": {},
   "source": [
    "# GitHub classroom"
   ]
  },
  {
   "cell_type": "markdown",
   "id": "47178f00",
   "metadata": {},
   "source": [
    "All assignments will be uploaded and checked via GitHub classroom \n",
    "You need to register on [GitHub](https://github.com/) in order to follow this tutorial. Registration process is described [here](https://www.wikihow.com/Create-an-Account-on-GitHub)\n",
    "\n",
    "When you set up your account use [this link](https://classroom.github.com/a/8DEfC8Tj) to connect to github classroom\n",
    "Ones you folow the link you'll see ![p1](pics_ghf/1.png)\n",
    "Click `Accept the assignment` ![p2](pics_ghf/2.png)\n",
    "Now you can update the page and see ![p3](pics_ghf/3.png)\n",
    "**Great job!** We have created a repository with the task ![p4](pics_ghf/4.png)\n",
    "\n",
    "So far your task is to work through this repository and learn the basics of GitHub workflow.\n",
    "See ya in the next Tutorial!"
   ]
  }
 ],
 "metadata": {
  "kernelspec": {
   "display_name": "Python 3 (ipykernel)",
   "language": "python",
   "name": "python3"
  },
  "language_info": {
   "codemirror_mode": {
    "name": "ipython",
    "version": 3
   },
   "file_extension": ".py",
   "mimetype": "text/x-python",
   "name": "python",
   "nbconvert_exporter": "python",
   "pygments_lexer": "ipython3",
   "version": "3.9.7"
  }
 },
 "nbformat": 4,
 "nbformat_minor": 5
}