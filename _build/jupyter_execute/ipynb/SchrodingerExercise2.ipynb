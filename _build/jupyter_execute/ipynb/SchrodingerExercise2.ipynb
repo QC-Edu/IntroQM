{
 "cells": [
  {
   "cell_type": "markdown",
   "metadata": {},
   "source": [
    "# &#x1f4dd; Exercise\n",
    "**What is the complex conjugate of** \n",
    "$$ \n",
    "\\Psi(x,t) = A e^{(a+bi)(kx - \\omega t)} \n",
    "$$"
   ]
  },
  {
   "cell_type": "markdown",
   "metadata": {},
   "source": [
    "The complex conjugate is obtained by replacing $i$ with $-i$. So\n",
    "\n",
    "$$ \\Psi^*(x,t) = A e^{(a-bi)(kx - \\omega t)} $$\n",
    "\n",
    "I would accept an answer where it was not assumed that the constants in the expression were real, e.g.,\n",
    "\n",
    "$$ \\Psi^*(x,t) = A^* e^{(a^*-b^*i)(k^*x - \\omega^* t)} $$"
   ]
  }
 ],
 "metadata": {
  "interpreter": {
   "hash": "8867fa4a874d625ac151e80518eaa96dde9c32243951e64c9d5c087633ad9a9a"
  },
  "kernelspec": {
   "display_name": "Python 3.8.5 64-bit",
   "language": "python",
   "name": "python3"
  },
  "language_info": {
   "codemirror_mode": {
    "name": "ipython",
    "version": 3
   },
   "file_extension": ".py",
   "mimetype": "text/x-python",
   "name": "python",
   "nbconvert_exporter": "python",
   "pygments_lexer": "ipython3",
   "version": "3.9.7"
  }
 },
 "nbformat": 4,
 "nbformat_minor": 2
}