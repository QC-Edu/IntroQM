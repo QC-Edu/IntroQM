{
 "cells": [
  {
   "cell_type": "markdown",
   "id": "0cab3fbd",
   "metadata": {},
   "source": [
    "# GitHub classroom"
   ]
  },
  {
   "cell_type": "markdown",
   "id": "c3e9e3e8",
   "metadata": {},
   "source": [
    "All assignments will be uploaded and checked via GitHub classroom \n",
    "You need to register on [GitHub](https://github.com/) in order to follow this tutorial. Registration process is described [here](https://www.wikihow.com/Create-an-Account-on-GitHub)\n",
    "\n",
    "When you set up your account use [this link](https://classroom.github.com/a/iZKwWPGv) to connect to github classroom\n",
    "Ones you folow the link you'll see ![p1](pics/2.png)\n",
    "Click `Accept the assignment` and then update the page ![p2](pics/3.png)\n",
    "Now you can see a created repository with the task ![p3](pics/4.png)\n",
    "You will have only one jupyter notebook (_\\*.ipynb file_) that you need to complete in order to have your assignment done.\n",
    "\n",
    "In the current repo this file is called **`Normalizing_eigenfunctions.ipynb`**"
   ]
  },
  {
   "cell_type": "markdown",
   "id": "4c6dc3fd",
   "metadata": {},
   "source": [
    "## Editing file\n",
    "\n",
    "There are several ways to edit .ipynb file:\n",
    "1. Using [Binder](https://mybinder.org/)\n",
    "2. Using [Jupyter Notebook](https://docs.anaconda.com/ae-notebooks/user-guide/basic-tasks/apps/jupyter/index.html) through [Anaconda](https://www.anaconda.com/products/individual) package\n",
    "3. Using [Google Colab](https://colab.research.google.com/)\n",
    "\n",
    "In this tutorial we will cover the how to work with jupyter notebooks through google colab.\n",
    "For doing this you need to download the .zip archive of the repo. In order to download it click `code` and `Download Zip` ![p4](pics/5.png)\n",
    "\n",
    "When repo is downloaded you need to go to to [Google Colab](https://colab.research.google.com/) and add there .ipynb file from the repo: `File` $\\rightarrow$ `Upload notebook` ![p5](pics/6.png)\n",
    "So you can see this window ![p6](pics/7.png)\n",
    "Upload **.ipynb** file \n",
    "\n",
    "Voila! ![p7](pics/8.png)\n",
    "\n",
    "### Understanding the assignment\n",
    "There is an instruction written in the notebook. All you need to do is to fill the code between \n",
    "```\n",
    "### START YOUR CODE HERE\n",
    "...\n",
    "### END YOUR CODE HERE\n",
    "```\n",
    "![p8](pics/9.png)\n",
    "\n",
    "Ones code is completed, you can click the play button and evaluate the cell.\n",
    "When you are satisfied with a code just click `File` $\\rightarrow$ `Save` and then `Download` $\\rightarrow$ `Download .ipynb`\n",
    "![p9](pics/10.png)"
   ]
  },
  {
   "cell_type": "markdown",
   "id": "89ae3117",
   "metadata": {},
   "source": [
    "## Submitting an assignment\n",
    "\n",
    "Submitting the assignment is breeze!\n",
    "When you downloaded the final version of the file just go to your repo and click `Add file` $\\rightarrow$ `Upload files` and upload newly created file ![p10](pics/11.png)\n",
    "Now commit your changes and click `Commit changes` ![p11](pics/12.png)"
   ]
  },
  {
   "cell_type": "markdown",
   "id": "51b6c1b1",
   "metadata": {},
   "source": [
    "## Check the result\n",
    "\n",
    "In order to check whether your code passed tests all you need to do is go to `Actions`$\\rightarrow$ `Your commit` $\\rightarrow$ `Test with pytest`. ![p12](pics/13.png) ![p13](pics/14.png)\n",
    "\n",
    "If you can see green check mark - ***CONGRATULATIONS!*** you passed the assignment \n",
    "\n",
    "In case one wasn't lucky enough the following may occur:\n",
    "![p14](pics/15.png) ![p15](pics/16.png)\n",
    "\n",
    "So, at this stage you may try to find a mistake and/or contact me `@RichRick1`\n",
    "![p16](pics/17.png) ![p17](pics/18.png)"
   ]
  }
 ],
 "metadata": {
  "kernelspec": {
   "display_name": "Python 3 (ipykernel)",
   "language": "python",
   "name": "python3"
  },
  "language_info": {
   "codemirror_mode": {
    "name": "ipython",
    "version": 3
   },
   "file_extension": ".py",
   "mimetype": "text/x-python",
   "name": "python",
   "nbconvert_exporter": "python",
   "pygments_lexer": "ipython3",
   "version": "3.9.7"
  }
 },
 "nbformat": 4,
 "nbformat_minor": 5
}