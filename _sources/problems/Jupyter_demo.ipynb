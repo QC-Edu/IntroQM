{
 "cells": [
  {
   "cell_type": "code",
   "execution_count": 1,
   "metadata": {},
   "outputs": [],
   "source": [
    "from scipy import constants\n",
    "\n",
    "c = constants.c\n",
    "h = constants.h"
   ]
  },
  {
   "cell_type": "code",
   "execution_count": 2,
   "metadata": {},
   "outputs": [
    {
     "name": "stdout",
     "output_type": "stream",
     "text": [
      "299792458.0\n",
      "6.62607015e-34\n"
     ]
    }
   ],
   "source": [
    "print(c)\n",
    "print(h)"
   ]
  },
  {
   "cell_type": "code",
   "execution_count": 4,
   "metadata": {},
   "outputs": [
    {
     "name": "stdout",
     "output_type": "stream",
     "text": [
      "1.0385689890282131e-34\n"
     ]
    }
   ],
   "source": [
    "# De Broglie wavelength of a baseball.\n",
    "p = 0.145 * 44\n",
    "\n",
    "wavelength = h / p\n",
    "print(wavelength)"
   ]
  },
  {
   "cell_type": "code",
   "execution_count": 5,
   "metadata": {},
   "outputs": [
    {
     "name": "stdout",
     "output_type": "stream",
     "text": [
      "0.0009079614671293699\n"
     ]
    },
    {
     "ename": "",
     "evalue": "",
     "output_type": "error",
     "traceback": [
      "\u001b[1;31mThe Kernel crashed while executing code in the current cell or a previous cell. \n",
      "\u001b[1;31mPlease review the code in the cell(s) to identify a possible cause of the failure. \n",
      "\u001b[1;31mClick <a href='https://aka.ms/vscodeJupyterKernelCrash'>here</a> for more info. \n",
      "\u001b[1;31mView Jupyter <a href='command:jupyter.viewOutput'>log</a> for further details."
     ]
    }
   ],
   "source": [
    "# Force on a solar sail.\n",
    "\n",
    "# The solar constant is the amount of solar radiation received per unit area at the Earth's distance from the Sun. It is about 1361 W/m^2. = 1361 J/s/m^2\n",
    "solar_constant = 1361\n",
    "\n",
    "# Suppose the solar sail has an area of 100 m^2\n",
    "area = 100\n",
    "\n",
    "# The momentum of a photon is its energy divided by the speed of light. If the sail is perfectly reflective (a more realistic choice would be about 90%), then you get twice the momentum transfer.\n",
    "momentum_transfer = 2 * solar_constant / c\n",
    "\n",
    "# This is the force per unit area (pressure) on the sail. The total force is this times the area,\n",
    "force = momentum_transfer * area\n",
    "print(force)"
   ]
  },
  {
   "cell_type": "code",
   "execution_count": null,
   "metadata": {},
   "outputs": [],
   "source": []
  }
 ],
 "metadata": {
  "kernelspec": {
   "display_name": "Python 3",
   "language": "python",
   "name": "python3"
  },
  "language_info": {
   "codemirror_mode": {
    "name": "ipython",
    "version": 3
   },
   "file_extension": ".py",
   "mimetype": "text/x-python",
   "name": "python",
   "nbconvert_exporter": "python",
   "pygments_lexer": "ipython3",
   "version": "3.12.2"
  }
 },
 "nbformat": 4,
 "nbformat_minor": 2
}
