{
 "cells": [
  {
   "cell_type": "markdown",
   "id": "946af0a8",
   "metadata": {},
   "source": [
    "# Assignment: Introduction to GitHub and GitHub Classroom"
   ]
  },
  {
   "cell_type": "markdown",
   "id": "47178f00",
   "metadata": {},
   "source": [
    "All assignments will be uploaded and checked via [GitHub classroom](https://classroom.github.com/). \n",
    "\n",
    "1. Go through the course's [introduction to Version Control and GitHub](../documents/GitHub.md).\n",
    "1. You need to register on [GitHub](https://github.com/) in order to follow this tutorial. The registration process is described [here](https://www.wikihow.com/Create-an-Account-on-GitHub).\n",
    "1. When you set up your account use [this link](https://classroom.github.com/a/3WC36AqM) to connect to GitHub classroom. Once you follow the link you'll see ![p1](pics_ghf/1.png)\n",
    "1. Click `Accept the assignment`. ![p2](pics_ghf/2.png)\n",
    "1. Now you can update the page and see ![p3](pics_ghf/3.png)\n",
    "\n",
    "\n",
    "**Great job!** Together we created a repository with the task ![p4](pics_ghf/4.png)"
   ]
  },
  {
   "cell_type": "markdown",
   "id": "73a74598",
   "metadata": {},
   "source": [
    "## Your next task is to read the explanation in the document, then work through the tutorial/assignment at the end. This will teach you the basics of the GitHub workflow. "
   ]
  }
 ],
 "metadata": {
  "kernelspec": {
   "display_name": "Python 3 (ipykernel)",
   "language": "python",
   "name": "python3"
  },
  "language_info": {
   "codemirror_mode": {
    "name": "ipython",
    "version": 3
   },
   "file_extension": ".py",
   "mimetype": "text/x-python",
   "name": "python",
   "nbconvert_exporter": "python",
   "pygments_lexer": "ipython3",
   "version": "3.9.7"
  }
 },
 "nbformat": 4,
 "nbformat_minor": 5
}
