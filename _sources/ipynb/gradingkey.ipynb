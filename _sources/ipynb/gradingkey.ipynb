{
 "cells": [
  {
   "cell_type": "markdown",
   "metadata": {
    "nbgrader": {
     "grade": false,
     "grade_id": "preamble",
     "locked": true,
     "schema_version": 3,
     "solution": false,
     "task": false
    }
   },
   "source": [
    "# Using Python, Numpy, Jupyter, and Syzygy\n",
    "## &#x1f3af; Objective\n",
    "To practice using key tools that we'll need to use during this course.\n",
    "## &#x1f4dc; Instructions\n",
    "Before you turn this problem in, make sure everything runs as expected. First, restart the kernel (in the menubar, select Kernel → Restart) and then run all cells (in the menubar, select Cell → Run All).\n",
    "\n",
    "Make sure you delete the placeholder code/text and fill in any place that says \"YOUR CODE HERE\" or \"YOUR ANSWER HERE\". Please also fill in your name, username (the prefix to your @university.ext e-mail), and student ID number in the cell below."
   ]
  },
  {
   "cell_type": "code",
   "execution_count": null,
   "metadata": {},
   "outputs": [],
   "source": [
    "Name = \"First M. Last\"\n",
    "email_user_name = \"username\"\n",
    "ID_number = 1234567"
   ]
  },
  {
   "cell_type": "markdown",
   "metadata": {
    "nbgrader": {
     "grade": false,
     "grade_id": "problem_description",
     "locked": true,
     "schema_version": 3,
     "solution": false,
     "task": false
    }
   },
   "source": [
    "## &#128105;&#8205;&#128187; Compute Final Mark for a Single Student\n",
    "Write a Python function to compute the final mark for a student in this class. \n",
    "- **Input**: a list of assignment grades, a final exam grade, and a number of pages of extra credit that have been provided.\n",
    "- **Output**: the final mark. \n",
    "Grading Scheme:\n",
    "- Assignment grades are replaced by the final exam grade if the final exam grade is higher.\n",
    "- The final mark (without extra credit) is \n",
    "\n",
    "$$ \n",
    "\\text{total mark} = 0.2(\\text{final exam grade}) + 0.8(\\text{mean of assignment grades after replacements})\n",
    "$$\n",
    "- Extra credit counts by replacing a set percentage (up to 40%) of your final mark with a 100%. The percentage of your final mark that is replaced is given by the below formula. No more than 1200 pages of extra credit problems can be done.\n",
    "\n",
    "$$\n",
    "\\text{percent extra credit} = \\frac{\\text{number of pages of extra credit}}{1200} \\cdot 40\n",
    "$$"
   ]
  },
  {
   "cell_type": "code",
   "execution_count": 2,
   "metadata": {
    "nbgrader": {
     "grade": false,
     "grade_id": "autoformatter",
     "locked": true,
     "schema_version": 3,
     "solution": false,
     "task": false
    }
   },
   "outputs": [
    {
     "data": {
      "application/javascript": [
       "\n",
       "            setTimeout(function() {\n",
       "                var nbb_cell_id = 2;\n",
       "                var nbb_unformatted_code = \"%load_ext nb_black\";\n",
       "                var nbb_formatted_code = \"%load_ext nb_black\";\n",
       "                var nbb_cells = Jupyter.notebook.get_cells();\n",
       "                for (var i = 0; i < nbb_cells.length; ++i) {\n",
       "                    if (nbb_cells[i].input_prompt_number == nbb_cell_id) {\n",
       "                        if (nbb_cells[i].get_text() == nbb_unformatted_code) {\n",
       "                             nbb_cells[i].set_text(nbb_formatted_code);\n",
       "                        }\n",
       "                        break;\n",
       "                    }\n",
       "                }\n",
       "            }, 500);\n",
       "            "
      ],
      "text/plain": [
       "<IPython.core.display.Javascript object>"
      ]
     },
     "metadata": {},
     "output_type": "display_data"
    }
   ],
   "source": [
    "%load_ext nb_black"
   ]
  },
  {
   "cell_type": "code",
   "execution_count": 1,
   "metadata": {
    "nbgrader": {
     "grade": false,
     "grade_id": "one_student_grade",
     "locked": false,
     "schema_version": 3,
     "solution": true,
     "task": false
    }
   },
   "outputs": [
    {
     "name": "stdout",
     "output_type": "stream",
     "text": [
      "the final mark for the student in CHEM 3PA3:  80.0\n"
     ]
    }
   ],
   "source": [
    "import numpy as np\n",
    "\n",
    "\n",
    "def total_mark_xc(assignments, exam, extra_credit_pages=0):\n",
    "    \"\"\"Computes the final mark for one student in CHEM 3PA3 in 2021\n",
    "\n",
    "    Parameters\n",
    "    ----------\n",
    "    assignments : array_like\n",
    "        assignment grades.\n",
    "    exam : scalar\n",
    "        the grade on the final project/exam.\n",
    "    extra_credit_pages : scalar, optional\n",
    "        the number of extra credit pages. (default is 0)\n",
    "\n",
    "    Returns\n",
    "    -------\n",
    "    total_mark_xc : scalar\n",
    "         The final mark in the course, computed according to the syllabus.\n",
    "    \"\"\"\n",
    "\n",
    "    ### BEGIN SOLUTION\n",
    "    # Compute fraction of final mark that will be 100 due to extra credit\n",
    "    # Using the built-in 'min' function in Python\n",
    "    xc_fraction = (min(extra_credit_pages, 1200) / 1200) * (40 / 100)\n",
    "\n",
    "    # Replace assignment grades that are below the final exam/project mark with that mark.\n",
    "    assignments = np.where(assignments > np.array(exam), assignments, exam)\n",
    "\n",
    "    # Compute final mark ignoring extra credit\n",
    "    total_mark = 0.2 * exam + 0.8 * np.mean(assignments)\n",
    "\n",
    "    # Compute final mark including extra credit\n",
    "    total_mark = xc_fraction * 100 + (1 - xc_fraction) * total_mark\n",
    "\n",
    "    return total_mark\n",
    "\n",
    "\n",
    "# Special case just to test:\n",
    "assignments = [100, 100, 100, 100, 100, 100, 100, 100, 100, 100]\n",
    "exam = 0\n",
    "print(\"the final mark for the student in CHEM 3PA3: \", total_mark_xc(assignments, exam))\n",
    "### END SOLUTION"
   ]
  },
  {
   "cell_type": "code",
   "execution_count": 2,
   "metadata": {
    "nbgrader": {
     "grade": true,
     "grade_id": "one_student_test",
     "locked": true,
     "points": 100,
     "schema_version": 3,
     "solution": false,
     "task": false
    }
   },
   "outputs": [],
   "source": [
    "# It's good to always test to make sure your code is right.\n",
    "np.testing.assert_almost_equal(total_mark_xc([100, 100, 100, 100], 0), 80)\n",
    "np.testing.assert_almost_equal(total_mark_xc([0, 0], 100, 0), 100)\n",
    "np.testing.assert_almost_equal(total_mark_xc([0, 0], 0, 1200), 40)\n",
    "\n",
    "### BEGIN HIDDEN TESTS\n",
    "np.testing.assert_almost_equal(total_mark_xc([0, 0], 0, 2400), 40)\n",
    "assignments = [100, 100, 100, 30, 90, 50, 100, 0, 75, 80]\n",
    "np.testing.assert_almost_equal(total_mark_xc(assignments, 70, 500), 85.333333333333333)\n",
    "assignments = [0, 10, 20, 30, 40, 50, 60, 70, 80, 90, 100]\n",
    "np.testing.assert_almost_equal(total_mark_xc(assignments, 50, 700), 70.03030303030303)\n",
    "### END HIDDEN TESTS"
   ]
  },
  {
   "cell_type": "markdown",
   "metadata": {
    "nbgrader": {
     "grade": false,
     "grade_id": "multiple_students",
     "locked": true,
     "schema_version": 3,
     "solution": false,
     "task": false
    }
   },
   "source": [
    "## &#128105;&#8205;&#128187; Extend to Multiple students\n",
    "You can use Numpy to extend this analysis to multiple students. Suppose that you had assignments, finals, and extra credit for more than one student. Rewrite your function so it works for that case too. This extra credit problem is worth 15 \"points\", so you can make a 115 on this assignment.\n",
    "\n"
   ]
  },
  {
   "cell_type": "code",
   "execution_count": 5,
   "metadata": {
    "nbgrader": {
     "grade": false,
     "grade_id": "mult_student_code",
     "locked": false,
     "schema_version": 3,
     "solution": true,
     "task": false
    }
   },
   "outputs": [
    {
     "name": "stdout",
     "output_type": "stream",
     "text": [
      "the final mark for the student in CHEM 3PA3:  [ 80. 100.  40.]\n",
      "the final mark for the student in CHEM 3PA3:  [80.0, 100.0, 40.0]\n"
     ]
    },
    {
     "data": {
      "application/javascript": [
       "\n",
       "            setTimeout(function() {\n",
       "                var nbb_cell_id = 5;\n",
       "                var nbb_unformatted_code = \"import numpy as np\\n\\n\\ndef total_mark_xc_mult(assignments, exam, extra_credit_pages):\\n    \\\"\\\"\\\"Computes the final mark for multiple students CHEM 3PA3 in 2021\\n\\n    Parameters\\n    ----------\\n    assignments : array_like\\n        assignment grades; number-of-students by number-of-assignments\\n    exam : array_like\\n        the grade on the final project/exam for each student.\\n    extra_credit_pages : array_like\\n        the number of extra credit pages for each student\\n\\n    Returns\\n    -------the\\n    total_mark_xc : array_like\\n         The final mark in the course for all students, computed according to the syllabus.\\n    \\\"\\\"\\\"\\n\\n    ### BEGIN SOLUTION\\n    # Compute fraction of final mark that will be 100 due to extra credit\\n    # Using the built-in 'min' function in Python\\n    xc_fraction = (np.minimum(extra_credit_pages, np.repeat(1200, len(extra_credit_pages))) / 1200) * (40 / 100)\\n\\n    # Replace assignment grades that are below the final exam/project mark with that mark.\\n    assignments = np.where(assignments > np.array(exam)[:, np.newaxis], assignments, exam[:, np.newaxis])\\n    \\n    # Compute final mark ignoring extra credit\\n    total_mark = 0.2 * exam + 0.8 * np.mean(assignments,axis=1)\\n\\n    # Compute final mark including extra credit\\n    total_mult = xc_fraction * 100 + (1 - xc_fraction) * total_mark\\n\\n    return total_mult\\n\\n\\ndef total_mark_xc_mult_for(assignments, exam, extra_credit_pages):\\n    \\\"\\\"\\\"Computes the final mark for multiple students CHEM 3PA3 in 2021 using a for loop\\n\\n    Parameters\\n    ----------\\n    assignments : array_like\\n        assignment grades; number-of-students by number-of-assignments\\n    exam : array_like\\n        the grade on the final project/exam for each student.\\n    extra_credit_pages : array_like\\n        the number of extra credit pages for each student\\n\\n    Returns\\n    -------\\n    total_mark_xc : array_like\\n         The final mark in the course for all students, computed according to the syllabus.\\n    \\n    Notes\\n    -----\\n    This implementation is slower than the numpy-based solution, but should still be plenty fast.\\n    \\n    \\\"\\\"\\\"\\n    \\n    # Compute number of students\\n    n_students = len(extra_credit_pages)\\n    total_mult = []\\n    for i in range(n_students):\\n        total_mult.append(total_mark_xc(assignments[i], exam[i], extra_credit_pages[i]))\\n\\n    return total_mult\\n\\n# Special case just to test:\\nassignments = np.array([[100, 100, 100, 100], [0, 0, 0, 0], [0, 0, 0, 0]])\\nexam = np.array([0, 100, 0])\\nextra_credit_pages = np.array([0, 0, 1200])\\nprint(\\\"the final mark for the student in CHEM 3PA3: \\\", total_mark_xc_mult(assignments, exam,extra_credit_pages))\\nprint(\\\"the final mark for the student in CHEM 3PA3: \\\", total_mark_xc_mult_for(assignments, exam,extra_credit_pages))\\n### END SOLUTION\";\n",
       "                var nbb_formatted_code = \"import numpy as np\\n\\n\\ndef total_mark_xc_mult(assignments, exam, extra_credit_pages):\\n    \\\"\\\"\\\"Computes the final mark for multiple students CHEM 3PA3 in 2021\\n\\n    Parameters\\n    ----------\\n    assignments : array_like\\n        assignment grades; number-of-students by number-of-assignments\\n    exam : array_like\\n        the grade on the final project/exam for each student.\\n    extra_credit_pages : array_like\\n        the number of extra credit pages for each student\\n\\n    Returns\\n    -------the\\n    total_mark_xc : array_like\\n         The final mark in the course for all students, computed according to the syllabus.\\n    \\\"\\\"\\\"\\n\\n    ### BEGIN SOLUTION\\n    # Compute fraction of final mark that will be 100 due to extra credit\\n    # Using the built-in 'min' function in Python\\n    xc_fraction = (\\n        np.minimum(extra_credit_pages, np.repeat(1200, len(extra_credit_pages))) / 1200\\n    ) * (40 / 100)\\n\\n    # Replace assignment grades that are below the final exam/project mark with that mark.\\n    assignments = np.where(\\n        assignments > np.array(exam)[:, np.newaxis], assignments, exam[:, np.newaxis]\\n    )\\n\\n    # Compute final mark ignoring extra credit\\n    total_mark = 0.2 * exam + 0.8 * np.mean(assignments, axis=1)\\n\\n    # Compute final mark including extra credit\\n    total_mult = xc_fraction * 100 + (1 - xc_fraction) * total_mark\\n\\n    return total_mult\\n\\n\\ndef total_mark_xc_mult_for(assignments, exam, extra_credit_pages):\\n    \\\"\\\"\\\"Computes the final mark for multiple students CHEM 3PA3 in 2021 using a for loop\\n\\n    Parameters\\n    ----------\\n    assignments : array_like\\n        assignment grades; number-of-students by number-of-assignments\\n    exam : array_like\\n        the grade on the final project/exam for each student.\\n    extra_credit_pages : array_like\\n        the number of extra credit pages for each student\\n\\n    Returns\\n    -------\\n    total_mark_xc : array_like\\n         The final mark in the course for all students, computed according to the syllabus.\\n\\n    Notes\\n    -----\\n    This implementation is slower than the numpy-based solution, but should still be plenty fast.\\n\\n    \\\"\\\"\\\"\\n\\n    # Compute number of students\\n    n_students = len(extra_credit_pages)\\n    total_mult = []\\n    for i in range(n_students):\\n        total_mult.append(total_mark_xc(assignments[i], exam[i], extra_credit_pages[i]))\\n\\n    return total_mult\\n\\n\\n# Special case just to test:\\nassignments = np.array([[100, 100, 100, 100], [0, 0, 0, 0], [0, 0, 0, 0]])\\nexam = np.array([0, 100, 0])\\nextra_credit_pages = np.array([0, 0, 1200])\\nprint(\\n    \\\"the final mark for the student in CHEM 3PA3: \\\",\\n    total_mark_xc_mult(assignments, exam, extra_credit_pages),\\n)\\nprint(\\n    \\\"the final mark for the student in CHEM 3PA3: \\\",\\n    total_mark_xc_mult_for(assignments, exam, extra_credit_pages),\\n)\\n### END SOLUTION\";\n",
       "                var nbb_cells = Jupyter.notebook.get_cells();\n",
       "                for (var i = 0; i < nbb_cells.length; ++i) {\n",
       "                    if (nbb_cells[i].input_prompt_number == nbb_cell_id) {\n",
       "                        if (nbb_cells[i].get_text() == nbb_unformatted_code) {\n",
       "                             nbb_cells[i].set_text(nbb_formatted_code);\n",
       "                        }\n",
       "                        break;\n",
       "                    }\n",
       "                }\n",
       "            }, 500);\n",
       "            "
      ],
      "text/plain": [
       "<IPython.core.display.Javascript object>"
      ]
     },
     "metadata": {},
     "output_type": "display_data"
    }
   ],
   "source": [
    "import numpy as np\n",
    "\n",
    "\n",
    "def total_mark_xc_mult(assignments, exam, extra_credit_pages):\n",
    "    \"\"\"Computes the final mark for multiple students CHEM 3PA3 in 2021\n",
    "\n",
    "    Parameters\n",
    "    ----------\n",
    "    assignments : array_like\n",
    "        assignment grades; number-of-students by number-of-assignments\n",
    "    exam : array_like\n",
    "        the grade on the final project/exam for each student.\n",
    "    extra_credit_pages : array_like\n",
    "        the number of extra credit pages for each student\n",
    "\n",
    "    Returns\n",
    "    -------the\n",
    "    total_mark_xc : array_like\n",
    "         The final mark in the course for all students, computed according to the syllabus.\n",
    "    \"\"\"\n",
    "\n",
    "    ### BEGIN SOLUTION\n",
    "    # Compute fraction of final mark that will be 100 due to extra credit\n",
    "    # Using the built-in 'min' function in Python\n",
    "    xc_fraction = (np.minimum(extra_credit_pages, np.repeat(1200, len(extra_credit_pages))) / 1200) * (40 / 100)\n",
    "\n",
    "    # Replace assignment grades that are below the final exam/project mark with that mark.\n",
    "    assignments = np.where(assignments > np.array(exam)[:, np.newaxis], assignments, exam[:, np.newaxis])\n",
    "    \n",
    "    # Compute final mark ignoring extra credit\n",
    "    total_mark = 0.2 * exam + 0.8 * np.mean(assignments,axis=1)\n",
    "\n",
    "    # Compute final mark including extra credit\n",
    "    total_mult = xc_fraction * 100 + (1 - xc_fraction) * total_mark\n",
    "\n",
    "    return total_mult\n",
    "\n",
    "\n",
    "def total_mark_xc_mult_for(assignments, exam, extra_credit_pages):\n",
    "    \"\"\"Computes the final mark for multiple students CHEM 3PA3 in 2021 using a for loop.\n",
    "\n",
    "    Parameters\n",
    "    ----------\n",
    "    assignments : array_like\n",
    "        assignment grades; number-of-students by number-of-assignments\n",
    "    exam : array_like\n",
    "        the grade on the final project/exam for each student.\n",
    "    extra_credit_pages : array_like\n",
    "        the number of extra credit pages for each student\n",
    "\n",
    "    Returns\n",
    "    -------\n",
    "    total_mark_xc : array_like\n",
    "         The final mark in the course for all students, computed according to the syllabus.\n",
    "    \n",
    "    Notes\n",
    "    -----\n",
    "    This implementation is slower than the numpy-based solution, but should still be plenty fast.\n",
    "    \n",
    "    \"\"\"\n",
    "    \n",
    "    # Compute number of students\n",
    "    n_students = len(extra_credit_pages)\n",
    "    total_mult = []\n",
    "    for i in range(n_students):\n",
    "        total_mult.append(total_mark_xc(assignments[i], exam[i], extra_credit_pages[i]))\n",
    "\n",
    "    return total_mult\n",
    "\n",
    "# Special case just to test:\n",
    "assignments = np.array([[100, 100, 100, 100], [0, 0, 0, 0], [0, 0, 0, 0]])\n",
    "exam = np.array([0, 100, 0])\n",
    "extra_credit_pages = np.array([0, 0, 1200])\n",
    "print(\"the final mark for the student in CHEM 3PA3: \", total_mark_xc_mult(assignments, exam,extra_credit_pages))\n",
    "print(\"the final mark for the student in CHEM 3PA3: \", total_mark_xc_mult_for(assignments, exam,extra_credit_pages))\n",
    "### END SOLUTION\n"
   ]
  },
  {
   "cell_type": "code",
   "execution_count": 6,
   "metadata": {
    "nbgrader": {
     "grade": true,
     "grade_id": "mult_student_tests",
     "locked": true,
     "points": 15,
     "schema_version": 3,
     "solution": false,
     "task": false
    }
   },
   "outputs": [
    {
     "data": {
      "application/javascript": [
       "\n",
       "            setTimeout(function() {\n",
       "                var nbb_cell_id = 6;\n",
       "                var nbb_unformatted_code = \"assignments = np.array([[100, 100, 100, 100], [0, 0, 0, 0], [0, 0, 0, 0]])\\nexam = np.array([0, 100, 0])\\nextra_credit_pages = np.array([0, 0, 1200])\\nnp.testing.assert_almost_equal(\\n    total_mark_xc_mult(assignments, exam, extra_credit_pages), [80.0, 100.0, 40.0]\\n)\\n### BEGIN HIDDEN TESTS\\nassignments = np.array(\\n    [\\n        [100, 100, 100, 100],\\n        [0, 0, 0, 0],\\n        [0, 0, 0, 0],\\n        [0, 0, 0, 0],\\n        [0, 40, 70, 100],\\n    ]\\n)\\nexam = np.array([0, 100, 0, 0, 50])\\nextra_credit_pages = np.array([0, 0, 1200, 1800, 700])\\nnp.testing.assert_almost_equal(\\n    total_mark_xc_mult(assignments, exam, extra_credit_pages),\\n    [80.0, 100.0, 40.0, 40.0, 72.4],\\n)\\n\\n### END HIDDEN TESTS\";\n",
       "                var nbb_formatted_code = \"assignments = np.array([[100, 100, 100, 100], [0, 0, 0, 0], [0, 0, 0, 0]])\\nexam = np.array([0, 100, 0])\\nextra_credit_pages = np.array([0, 0, 1200])\\nnp.testing.assert_almost_equal(\\n    total_mark_xc_mult(assignments, exam, extra_credit_pages), [80.0, 100.0, 40.0]\\n)\\n### BEGIN HIDDEN TESTS\\nassignments = np.array(\\n    [\\n        [100, 100, 100, 100],\\n        [0, 0, 0, 0],\\n        [0, 0, 0, 0],\\n        [0, 0, 0, 0],\\n        [0, 40, 70, 100],\\n    ]\\n)\\nexam = np.array([0, 100, 0, 0, 50])\\nextra_credit_pages = np.array([0, 0, 1200, 1800, 700])\\nnp.testing.assert_almost_equal(\\n    total_mark_xc_mult(assignments, exam, extra_credit_pages),\\n    [80.0, 100.0, 40.0, 40.0, 72.4],\\n)\\n\\n### END HIDDEN TESTS\";\n",
       "                var nbb_cells = Jupyter.notebook.get_cells();\n",
       "                for (var i = 0; i < nbb_cells.length; ++i) {\n",
       "                    if (nbb_cells[i].input_prompt_number == nbb_cell_id) {\n",
       "                        if (nbb_cells[i].get_text() == nbb_unformatted_code) {\n",
       "                             nbb_cells[i].set_text(nbb_formatted_code);\n",
       "                        }\n",
       "                        break;\n",
       "                    }\n",
       "                }\n",
       "            }, 500);\n",
       "            "
      ],
      "text/plain": [
       "<IPython.core.display.Javascript object>"
      ]
     },
     "metadata": {},
     "output_type": "display_data"
    }
   ],
   "source": [
    "assignments = np.array([[100, 100, 100, 100], [0, 0, 0, 0], [0, 0, 0, 0]])\n",
    "exam = np.array([0, 100, 0])\n",
    "extra_credit_pages = np.array([0, 0, 1200])\n",
    "np.testing.assert_almost_equal(\n",
    "    total_mark_xc_mult(assignments, exam, extra_credit_pages), [80.0, 100.0, 40.0]\n",
    ")\n",
    "### BEGIN HIDDEN TESTS\n",
    "assignments = np.array(\n",
    "    [\n",
    "        [100, 100, 100, 100],\n",
    "        [0, 0, 0, 0],\n",
    "        [0, 0, 0, 0],\n",
    "        [0, 0, 0, 0],\n",
    "        [0, 40, 70, 100],\n",
    "    ]\n",
    ")\n",
    "exam = np.array([0, 100, 0, 0, 50])\n",
    "extra_credit_pages = np.array([0, 0, 1200, 1800, 700])\n",
    "np.testing.assert_almost_equal(\n",
    "    total_mark_xc_mult(assignments, exam, extra_credit_pages),\n",
    "    [80.0, 100.0, 40.0, 40.0, 72.4],\n",
    ")\n",
    "\n",
    "### END HIDDEN TESTS"
   ]
  }
 ],
 "metadata": {
  "celltoolbar": "Create Assignment",
  "kernelspec": {
   "display_name": "Python 3",
   "language": "python",
   "name": "python3"
  },
  "language_info": {
   "codemirror_mode": {
    "name": "ipython",
    "version": 3
   },
   "file_extension": ".py",
   "mimetype": "text/x-python",
   "name": "python",
   "nbconvert_exporter": "python",
   "pygments_lexer": "ipython3",
   "version": "3.8.3"
  },
  "latex_envs": {
   "LaTeX_envs_menu_present": true,
   "autoclose": false,
   "autocomplete": true,
   "bibliofile": "biblio.bib",
   "cite_by": "apalike",
   "current_citInitial": 1,
   "eqLabelWithNumbers": true,
   "eqNumInitial": 1,
   "hotkeys": {
    "equation": "Ctrl-E",
    "itemize": "Ctrl-I"
   },
   "labels_anchors": false,
   "latex_user_defs": false,
   "report_style_numbering": false,
   "user_envs_cfg": false
  },
  "toc": {
   "base_numbering": 1,
   "nav_menu": {},
   "number_sections": true,
   "sideBar": true,
   "skip_h1_title": false,
   "title_cell": "Table of Contents",
   "title_sidebar": "Contents",
   "toc_cell": false,
   "toc_position": {},
   "toc_section_display": true,
   "toc_window_display": false
  }
 },
 "nbformat": 4,
 "nbformat_minor": 4
}
