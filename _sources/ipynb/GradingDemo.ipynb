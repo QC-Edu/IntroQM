{
 "cells": [
  {
   "cell_type": "markdown",
   "metadata": {},
   "source": [
    "Assume that the grades one has are:\n",
    "- **Assignments:** 100, 100, 100, 30, 90, 50, 100, 0, 75, 80\n",
    "- **Final Exam/Project:** 70\n",
    "- **Extra Credit:** 500 problems"
   ]
  },
  {
   "cell_type": "code",
   "execution_count": 6,
   "metadata": {},
   "outputs": [
    {
     "name": "stdout",
     "output_type": "stream",
     "text": [
      "percentage of final mark that is 100 due to extra credit:  23.333333333333336\n"
     ]
    }
   ],
   "source": [
    "import numpy as np #import numpy\r\n",
    "\r\n",
    "assignments =  [0, 10, 20, 30, 40, 50, 60, 70, 80, 90, 100] #assignment marks\r\n",
    "final = 50       #final exam mark\r\n",
    "extra = 700/1200*40 #percent of your final mark that is 100 due to extra credit\r\n",
    "print('percentage of final mark that is 100 due to extra credit: ', extra)"
   ]
  },
  {
   "cell_type": "code",
   "execution_count": 7,
   "metadata": {},
   "outputs": [
    {
     "name": "stdout",
     "output_type": "stream",
     "text": [
      "New assignment grades after replacement with Final [ 50  50  50  50  50  50  60  70  80  90 100]\n",
      "old assignment average: 50.0\n",
      "new assignment average: 63.63636363636363\n"
     ]
    }
   ],
   "source": [
    "#replace assignment marks that are below the final mark with the final mark. \n",
    "new_assignments = np.where(assignments > np.array(final), assignments, final)\n",
    "\n",
    "#Print out new assignments to make sure they are sensible.\n",
    "print('New assignment grades after replacement with Final', new_assignments)\n",
    "print('old assignment average:', np.mean(assignments))\n",
    "print('new assignment average:', np.mean(new_assignments))"
   ]
  },
  {
   "cell_type": "code",
   "execution_count": 8,
   "metadata": {},
   "outputs": [
    {
     "name": "stdout",
     "output_type": "stream",
     "text": [
      "mark without extra credit:  60.90909090909091\n",
      "mark with extra credit:     70.03030303030303\n"
     ]
    }
   ],
   "source": [
    "#The overall mark is 20% from the final exam/project and 80% from the (revised) assignments\n",
    "mark = .2*final + .8*np.mean(new_assignments)\n",
    "\n",
    "#However, 50/1200 percent of the mark is a 100% due to the extra credit. \n",
    "adjusted_mark = extra + (1-extra/100)*mark\n",
    "\n",
    "print('mark without extra credit: ', mark)\n",
    "print('mark with extra credit:    ', adjusted_mark)"
   ]
  },
  {
   "cell_type": "code",
   "execution_count": null,
   "metadata": {},
   "outputs": [],
   "source": []
  },
  {
   "cell_type": "code",
   "execution_count": null,
   "metadata": {},
   "outputs": [],
   "source": []
  }
 ],
 "metadata": {
  "kernelspec": {
   "display_name": "Python 3",
   "language": "python",
   "name": "python3"
  },
  "language_info": {
   "codemirror_mode": {
    "name": "ipython",
    "version": 3
   },
   "file_extension": ".py",
   "mimetype": "text/x-python",
   "name": "python",
   "nbconvert_exporter": "python",
   "pygments_lexer": "ipython3",
   "version": "3.8.6"
  }
 },
 "nbformat": 4,
 "nbformat_minor": 4
}