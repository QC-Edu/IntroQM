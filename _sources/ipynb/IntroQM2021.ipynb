{
 "cells": [
  {
   "cell_type": "markdown",
   "metadata": {
    "toc": true
   },
   "source": [
    "<h1>Table of Contents<span class=\"tocSkip\"></span></h1>\n",
    "<div class=\"toc\"><ul class=\"toc-item\"><li><span><a href=\"#Introduction-to-Quantum-Mechanics\" data-toc-modified-id=\"Introduction-to-Quantum-Mechanics-1\"><span class=\"toc-item-num\">1&nbsp;&nbsp;</span>Introduction to Quantum Mechanics</a></span><ul class=\"toc-item\"><li><span><a href=\"#🎯-Objective¶\" data-toc-modified-id=\"🎯-Objective¶-1.1\"><span class=\"toc-item-num\">1.1&nbsp;&nbsp;</span>🎯 Objective¶</a></span></li><li><span><a href=\"#📜-Instructions\" data-toc-modified-id=\"📜-Instructions-1.2\"><span class=\"toc-item-num\">1.2&nbsp;&nbsp;</span>📜 Instructions</a></span></li><li><span><a href=\"#Wave-Particle-Duality\" data-toc-modified-id=\"Wave-Particle-Duality-1.3\"><span class=\"toc-item-num\">1.3&nbsp;&nbsp;</span>Wave-Particle Duality</a></span><ul class=\"toc-item\"><li><span><a href=\"#🎲-Particle-like-features-of-light.\" data-toc-modified-id=\"🎲-Particle-like-features-of-light.-1.3.1\"><span class=\"toc-item-num\">1.3.1&nbsp;&nbsp;</span>🎲 Particle-like features of light.</a></span></li><li><span><a href=\"#🖩-Properties-of-photons\" data-toc-modified-id=\"🖩-Properties-of-photons-1.3.2\"><span class=\"toc-item-num\">1.3.2&nbsp;&nbsp;</span>🖩 Properties of photons</a></span></li><li><span><a href=\"#🪙-Properties-of-photons\" data-toc-modified-id=\"🪙-Properties-of-photons-1.3.3\"><span class=\"toc-item-num\">1.3.3&nbsp;&nbsp;</span>🪙 Properties of photons</a></span></li><li><span><a href=\"#🪙-Properties-of-photons\" data-toc-modified-id=\"🪙-Properties-of-photons-1.3.4\"><span class=\"toc-item-num\">1.3.4&nbsp;&nbsp;</span>🪙 Properties of photons</a></span></li><li><span><a href=\"#🖩-Properties-of-photons\" data-toc-modified-id=\"🖩-Properties-of-photons-1.3.5\"><span class=\"toc-item-num\">1.3.5&nbsp;&nbsp;</span>🖩 Properties of photons</a></span></li><li><span><a href=\"#🎲-Properties-of-photons\" data-toc-modified-id=\"🎲-Properties-of-photons-1.3.6\"><span class=\"toc-item-num\">1.3.6&nbsp;&nbsp;</span>🎲 Properties of photons</a></span></li><li><span><a href=\"#🖩-Momentum-from-a-green-laser-pointer\" data-toc-modified-id=\"🖩-Momentum-from-a-green-laser-pointer-1.3.7\"><span class=\"toc-item-num\">1.3.7&nbsp;&nbsp;</span>🖩 Momentum from a green laser pointer</a></span></li><li><span><a href=\"#🖩-Wavelength-emitted-by-a-radiopharmaceutical\" data-toc-modified-id=\"🖩-Wavelength-emitted-by-a-radiopharmaceutical-1.3.8\"><span class=\"toc-item-num\">1.3.8&nbsp;&nbsp;</span>🖩 Wavelength emitted by a radiopharmaceutical</a></span></li><li><span><a href=\"#🪙-Davisson-Germer-experiment\" data-toc-modified-id=\"🪙-Davisson-Germer-experiment-1.3.9\"><span class=\"toc-item-num\">1.3.9&nbsp;&nbsp;</span>🪙 Davisson-Germer experiment</a></span></li><li><span><a href=\"#🎲-Davisson-Germer-experiment\" data-toc-modified-id=\"🎲-Davisson-Germer-experiment-1.3.10\"><span class=\"toc-item-num\">1.3.10&nbsp;&nbsp;</span>🎲 Davisson-Germer experiment</a></span></li><li><span><a href=\"#🖩-Rydberg's-Law\" data-toc-modified-id=\"🖩-Rydberg's-Law-1.3.11\"><span class=\"toc-item-num\">1.3.11&nbsp;&nbsp;</span>🖩 Rydberg's Law</a></span></li><li><span><a href=\"#🎲-Wave-properties-of-particles\" data-toc-modified-id=\"🎲-Wave-properties-of-particles-1.3.12\"><span class=\"toc-item-num\">1.3.12&nbsp;&nbsp;</span>🎲 Wave properties of particles</a></span></li><li><span><a href=\"#🎲-Particle-properties-of-waves\" data-toc-modified-id=\"🎲-Particle-properties-of-waves-1.3.13\"><span class=\"toc-item-num\">1.3.13&nbsp;&nbsp;</span>🎲 Particle properties of waves</a></span></li><li><span><a href=\"#🖩-Properties-of-photons\" data-toc-modified-id=\"🖩-Properties-of-photons-1.3.14\"><span class=\"toc-item-num\">1.3.14&nbsp;&nbsp;</span>🖩 Properties of photons</a></span></li><li><span><a href=\"#🖩-De-Broglie-wavelength-of-a-baseball\" data-toc-modified-id=\"🖩-De-Broglie-wavelength-of-a-baseball-1.3.15\"><span class=\"toc-item-num\">1.3.15&nbsp;&nbsp;</span>🖩 De Broglie wavelength of a baseball</a></span></li></ul></li><li><span><a href=\"#The-Schrödinger-Equation\" data-toc-modified-id=\"The-Schrödinger-Equation-1.4\"><span class=\"toc-item-num\">1.4&nbsp;&nbsp;</span>The Schrödinger Equation</a></span><ul class=\"toc-item\"><li><span><a href=\"#✍️-Time-Dependent-Schrödinger-Equation\" data-toc-modified-id=\"✍️-Time-Dependent-Schrödinger-Equation-1.4.1\"><span class=\"toc-item-num\">1.4.1&nbsp;&nbsp;</span>✍️ Time-Dependent Schrödinger Equation</a></span></li><li><span><a href=\"#🎲-Hamiltonian-operator\" data-toc-modified-id=\"🎲-Hamiltonian-operator-1.4.2\"><span class=\"toc-item-num\">1.4.2&nbsp;&nbsp;</span>🎲 Hamiltonian operator</a></span></li></ul></li><li><span><a href=\"#Mathematics\" data-toc-modified-id=\"Mathematics-1.5\"><span class=\"toc-item-num\">1.5&nbsp;&nbsp;</span>Mathematics</a></span><ul class=\"toc-item\"><li><span><a href=\"#🪙-Mathematical-Properties-of-the-wavefunction\" data-toc-modified-id=\"🪙-Mathematical-Properties-of-the-wavefunction-1.5.1\"><span class=\"toc-item-num\">1.5.1&nbsp;&nbsp;</span>🪙 Mathematical Properties of the wavefunction</a></span></li><li><span><a href=\"#🎲-Complex-Conjugation\" data-toc-modified-id=\"🎲-Complex-Conjugation-1.5.2\"><span class=\"toc-item-num\">1.5.2&nbsp;&nbsp;</span>🎲 Complex Conjugation</a></span></li><li><span><a href=\"#✍️-Complex-Conjugation\" data-toc-modified-id=\"✍️-Complex-Conjugation-1.5.3\"><span class=\"toc-item-num\">1.5.3&nbsp;&nbsp;</span>✍️ Complex Conjugation</a></span></li><li><span><a href=\"#🪙-Eigenfunctions-of-the-kinetic-energy-operator\" data-toc-modified-id=\"🪙-Eigenfunctions-of-the-kinetic-energy-operator-1.5.4\"><span class=\"toc-item-num\">1.5.4&nbsp;&nbsp;</span>🪙 Eigenfunctions of the kinetic-energy operator</a></span></li></ul></li></ul></li></ul></div>"
   ]
  },
  {
   "cell_type": "markdown",
   "metadata": {
    "deletable": false,
    "editable": false,
    "nbgrader": {
     "cell_type": "markdown",
     "checksum": "1ff6f7162139b798942da6f50754ff2b",
     "grade": false,
     "grade_id": "preamble",
     "locked": true,
     "schema_version": 3,
     "solution": false,
     "task": false
    }
   },
   "source": [
    "# Introduction to Quantum Mechanics\n",
    "\n",
    "##  &#x1f3af; Objective¶\n",
    "To review basic aspects of quantum mechanics.\n",
    "\n",
    "## &#x1f4dc; Instructions\n",
    "Before you turn this problem in, make sure everything runs as expected. First, restart the kernel (in the menubar, select Kernel → Restart) and then run all cells (in the menubar, select Cell → Run All).\n",
    "\n",
    "Make sure you fill in any place that says YOUR CODE HERE or \"YOUR ANSWER HERE\", as well as your name, username (the prefix to your @university.ext e-mail), and student ID number in the cell below"
   ]
  },
  {
   "cell_type": "markdown",
   "metadata": {},
   "source": [
    "> **Note**: You should remove \"not implemented errors\" after you complete your work on the solutions."
   ]
  },
  {
   "cell_type": "code",
   "execution_count": 1,
   "metadata": {
    "deletable": false,
    "nbgrader": {
     "cell_type": "code",
     "checksum": "2d172c677dd6189b8e74fd017254f433",
     "grade": true,
     "grade_id": "cell-347e783dba403114",
     "locked": false,
     "points": 0,
     "schema_version": 3,
     "solution": true,
     "task": false
    }
   },
   "outputs": [],
   "source": [
    "Name = \"First M. Last\"\n",
    "email_user_name = \"username\"\n",
    "ID_number = 1234567\n",
    "\n",
    "# It's useful to import these libraries. \n",
    "# You can import others or not even use these, though.\n",
    "import numpy as np\n",
    "import scipy\n",
    "from scipy import constants"
   ]
  },
  {
   "cell_type": "markdown",
   "metadata": {
    "deletable": false,
    "editable": false,
    "nbgrader": {
     "cell_type": "markdown",
     "checksum": "53d61f1575ef8163d3ee5802a88d396c",
     "grade": false,
     "grade_id": "preambleDuality",
     "locked": true,
     "schema_version": 3,
     "solution": false,
     "task": false
    }
   },
   "source": [
    "## Wave-Particle Duality"
   ]
  },
  {
   "cell_type": "markdown",
   "metadata": {
    "deletable": false,
    "editable": false,
    "nbgrader": {
     "cell_type": "markdown",
     "checksum": "dbd75758a444a710b8de2d0201880b80",
     "grade": false,
     "grade_id": "quDuality1",
     "locked": true,
     "schema_version": 3,
     "solution": false,
     "task": false
    }
   },
   "source": [
    "### &#x1f3b2; Particle-like features of light.\n",
    "Which of the following phenomena are strongly associated with the particle-like nature of light. <br>\n",
    "**A**. Blackbody radiation <br>\n",
    "**B**. Compton Scattering  <br>\n",
    "**C**. Electron Diffraction <br>\n",
    "**D**. Stern-Gerlach Experiment <br>\n",
    "**E**. Photoelectric effect "
   ]
  },
  {
   "cell_type": "code",
   "execution_count": null,
   "metadata": {
    "deletable": false,
    "nbgrader": {
     "cell_type": "code",
     "checksum": "41c8df37c8448cc6bb639411a1071c5d",
     "grade": false,
     "grade_id": "ansDuality1",
     "locked": false,
     "schema_version": 3,
     "solution": true,
     "task": false
    }
   },
   "outputs": [],
   "source": [
    "# Report your answer as a list, tuple, or set containing the correct answers. \n",
    "# For example, if the answers are A and C, then ad1 = [\"A\", \"C\"]. \n",
    "# I've initialized the answer to the empty list.\n",
    "ad1 = []\n",
    "\n",
    "# YOUR CODE HERE\n",
    "raise NotImplementedError()"
   ]
  },
  {
   "cell_type": "code",
   "execution_count": null,
   "metadata": {
    "deletable": false,
    "editable": false,
    "nbgrader": {
     "cell_type": "code",
     "checksum": "ce3f2fa237ae87db22cefa2e4cde0ae3",
     "grade": true,
     "grade_id": "testDuality1",
     "locked": true,
     "points": 5,
     "schema_version": 3,
     "solution": false,
     "task": false
    }
   },
   "outputs": [],
   "source": [
    "print(\"The following phenomena are associated with the particle-like nature of light:\", ad1)\n",
    "assert(isinstance(ad1,set) or isinstance(ad1,list) or isinstance(ad1,tuple))\n",
    "assert(len(ad1) > 0)"
   ]
  },
  {
   "cell_type": "markdown",
   "metadata": {
    "deletable": false,
    "nbgrader": {
     "cell_type": "markdown",
     "checksum": "0e3bf859be5d1211c88706bb2f6ab7a0",
     "grade": true,
     "grade_id": "explainDuality1",
     "locked": false,
     "points": 0,
     "schema_version": 3,
     "solution": true,
     "task": false
    }
   },
   "source": []
  },
  {
   "cell_type": "markdown",
   "metadata": {
    "deletable": false,
    "editable": false,
    "nbgrader": {
     "cell_type": "markdown",
     "checksum": "19ba30530424274ab8f1ac32621305c7",
     "grade": false,
     "grade_id": "quDuality2",
     "locked": true,
     "schema_version": 3,
     "solution": false,
     "task": false
    }
   },
   "source": [
    "### &#x1F5A9; Properties of photons\n",
    "What is the frequency of light in Hz ($s^{-1}$) of light with wavelength 500 nm?"
   ]
  },
  {
   "cell_type": "code",
   "execution_count": null,
   "metadata": {
    "deletable": false,
    "nbgrader": {
     "cell_type": "code",
     "checksum": "376e772f6db9be90017031778675718f",
     "grade": false,
     "grade_id": "ansDuality2",
     "locked": false,
     "schema_version": 3,
     "solution": true,
     "task": false
    }
   },
   "outputs": [],
   "source": [
    "# Use the code box as a calculator, but report your answer as a float. \n",
    "# ansDuality2 = float. I've initialized the answer to None.\n",
    "ad2 = None\n",
    "\n",
    "# YOUR CODE HERE\n",
    "raise NotImplementedError()"
   ]
  },
  {
   "cell_type": "code",
   "execution_count": null,
   "metadata": {
    "deletable": false,
    "editable": false,
    "nbgrader": {
     "cell_type": "code",
     "checksum": "49c115306e2d25216fd52670445fdad0",
     "grade": true,
     "grade_id": "testDuality2",
     "locked": true,
     "points": 5,
     "schema_version": 3,
     "solution": false,
     "task": false
    }
   },
   "outputs": [],
   "source": [
    "assert(isinstance(ad2,float))\n"
   ]
  },
  {
   "cell_type": "markdown",
   "metadata": {
    "deletable": false,
    "nbgrader": {
     "cell_type": "markdown",
     "checksum": "8782dc51a04479d94be5932165aa696e",
     "grade": true,
     "grade_id": "explainDuality2",
     "locked": false,
     "points": 0,
     "schema_version": 3,
     "solution": true,
     "task": false
    }
   },
   "source": []
  },
  {
   "cell_type": "markdown",
   "metadata": {
    "deletable": false,
    "editable": false,
    "nbgrader": {
     "cell_type": "markdown",
     "checksum": "c7f10b6a55f2e7947e840f6752b8dd19",
     "grade": false,
     "grade_id": "Q_frequency_doubles",
     "locked": true,
     "schema_version": 3,
     "solution": false,
     "task": false
    }
   },
   "source": [
    "### &#x1fa99; Properties of photons\n",
    "\n",
    "Doubling the wavelength of radiation doubles its frequency. (True/False)\n"
   ]
  },
  {
   "cell_type": "code",
   "execution_count": null,
   "metadata": {
    "deletable": false,
    "nbgrader": {
     "cell_type": "code",
     "checksum": "58d9b79ff18cd220ceb27f5cbadf532d",
     "grade": false,
     "grade_id": "A_frequency_doubles",
     "locked": false,
     "schema_version": 3,
     "solution": true,
     "task": false
    }
   },
   "outputs": [],
   "source": [
    "# Report your answer as a Boolean, so freq_double = True or freq_double = False\n",
    "freq_double = None\n",
    "\n",
    "# YOUR CODE HERE\n",
    "raise NotImplementedError()"
   ]
  },
  {
   "cell_type": "code",
   "execution_count": null,
   "metadata": {
    "deletable": false,
    "editable": false,
    "nbgrader": {
     "cell_type": "code",
     "checksum": "564b2dda43777a118ae635b1e8a9a473",
     "grade": true,
     "grade_id": "T_frequency_doubles",
     "locked": true,
     "points": 5,
     "schema_version": 3,
     "solution": false,
     "task": false
    }
   },
   "outputs": [],
   "source": [
    "assert(isinstance(freq_double,bool))\n",
    "print(\"It is\", freq_double, \"that when the wavelength of radiation doubles its frequency does also.\")"
   ]
  },
  {
   "cell_type": "markdown",
   "metadata": {
    "deletable": false,
    "editable": false,
    "nbgrader": {
     "cell_type": "markdown",
     "checksum": "a803670651c136442175bd96e18b8bed",
     "grade": false,
     "grade_id": "Q_speed_halves",
     "locked": true,
     "schema_version": 3,
     "solution": false,
     "task": false
    }
   },
   "source": [
    "### &#x1fa99; Properties of photons\n",
    "\n",
    "Doubling the wavelength of radiation halves its speed. (True/False)"
   ]
  },
  {
   "cell_type": "code",
   "execution_count": null,
   "metadata": {
    "deletable": false,
    "nbgrader": {
     "cell_type": "code",
     "checksum": "5771f17cc0b15e5c324053968e663563",
     "grade": false,
     "grade_id": "A_speed_halves",
     "locked": false,
     "schema_version": 3,
     "solution": true,
     "task": false
    }
   },
   "outputs": [],
   "source": [
    "# Report your answer as a Boolean, so speed_halves = True or speed_halves = False\n",
    "speed_halves = None\n",
    "\n",
    "# YOUR CODE HERE\n",
    "raise NotImplementedError()"
   ]
  },
  {
   "cell_type": "code",
   "execution_count": null,
   "metadata": {
    "deletable": false,
    "editable": false,
    "nbgrader": {
     "cell_type": "code",
     "checksum": "63ef181707576cda51e932227f14b207",
     "grade": true,
     "grade_id": "T_speed_halves",
     "locked": true,
     "points": 5,
     "schema_version": 3,
     "solution": false,
     "task": false
    }
   },
   "outputs": [],
   "source": [
    "assert(isinstance(speed_halves,bool))\n",
    "print(\"It is\", speed_halves, \"that when the wavelength of radiation doubles its speed halves.\")"
   ]
  },
  {
   "cell_type": "markdown",
   "metadata": {
    "deletable": false,
    "editable": false,
    "nbgrader": {
     "cell_type": "markdown",
     "checksum": "731c163a242f5f13a90334ab960c35c6",
     "grade": false,
     "grade_id": "Q_HeNe",
     "locked": true,
     "schema_version": 3,
     "solution": false,
     "task": false
    }
   },
   "source": [
    "### &#x1F5A9; Properties of photons\n",
    "A helium-neon laser emits light at 632.8 nm.  What is the energy of the photons generated by this laser, in Joules?"
   ]
  },
  {
   "cell_type": "code",
   "execution_count": null,
   "metadata": {
    "deletable": false,
    "nbgrader": {
     "cell_type": "code",
     "checksum": "766e578d0b5a9d080023849b4e451d34",
     "grade": false,
     "grade_id": "A_HeNe",
     "locked": false,
     "schema_version": 3,
     "solution": true,
     "task": false
    }
   },
   "outputs": [],
   "source": [
    "# Use the code box as a calculator, but report your answer as a float. \n",
    "# E_HeNe = float. I've initialized the answer to None.\n",
    "E_HeNe = None\n",
    "\n",
    "# YOUR CODE HERE\n",
    "raise NotImplementedError()"
   ]
  },
  {
   "cell_type": "code",
   "execution_count": null,
   "metadata": {
    "deletable": false,
    "editable": false,
    "nbgrader": {
     "cell_type": "code",
     "checksum": "72e55f3235243968d96d1523a01f9d8e",
     "grade": true,
     "grade_id": "T_HeNe",
     "locked": true,
     "points": 5,
     "schema_version": 3,
     "solution": false,
     "task": false
    }
   },
   "outputs": [],
   "source": [
    "assert(isinstance(E_HeNe,float))\n"
   ]
  },
  {
   "cell_type": "markdown",
   "metadata": {
    "deletable": false,
    "editable": false,
    "nbgrader": {
     "cell_type": "markdown",
     "checksum": "a6f91c1d1b23aec60368d6854b23614b",
     "grade": false,
     "grade_id": "Q_energy_doubles",
     "locked": true,
     "schema_version": 3,
     "solution": false,
     "task": false
    }
   },
   "source": [
    "### &#x1f3b2; Properties of photons\n",
    "\n",
    "Which of the following changes would double the energy of a photon: <br>\n",
    "**A**. Doubling its frequency <br>\n",
    "**B**. Doubling its wavelength <br>\n",
    "**C**. Doubling its momentum <br>\n",
    "**D**. Doubling its speed <br>\n",
    "**E**. Doubling its effective (relativistic) mass <br>\n",
    "**F**. Doubling its wavenumber. "
   ]
  },
  {
   "cell_type": "code",
   "execution_count": null,
   "metadata": {
    "deletable": false,
    "nbgrader": {
     "cell_type": "code",
     "checksum": "c4d0deb4ca65ffc17002f96df3a25401",
     "grade": false,
     "grade_id": "A_energy_doubles",
     "locked": false,
     "schema_version": 3,
     "solution": true,
     "task": false
    }
   },
   "outputs": [],
   "source": [
    "# Report your answer as a list, tuple, or set containing the correct answers. \n",
    "# For example, if the answers are A and C, then e_doubles = [\"A\", \"C\"]. \n",
    "# I've initialized the answer to the empty list.\n",
    "e_doubles = []\n",
    "\n",
    "# YOUR CODE HERE\n",
    "raise NotImplementedError()"
   ]
  },
  {
   "cell_type": "code",
   "execution_count": null,
   "metadata": {
    "deletable": false,
    "editable": false,
    "nbgrader": {
     "cell_type": "code",
     "checksum": "a84bee547b26ee26e0b3ac81e3623ff1",
     "grade": true,
     "grade_id": "T_energy_doubles",
     "locked": true,
     "points": 5,
     "schema_version": 3,
     "solution": false,
     "task": false
    }
   },
   "outputs": [],
   "source": [
    "print(\"Ways you can double the energy of a photon include\", e_doubles)\n",
    "assert(isinstance(e_doubles,set) or isinstance(e_doubles,list) or isinstance(e_doubles,tuple))\n",
    "assert(len(e_doubles) > 0)"
   ]
  },
  {
   "cell_type": "markdown",
   "metadata": {
    "deletable": false,
    "editable": false,
    "nbgrader": {
     "cell_type": "markdown",
     "checksum": "b9eb5aa171607b24b75973b8fb8a89f6",
     "grade": false,
     "grade_id": "Qgreenlaser",
     "locked": true,
     "schema_version": 3,
     "solution": false,
     "task": false
    }
   },
   "source": [
    "### &#x1F5A9; Momentum from a green laser pointer\n",
    "I have a high-powered green laser pointer (532 nm wavelength, 100 mW power) that I use for astronomical starspotting. If I shine this laser pointer on you, how much momentum, per second, will be transferred to you? Report your answer in SI units of kg m/s."
   ]
  },
  {
   "cell_type": "code",
   "execution_count": null,
   "metadata": {
    "deletable": false,
    "nbgrader": {
     "cell_type": "code",
     "checksum": "205e64c7c39d2da4aa3f2cdf0422c1fb",
     "grade": false,
     "grade_id": "Agreenlaser",
     "locked": false,
     "schema_version": 3,
     "solution": true,
     "task": false
    }
   },
   "outputs": [],
   "source": [
    "# Use the code box as a calculator, but report your answer as a float. \n",
    "# p_greenlaser = float. I've initialized the answer to None.\n",
    "p_greenlaser = None\n",
    "\n",
    "# YOUR CODE HERE\n",
    "raise NotImplementedError()"
   ]
  },
  {
   "cell_type": "code",
   "execution_count": null,
   "metadata": {
    "deletable": false,
    "editable": false,
    "nbgrader": {
     "cell_type": "code",
     "checksum": "9b88ae21b7d4eafe9d8661d6536dd838",
     "grade": true,
     "grade_id": "Tgreenlaser",
     "locked": true,
     "points": 5,
     "schema_version": 3,
     "solution": false,
     "task": false
    }
   },
   "outputs": [],
   "source": [
    "assert(isinstance(p_greenlaser,float))\n",
    "print(\"the momentum transfered per second is {0:.3e} kg m/s\".format(p_greenlaser))\n"
   ]
  },
  {
   "cell_type": "markdown",
   "metadata": {
    "deletable": false,
    "editable": false,
    "nbgrader": {
     "cell_type": "markdown",
     "checksum": "70df6a0b58b7657f1156138d2c7f007a",
     "grade": false,
     "grade_id": "QCo60",
     "locked": true,
     "schema_version": 3,
     "solution": false,
     "task": false
    }
   },
   "source": [
    "### &#x1F5A9; Wavelength emitted by a radiopharmaceutical\n",
    "The radioactive isotope Cobalt-60 is used in nuclear medicine to treat cancer. The energy emitted by Cobalt-60 is 1.29 x 10^11 J/mol. What is the wavelength of the emitted $\\gamma$ rays?"
   ]
  },
  {
   "cell_type": "code",
   "execution_count": null,
   "metadata": {
    "deletable": false,
    "nbgrader": {
     "cell_type": "code",
     "checksum": "fd2f98192fde54297eb47c8bce64f622",
     "grade": false,
     "grade_id": "ACo60",
     "locked": false,
     "schema_version": 3,
     "solution": true,
     "task": false
    }
   },
   "outputs": [],
   "source": [
    "# Use the code box as a calculator, but report your answer as a float. \n",
    "# wlength_Co60 = float. I've initialized the answer to None.\n",
    "wlength_Co60 = None\n",
    "\n",
    "# YOUR CODE HERE\n",
    "raise NotImplementedError()"
   ]
  },
  {
   "cell_type": "code",
   "execution_count": null,
   "metadata": {
    "deletable": false,
    "editable": false,
    "nbgrader": {
     "cell_type": "code",
     "checksum": "75e6cb979ffc369665e79918c2a96c5b",
     "grade": true,
     "grade_id": "TCo60",
     "locked": true,
     "points": 5,
     "schema_version": 3,
     "solution": false,
     "task": false
    }
   },
   "outputs": [],
   "source": [
    "assert(isinstance(wlength_C60,float))\n"
   ]
  },
  {
   "cell_type": "markdown",
   "metadata": {
    "deletable": false,
    "editable": false,
    "nbgrader": {
     "cell_type": "markdown",
     "checksum": "f66d026f6b96ff6c95a1b165d0eea0b9",
     "grade": false,
     "grade_id": "Qduality3",
     "locked": true,
     "schema_version": 3,
     "solution": false,
     "task": false
    }
   },
   "source": [
    "### &#x1fa99; Davisson-Germer experiment\n",
    "The Davisson-Germer experiment was among the first explicit verifications of the wave-like nature of electrons, and was foundational for modern electron diffraction methods. (True/False)"
   ]
  },
  {
   "cell_type": "code",
   "execution_count": null,
   "metadata": {
    "deletable": false,
    "nbgrader": {
     "cell_type": "code",
     "checksum": "478eadf3b9dc4441448536f4d6b072c1",
     "grade": false,
     "grade_id": "Adualit3",
     "locked": false,
     "schema_version": 3,
     "solution": true,
     "task": false
    }
   },
   "outputs": [],
   "source": [
    "# Report your answer as a Boolean, so ad3 = True or ad3 = False\n",
    "ad3 = None\n",
    "\n",
    "# YOUR CODE HERE\n",
    "raise NotImplementedError()"
   ]
  },
  {
   "cell_type": "code",
   "execution_count": null,
   "metadata": {
    "deletable": false,
    "editable": false,
    "nbgrader": {
     "cell_type": "code",
     "checksum": "b71a80d5a500b40e05483664ea4efaef",
     "grade": true,
     "grade_id": "Tdualit3",
     "locked": true,
     "points": 5,
     "schema_version": 3,
     "solution": false,
     "task": false
    }
   },
   "outputs": [],
   "source": [
    "assert(isinstance(ad3,bool))\n",
    "print(\"The answer is:\", ad3)"
   ]
  },
  {
   "cell_type": "markdown",
   "metadata": {
    "deletable": false,
    "nbgrader": {
     "cell_type": "markdown",
     "checksum": "65279b2a20eebe991ffb54f571785acd",
     "grade": true,
     "grade_id": "Edualit3",
     "locked": false,
     "points": 0,
     "schema_version": 3,
     "solution": true,
     "task": false
    }
   },
   "source": []
  },
  {
   "cell_type": "markdown",
   "metadata": {
    "deletable": false,
    "editable": false,
    "nbgrader": {
     "cell_type": "markdown",
     "checksum": "5dd043cc007fe3cea5589864a03bbe2b",
     "grade": false,
     "grade_id": "Qduality3b",
     "locked": true,
     "schema_version": 3,
     "solution": false,
     "task": false
    }
   },
   "source": [
    "### &#x1f3b2; Davisson-Germer experiment\n",
    "The Davisson-Germer experiment demonstrated that if you shine a beam of electrons on a metal crystal, the result is <br>\n",
    "**A**. the electrons are absorbed at “critical energies” similar to the optical (light) absorption spectrum. <br>\n",
    "**B**. the electrons scatter according to the Bragg law for X-ray scattering. <br>\n",
    "**C**. the electrons go right through the metal. <br>\n",
    "**D**. the metal gets very hot and becomes a dull red color (stimulated blackbody emission of radiation). <br>"
   ]
  },
  {
   "cell_type": "code",
   "execution_count": null,
   "metadata": {
    "deletable": false,
    "nbgrader": {
     "cell_type": "code",
     "checksum": "2b854f1d3e16563bd956de62bb93f313",
     "grade": false,
     "grade_id": "Aduality3b",
     "locked": false,
     "schema_version": 3,
     "solution": true,
     "task": false
    }
   },
   "outputs": [],
   "source": [
    "# Report your answer as a list, tuple, or set containing the correct answers. \n",
    "# For example, if the answers are A and C, then ad3b = [\"A\", \"C\"]. \n",
    "# I've initialized the answer to the empty list.\n",
    "ad3b = []\n",
    "\n",
    "# YOUR CODE HERE\n",
    "raise NotImplementedError()"
   ]
  },
  {
   "cell_type": "code",
   "execution_count": null,
   "metadata": {
    "deletable": false,
    "editable": false,
    "nbgrader": {
     "cell_type": "code",
     "checksum": "98e9e61fd15df1bdf008058592522fcf",
     "grade": true,
     "grade_id": "Tduality3b",
     "locked": true,
     "points": 5,
     "schema_version": 3,
     "solution": false,
     "task": false
    }
   },
   "outputs": [],
   "source": [
    "print(\"In the Davisson-Germer experiment\", ad3b)\n",
    "assert(isinstance(ad3b,set) or isinstance(ad3b,list) or isinstance(ad3b,tuple))\n",
    "assert(len(ad3b) == 1)"
   ]
  },
  {
   "cell_type": "markdown",
   "metadata": {
    "deletable": false,
    "editable": false,
    "nbgrader": {
     "cell_type": "markdown",
     "checksum": "5e839ead77534f3fdcef2673fa5e4377",
     "grade": false,
     "grade_id": "Qduality5",
     "locked": true,
     "schema_version": 3,
     "solution": false,
     "task": false
    }
   },
   "source": [
    "### &#x1F5A9; Rydberg's Law\n",
    "Rydberg's law says that the wavenumber for the absorptions for a one-electron atom/ion with atomic number Z is given by the expression\n",
    "$$ \\tilde{\\nu} = \\left( 1.0974 \\cdot 10^7 m^{-1}\\right) Z^2 \n",
    "\\left( \\frac{1}{n_1^2} - \\frac{1}{n_2^2} \\right) $$\n",
    "where $1 < n_1 < n_2 < \\inf$. Suppose you are given the Hydrogen atom in its ground state, $n_1=1$. What is the lowest absorption frequency?"
   ]
  },
  {
   "cell_type": "code",
   "execution_count": null,
   "metadata": {
    "deletable": false,
    "nbgrader": {
     "cell_type": "code",
     "checksum": "01ad6e6f1564ac8e7e2cbbcafdd4a3d6",
     "grade": false,
     "grade_id": "Aduality5",
     "locked": false,
     "schema_version": 3,
     "solution": true,
     "task": false
    }
   },
   "outputs": [],
   "source": [
    "# Use the code box as a calculator, but report your answer as a float. \n",
    "# ad5 = float. I've initialized the answer to None.\n",
    "ad5 = None\n",
    "\n",
    "# YOUR CODE HERE\n",
    "raise NotImplementedError()"
   ]
  },
  {
   "cell_type": "code",
   "execution_count": null,
   "metadata": {
    "deletable": false,
    "editable": false,
    "nbgrader": {
     "cell_type": "code",
     "checksum": "f64685bcd37fa8be2149f87124a3917c",
     "grade": true,
     "grade_id": "Tduality5",
     "locked": true,
     "points": 5,
     "schema_version": 3,
     "solution": false,
     "task": false
    }
   },
   "outputs": [],
   "source": [
    "assert(isinstance(ad5,float))\n"
   ]
  },
  {
   "cell_type": "markdown",
   "metadata": {
    "deletable": false,
    "nbgrader": {
     "cell_type": "markdown",
     "checksum": "68884834cad732631228dcbd55b70b22",
     "grade": true,
     "grade_id": "Eduality5",
     "locked": false,
     "points": 0,
     "schema_version": 3,
     "solution": true,
     "task": false
    }
   },
   "source": []
  },
  {
   "cell_type": "markdown",
   "metadata": {
    "deletable": false,
    "editable": false,
    "nbgrader": {
     "cell_type": "markdown",
     "checksum": "67b283e041db4f325576681961708da1",
     "grade": false,
     "grade_id": "Qduality6",
     "locked": true,
     "schema_version": 3,
     "solution": false,
     "task": false
    }
   },
   "source": [
    "### &#x1f3b2; Wave properties of particles\n",
    "Which of the following experimental results are often cited as examples of the wave-likeness of particles like electrons?  \n",
    "**A**. blackbody radiation  \n",
    "**B**. discrete emission lines in the hydrogen spectrum  \n",
    "**C**. photoelectric effect  \n",
    "**D**. Compton scattering of light by a particle  \n",
    "**E**. Electron scattering from a crystal"
   ]
  },
  {
   "cell_type": "code",
   "execution_count": null,
   "metadata": {
    "deletable": false,
    "nbgrader": {
     "cell_type": "code",
     "checksum": "3298f484794dcbe321a7b9eddc833261",
     "grade": false,
     "grade_id": "Aduality6",
     "locked": false,
     "schema_version": 3,
     "solution": true,
     "task": false
    }
   },
   "outputs": [],
   "source": [
    "# Report your answer as a list, tuple, or set containing the correct answers. \n",
    "# For example, if the answers are A and C, then ad6 = [\"A\", \"C\"]. \n",
    "# I've initialized the answer to the empty list.\n",
    "ad6 = []\n",
    "\n",
    "# YOUR CODE HERE\n",
    "raise NotImplementedError()"
   ]
  },
  {
   "cell_type": "code",
   "execution_count": null,
   "metadata": {
    "deletable": false,
    "editable": false,
    "nbgrader": {
     "cell_type": "code",
     "checksum": "789e6eb7e3aa65e6e4a4680acac3f71c",
     "grade": true,
     "grade_id": "Tduality6",
     "locked": true,
     "points": 5,
     "schema_version": 3,
     "solution": false,
     "task": false
    }
   },
   "outputs": [],
   "source": [
    "print(\"The following phenomena are associated with the wave-like nature of electrons:\", ad6)\n",
    "assert(isinstance(ad6,set) or isinstance(ad6,list) or isinstance(ad6,tuple))\n",
    "assert(len(ad6) > 0)\n"
   ]
  },
  {
   "cell_type": "markdown",
   "metadata": {
    "deletable": false,
    "editable": false,
    "nbgrader": {
     "cell_type": "markdown",
     "checksum": "a49d2b193da77dd8e5127b5b43f2187c",
     "grade": false,
     "grade_id": "Qduality7",
     "locked": true,
     "schema_version": 3,
     "solution": false,
     "task": false
    }
   },
   "source": [
    "###  &#x1f3b2; Particle properties of waves\n",
    "Which of the following experimental results are often cited as examples of the particle-likeness of radiation (light)?   \n",
    "**A**. blackbody radiation <br>\n",
    "**B**. discrete emission lines in the hydrogen spectrum <br>\n",
    "**C**. photoelectric effect <br>\n",
    "**D**. Compton scattering of light by a particle <br>\n",
    "**E**. Electron scattering from a crystal <br>"
   ]
  },
  {
   "cell_type": "code",
   "execution_count": null,
   "metadata": {
    "deletable": false,
    "nbgrader": {
     "cell_type": "code",
     "checksum": "ccbde0ac8edacc87c0bd1713e90341cd",
     "grade": false,
     "grade_id": "Aduality7",
     "locked": false,
     "schema_version": 3,
     "solution": true,
     "task": false
    }
   },
   "outputs": [],
   "source": [
    "# Report your answer as a list, tuple, or set containing the correct answers. \n",
    "# For example, if the answers are A and C, then ad7 = [\"A\", \"C\"]. \n",
    "# I've initialized the answer to the empty list.\n",
    "ad7 = []\n",
    "\n",
    "# YOUR CODE HERE\n",
    "raise NotImplementedError()"
   ]
  },
  {
   "cell_type": "code",
   "execution_count": null,
   "metadata": {
    "deletable": false,
    "editable": false,
    "nbgrader": {
     "cell_type": "code",
     "checksum": "572ec6528773bf62ac3ccd82616f82c2",
     "grade": true,
     "grade_id": "Tdualilty7",
     "locked": true,
     "points": 5,
     "schema_version": 3,
     "solution": false,
     "task": false
    }
   },
   "outputs": [],
   "source": [
    "print(\"The following phenomena are associated with the particle-like nature of light:\", ad7)\n",
    "assert(isinstance(ad7,set) or isinstance(ad7,list) or isinstance(ad7,tuple))\n",
    "assert(len(ad7) > 0)"
   ]
  },
  {
   "cell_type": "code",
   "execution_count": null,
   "metadata": {
    "deletable": false,
    "editable": false,
    "nbgrader": {
     "cell_type": "code",
     "checksum": "dc018f0caac6cf81895088095bb083f1",
     "grade": true,
     "grade_id": "Tduality9",
     "locked": true,
     "points": 0,
     "schema_version": 3,
     "solution": false,
     "task": false
    }
   },
   "outputs": [],
   "source": [
    "assert(isinstance(momentum_d9,float))\n",
    "assert(isinstance(frequency_d9,float))\n"
   ]
  },
  {
   "cell_type": "markdown",
   "metadata": {
    "deletable": false,
    "editable": false,
    "nbgrader": {
     "cell_type": "markdown",
     "checksum": "4cabac4d077b1ef19a43a467d60b9136",
     "grade": false,
     "grade_id": "Q_Ep_from_k",
     "locked": true,
     "schema_version": 3,
     "solution": false,
     "task": false
    }
   },
   "source": [
    "### &#x1F5A9; Properties of photons\n",
    "What is the momentum and energy of a photon with angular wavenumber $k=10^7 \\text{m}^{-1}$?"
   ]
  },
  {
   "cell_type": "code",
   "execution_count": null,
   "metadata": {
    "deletable": false,
    "nbgrader": {
     "cell_type": "code",
     "checksum": "406d8fcc7da1fe350540185ff14c42df",
     "grade": false,
     "grade_id": "A_Ep_from_K",
     "locked": false,
     "schema_version": 3,
     "solution": true,
     "task": false
    }
   },
   "outputs": [],
   "source": [
    "# Use the code box as a calculator, but report your answer as float(s). \n",
    "# I've initialized the answers to None.\n",
    "p_from_k = None   #momentum of the photon\n",
    "E_from_k = None   #Energy of the photon\n",
    "\n",
    "# YOUR CODE HERE\n",
    "raise NotImplementedError()"
   ]
  },
  {
   "cell_type": "code",
   "execution_count": null,
   "metadata": {
    "deletable": false,
    "editable": false,
    "nbgrader": {
     "cell_type": "code",
     "checksum": "c663fd0ace6b6aa5cb295e1cac69389d",
     "grade": true,
     "grade_id": "T_Ep_from_k",
     "locked": true,
     "points": 5,
     "schema_version": 3,
     "solution": false,
     "task": false
    }
   },
   "outputs": [],
   "source": [
    "assert(isinstance(p_from_k,float))\n",
    "assert(isinstance(E_from_k,float))\n"
   ]
  },
  {
   "cell_type": "markdown",
   "metadata": {
    "deletable": false,
    "nbgrader": {
     "cell_type": "markdown",
     "checksum": "044e1e8970d3326d19dc639b2f510e9a",
     "grade": true,
     "grade_id": "E_Ep_from_k",
     "locked": false,
     "points": 0,
     "schema_version": 3,
     "solution": true,
     "task": false
    }
   },
   "source": [
    "YOUR ANSWER HERE"
   ]
  },
  {
   "cell_type": "markdown",
   "metadata": {
    "deletable": false,
    "editable": false,
    "nbgrader": {
     "cell_type": "markdown",
     "checksum": "f71597094af620c53b2711a330fbc129",
     "grade": false,
     "grade_id": "Q_baseball",
     "locked": true,
     "schema_version": 3,
     "solution": false,
     "task": false
    }
   },
   "source": [
    "### &#x1F5A9; De Broglie wavelength of a baseball\n",
    "During departmental baseball games, your instructor insists that the only reason he strikes out is because of the De Broglie wavelength of the baseball means that even though he swings in the correct location, he still misses. Suppose that the opposing major-league-quality hurler throws the baseball (mass = 145 g) at 100 miles-per-hour (45 m/s). What is the De Broglie wavelength of the baseball?"
   ]
  },
  {
   "cell_type": "code",
   "execution_count": null,
   "metadata": {
    "deletable": false,
    "nbgrader": {
     "cell_type": "code",
     "checksum": "d382a47839d88568e12e0fa8df4a7592",
     "grade": false,
     "grade_id": "A_baseball",
     "locked": false,
     "schema_version": 3,
     "solution": true,
     "task": false
    }
   },
   "outputs": [],
   "source": [
    "# Use the code box as a calculator, but report your answer as float(s). \n",
    "# I've initialized the answer to None.\n",
    "wl_baseball = None   #wavelength of the baseball.\n",
    "\n",
    "# YOUR CODE HERE\n",
    "raise NotImplementedError()"
   ]
  },
  {
   "cell_type": "code",
   "execution_count": null,
   "metadata": {
    "deletable": false,
    "editable": false,
    "nbgrader": {
     "cell_type": "code",
     "checksum": "9d6912a8a1b18a1db2bff505e461e8ef",
     "grade": true,
     "grade_id": "T_baseball",
     "locked": true,
     "points": 5,
     "schema_version": 3,
     "solution": false,
     "task": false
    }
   },
   "outputs": [],
   "source": [
    "assert(isinstance(wl_baseball,float))\n"
   ]
  },
  {
   "cell_type": "markdown",
   "metadata": {
    "deletable": false,
    "editable": false,
    "nbgrader": {
     "cell_type": "markdown",
     "checksum": "7c4d85298718ad2ec7b92074a9efcdb5",
     "grade": false,
     "grade_id": "preambleSE",
     "locked": true,
     "schema_version": 3,
     "solution": false,
     "task": false
    }
   },
   "source": [
    "## The Schr&ouml;dinger Equation"
   ]
  },
  {
   "cell_type": "markdown",
   "metadata": {
    "deletable": false,
    "editable": false,
    "nbgrader": {
     "cell_type": "markdown",
     "checksum": "55c62a28285da0af23ff0904db2b4f46",
     "grade": false,
     "grade_id": "Qse_1",
     "locked": true,
     "schema_version": 3,
     "solution": false,
     "task": false
    }
   },
   "source": [
    "### &#x270d;&#xfe0f; Time-Dependent Schr&ouml;dinger Equation\n",
    "What is the time-dependent Schr&ouml;dinger equation for the complex conjugate of the wavefunction, $\\Psi^*$?\n",
    "Put your answer in the markdown cell below. You can drag and drop an attachment (of most types) to this cell also. "
   ]
  },
  {
   "cell_type": "markdown",
   "metadata": {
    "deletable": false,
    "nbgrader": {
     "cell_type": "markdown",
     "checksum": "c5a0bf1b19aff4f4f08e9cff18154255",
     "grade": true,
     "grade_id": "Ase_1",
     "locked": false,
     "points": 5,
     "schema_version": 3,
     "solution": true,
     "task": false
    }
   },
   "source": [
    "YOUR ANSWER HERE"
   ]
  },
  {
   "cell_type": "markdown",
   "metadata": {
    "deletable": false,
    "editable": false,
    "nbgrader": {
     "cell_type": "markdown",
     "checksum": "de96f48d2d905cd41e19cf47d5af91f8",
     "grade": false,
     "grade_id": "Qse_2",
     "locked": true,
     "schema_version": 3,
     "solution": false,
     "task": false
    }
   },
   "source": [
    "### &#x1f3b2; Hamiltonian operator\n",
    "The Hamiltonian operator corresponds to which observable property of a quantum system? <br>\n",
    "**A**. Action <br>\n",
    "**B**. Momentum <br>\n",
    "**C**. Kinetic Energy <br>\n",
    "**D**. De Broglie Wavelength <br>\n",
    "**E**. Total Energy <br>\n",
    "**F**. Angular Momentum <br>\n",
    "**G**. Entropy  \n",
    "**H**. Planck Mass"
   ]
  },
  {
   "cell_type": "code",
   "execution_count": null,
   "metadata": {
    "deletable": false,
    "nbgrader": {
     "cell_type": "code",
     "checksum": "32e3fc403471326ff7223ecdb41808a2",
     "grade": false,
     "grade_id": "Ase_2",
     "locked": false,
     "schema_version": 3,
     "solution": true,
     "task": false
    }
   },
   "outputs": [],
   "source": [
    "# Report your answer as a list, tuple, or set containing the correct answers. \n",
    "# For example, if the answers are A and C, then ansSE2 = [\"A\", \"C\"]. \n",
    "# I've initialized the answer to the empty list.\n",
    "ansSE2 = []\n",
    "\n",
    "# YOUR CODE HERE\n",
    "raise NotImplementedError()"
   ]
  },
  {
   "cell_type": "code",
   "execution_count": null,
   "metadata": {
    "deletable": false,
    "editable": false,
    "nbgrader": {
     "cell_type": "code",
     "checksum": "ab729afd0e5f325c4a2fa0d3b467f571",
     "grade": true,
     "grade_id": "Tse_2",
     "locked": true,
     "points": 5,
     "schema_version": 3,
     "solution": false,
     "task": false
    }
   },
   "outputs": [],
   "source": [
    "print(\"The Hamiltonian is the quantum-mechanical operator for:\", ansSE2)\n",
    "assert(isinstance(ansSE2,set) or isinstance(ansSE2,list) or isinstance(ansSE2,tuple))\n",
    "assert(len(ansSE2) == 1)"
   ]
  },
  {
   "cell_type": "markdown",
   "metadata": {
    "deletable": false,
    "editable": false,
    "nbgrader": {
     "cell_type": "markdown",
     "checksum": "a072fc09f837558b4967e6f396345ee2",
     "grade": false,
     "grade_id": "preambleMath",
     "locked": true,
     "schema_version": 3,
     "solution": false,
     "task": false
    }
   },
   "source": [
    "## Mathematics"
   ]
  },
  {
   "cell_type": "markdown",
   "metadata": {
    "deletable": false,
    "editable": false,
    "nbgrader": {
     "cell_type": "markdown",
     "checksum": "eb499a17f9375e2c4362101d0dfde61f",
     "grade": false,
     "grade_id": "QProb_canbe_negative",
     "locked": true,
     "schema_version": 3,
     "solution": false,
     "task": false
    }
   },
   "source": [
    "###  &#x1fa99; Mathematical Properties of the wavefunction\n",
    "A probability density can never be negative. (True/False)"
   ]
  },
  {
   "cell_type": "code",
   "execution_count": null,
   "metadata": {
    "deletable": false,
    "nbgrader": {
     "cell_type": "code",
     "checksum": "c3f6c340929e45dcd0812853111037d1",
     "grade": false,
     "grade_id": "AProb_canbe_negative",
     "locked": false,
     "schema_version": 3,
     "solution": true,
     "task": false
    }
   },
   "outputs": [],
   "source": [
    "# Report your answer as a Boolean, so prob_canbe_negative = True or = False\n",
    "prob_canbe_negative = None\n",
    "\n",
    "# YOUR CODE HERE\n",
    "raise NotImplementedError()"
   ]
  },
  {
   "cell_type": "code",
   "execution_count": null,
   "metadata": {
    "deletable": false,
    "editable": false,
    "nbgrader": {
     "cell_type": "code",
     "checksum": "255f5a7edb3d753a4e74df966834f1d7",
     "grade": true,
     "grade_id": "TProb_canbe_negative",
     "locked": true,
     "points": 5,
     "schema_version": 3,
     "solution": false,
     "task": false
    }
   },
   "outputs": [],
   "source": [
    "assert(isinstance(prob_canbe_negative,bool))\n",
    "print(\"It is\", prob_canbe_negative, \"that a probability density can be negative.\")"
   ]
  },
  {
   "cell_type": "markdown",
   "metadata": {
    "deletable": false,
    "editable": false,
    "nbgrader": {
     "cell_type": "markdown",
     "checksum": "d67bfcdff7180fa25902ab6a9da6170a",
     "grade": false,
     "grade_id": "Qzzstar",
     "locked": true,
     "schema_version": 3,
     "solution": false,
     "task": false
    }
   },
   "source": [
    "### &#x1f3b2; Complex Conjugation\n",
    "Let $z$ be a complex number. If $w$ is the product of $z$ and its complex \n",
    "conjugate, $w = z z^*$, which of the following is **always** true about $w$: <br>\n",
    "**A**. w is an imaginary number. <br>\n",
    "**B**. w is a complex number. <br>\n",
    "**C**. w is nonzero real number. <br>\n",
    "**D**. w is a nonnegative real number. <br>\n",
    "**E**. w is a nonzero complex number. <br>\n",
    "**F**. None of the above"
   ]
  },
  {
   "cell_type": "code",
   "execution_count": null,
   "metadata": {
    "deletable": false,
    "nbgrader": {
     "cell_type": "code",
     "checksum": "231eea77d9e9705cfe61c870d65b0f2e",
     "grade": false,
     "grade_id": "Azzstar",
     "locked": false,
     "schema_version": 3,
     "solution": true,
     "task": false
    }
   },
   "outputs": [],
   "source": [
    "# Report your answer as a list, tuple, or set containing the correct answers. \n",
    "# For example, if the answers are A and C, then zzstar = [\"A\", \"C\"]. \n",
    "# I've initialized the answer to the empty list.\n",
    "zzstar = []\n",
    "\n",
    "# YOUR CODE HERE\n",
    "raise NotImplementedError()"
   ]
  },
  {
   "cell_type": "code",
   "execution_count": null,
   "metadata": {
    "deletable": false,
    "editable": false,
    "nbgrader": {
     "cell_type": "code",
     "checksum": "7daba769a11279dc54d6b5e87ff0ad5c",
     "grade": true,
     "grade_id": "Tzzstar",
     "locked": true,
     "points": 5,
     "schema_version": 3,
     "solution": false,
     "task": false
    }
   },
   "outputs": [],
   "source": [
    "print(\"The product of a number and its complex conjugate is always\", zzstar)\n",
    "assert(isinstance(zzstar,set) or isinstance(zzstar,list) or isinstance(zzstar,tuple))\n",
    "assert(len(zzstar) > 0)"
   ]
  },
  {
   "cell_type": "markdown",
   "metadata": {
    "deletable": false,
    "editable": false,
    "nbgrader": {
     "cell_type": "markdown",
     "checksum": "a805bf387f8c19e8e7d067690e47f9e6",
     "grade": false,
     "grade_id": "qMath1",
     "locked": true,
     "schema_version": 3,
     "solution": false,
     "task": false
    }
   },
   "source": [
    "### &#x270d;&#xfe0f; Complex Conjugation\n",
    "What is the complex conjugate of \n",
    "$$ \\Psi(x,t) = A e^{(a+bi)(kx - \\omega t)} $$"
   ]
  },
  {
   "cell_type": "markdown",
   "metadata": {
    "deletable": false,
    "nbgrader": {
     "cell_type": "markdown",
     "checksum": "eae073598b73f1f49786f5124ed748e2",
     "grade": true,
     "grade_id": "aMath1",
     "locked": false,
     "points": 5,
     "schema_version": 3,
     "solution": true,
     "task": false
    }
   },
   "source": [
    "YOUR ANSWER HERE"
   ]
  },
  {
   "cell_type": "markdown",
   "metadata": {
    "deletable": false,
    "editable": false,
    "nbgrader": {
     "cell_type": "markdown",
     "checksum": "51f131bae91de70a0e74f0dbf61d2671",
     "grade": false,
     "grade_id": "Q_ke_eigenfunction",
     "locked": true,
     "schema_version": 3,
     "solution": false,
     "task": false
    }
   },
   "source": [
    "### &#x1fa99; Eigenfunctions of the kinetic-energy operator\n",
    "*Every* eigenfunction of the momentum operator is also an eigenfunction of the kinetic-energy operator, and vice versa. (True/False)"
   ]
  },
  {
   "cell_type": "code",
   "execution_count": null,
   "metadata": {
    "deletable": false,
    "nbgrader": {
     "cell_type": "code",
     "checksum": "a4efe63ac53bbd2cabc4b673fd7accf1",
     "grade": false,
     "grade_id": "A_ke_eigenfunction",
     "locked": false,
     "schema_version": 3,
     "solution": true,
     "task": false
    }
   },
   "outputs": [],
   "source": [
    "# Report your answer as a Boolean, so is_also_eigenfunction = True or = False\n",
    "is_also_eigenfunction = None\n",
    "\n",
    "# YOUR CODE HERE\n",
    "raise NotImplementedError()"
   ]
  },
  {
   "cell_type": "code",
   "execution_count": null,
   "metadata": {
    "deletable": false,
    "editable": false,
    "nbgrader": {
     "cell_type": "code",
     "checksum": "9ce1013adebd2d7eeef2a5f9419470c6",
     "grade": true,
     "grade_id": "T_ke_eigenfunction",
     "locked": true,
     "points": 5,
     "schema_version": 3,
     "solution": false,
     "task": false
    }
   },
   "outputs": [],
   "source": [
    "assert(isinstance(is_also_eigenfunction,bool))\n",
    "print(\"The answer is:\", is_also_eigenfunction)"
   ]
  }
 ],
 "metadata": {
  "kernelspec": {
   "display_name": "Python 3",
   "language": "python",
   "name": "python3"
  },
  "language_info": {
   "codemirror_mode": {
    "name": "ipython",
    "version": 3
   },
   "file_extension": ".py",
   "mimetype": "text/x-python",
   "name": "python",
   "nbconvert_exporter": "python",
   "pygments_lexer": "ipython3",
   "version": "3.8.3"
  },
  "latex_envs": {
   "LaTeX_envs_menu_present": true,
   "autoclose": false,
   "autocomplete": true,
   "bibliofile": "biblio.bib",
   "cite_by": "apalike",
   "current_citInitial": 1,
   "eqLabelWithNumbers": true,
   "eqNumInitial": 1,
   "hotkeys": {
    "equation": "Ctrl-E",
    "itemize": "Ctrl-I"
   },
   "labels_anchors": false,
   "latex_user_defs": false,
   "report_style_numbering": false,
   "user_envs_cfg": false
  },
  "toc": {
   "base_numbering": 1,
   "nav_menu": {},
   "number_sections": true,
   "sideBar": true,
   "skip_h1_title": false,
   "title_cell": "Table of Contents",
   "title_sidebar": "Contents",
   "toc_cell": true,
   "toc_position": {
    "height": "calc(100% - 180px)",
    "left": "10px",
    "top": "150px",
    "width": "274.6px"
   },
   "toc_section_display": true,
   "toc_window_display": false
  }
 },
 "nbformat": 4,
 "nbformat_minor": 4
}
