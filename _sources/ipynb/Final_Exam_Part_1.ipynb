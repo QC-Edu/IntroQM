{
 "cells": [
  {
   "cell_type": "markdown",
   "id": "funded-tolerance",
   "metadata": {
    "toc": true
   },
   "source": [
    "<h1>Contents<span class=\"tocSkip\"></span></h1>\n",
    "<div class=\"toc\"><ul class=\"toc-item\"><li><span><a href=\"#Part-1;-Final-Exam-CHEM-3PA3;-Winter-2021\" data-toc-modified-id=\"Part-1;-Final-Exam-CHEM-3PA3;-Winter-2021-1\"><span class=\"toc-item-num\">1&nbsp;&nbsp;</span>Part 1; Final Exam CHEM 3PA3; Winter 2021</a></span><ul class=\"toc-item\"><li><span><a href=\"#✍️-Write-the-Time-Dependent-Schrödinger-equation-for-one-particle,-in-three-dimensions,-confined-by-the-time-dependent-potential-$V(x,y,z,t)$.\" data-toc-modified-id=\"✍️-Write-the-Time-Dependent-Schrödinger-equation-for-one-particle,-in-three-dimensions,-confined-by-the-time-dependent-potential-$V(x,y,z,t)$.-1.1\"><span class=\"toc-item-num\">1.1&nbsp;&nbsp;</span>✍️ Write the Time-Dependent Schrödinger equation for one particle, in three dimensions, confined by the time-dependent potential $V(x,y,z,t)$.</a></span></li><li><span><a href=\"#✍️-Write-the-Time-Independent-Schrödinger-equation-for-a-one-electron-atom-with-atomic-number-$Z$-in-atomic-units.\" data-toc-modified-id=\"✍️-Write-the-Time-Independent-Schrödinger-equation-for-a-one-electron-atom-with-atomic-number-$Z$-in-atomic-units.-1.2\"><span class=\"toc-item-num\">1.2&nbsp;&nbsp;</span>✍️ Write the Time-Independent Schrödinger equation for a one-electron atom with atomic number $Z$ in atomic units.</a></span></li><li><span><a href=\"#🖩-Compute-properties-of-a-photon-with-wavelength-486.1-nm.\" data-toc-modified-id=\"🖩-Compute-properties-of-a-photon-with-wavelength-486.1-nm.-1.3\"><span class=\"toc-item-num\">1.3&nbsp;&nbsp;</span>🖩 Compute properties of a photon with wavelength 486.1 nm.</a></span></li><li><span><a href=\"#🧮-How-many-quantum-numbers-are-needed-to-label-the-eigenstates-of-the-following-Hamiltonian:\" data-toc-modified-id=\"🧮-How-many-quantum-numbers-are-needed-to-label-the-eigenstates-of-the-following-Hamiltonian:-1.4\"><span class=\"toc-item-num\">1.4&nbsp;&nbsp;</span>🧮 How many quantum numbers are needed to label the eigenstates of the following Hamiltonian:</a></span></li><li><span><a href=\"#🔀Below-is-a-list-of-terms-in-the-molecular-Hamiltonian,-together-with-their-mathematical-expressions.\" data-toc-modified-id=\"🔀Below-is-a-list-of-terms-in-the-molecular-Hamiltonian,-together-with-their-mathematical-expressions.-1.5\"><span class=\"toc-item-num\">1.5&nbsp;&nbsp;</span>🔀Below is a list of terms in the molecular Hamiltonian, together with their mathematical expressions.</a></span></li><li><span><a href=\"#🔀Below-are-lists-of-different-Hamiltonians-we-considered-in-the-course,-together-with-the-names-of-functions-that-are-related-to-their-solutions.\" data-toc-modified-id=\"🔀Below-are-lists-of-different-Hamiltonians-we-considered-in-the-course,-together-with-the-names-of-functions-that-are-related-to-their-solutions.-1.6\"><span class=\"toc-item-num\">1.6&nbsp;&nbsp;</span>🔀Below are lists of different Hamiltonians we considered in the course, together with the names of functions that are related to their solutions.</a></span></li><li><span><a href=\"#🖩-What-is-the-zero-point-energy-for-an-electron-confined-to-a-2-dimensional-circular-disk-of-radius-$4-\\text{-a.u.}$:\" data-toc-modified-id=\"🖩-What-is-the-zero-point-energy-for-an-electron-confined-to-a-2-dimensional-circular-disk-of-radius-$4-\\text{-a.u.}$:-1.7\"><span class=\"toc-item-num\">1.7&nbsp;&nbsp;</span>🖩 What is the zero-point energy for an electron confined to a 2-dimensional circular disk of radius $4 \\text{ a.u.}$:</a></span></li><li><span><a href=\"#✍️-Write-a-Slater-determinant-for-the-excited-state,-$1\\text{s}^2-2\\text{s}^1-3\\text{s}^1$-configuration-of-the-Beryllium-atom.\" data-toc-modified-id=\"✍️-Write-a-Slater-determinant-for-the-excited-state,-$1\\text{s}^2-2\\text{s}^1-3\\text{s}^1$-configuration-of-the-Beryllium-atom.-1.8\"><span class=\"toc-item-num\">1.8&nbsp;&nbsp;</span>✍️ Write a Slater determinant for the excited-state, $1\\text{s}^2 2\\text{s}^1 3\\text{s}^1$ configuration of the Beryllium atom.</a></span></li><li><span><a href=\"#🧮-Compute-properties-of-a-${}^{7}\\text{F}$-state.\" data-toc-modified-id=\"🧮-Compute-properties-of-a-${}^{7}\\text{F}$-state.-1.9\"><span class=\"toc-item-num\">1.9&nbsp;&nbsp;</span>🧮 Compute properties of a ${}^{7}\\text{F}$ state.</a></span></li><li><span><a href=\"#✍️-Solve-the-Schrödinger-equation-for-a-muon,-$\\mu^-$,-bound-to-Neon-nucleus.\" data-toc-modified-id=\"✍️-Solve-the-Schrödinger-equation-for-a-muon,-$\\mu^-$,-bound-to-Neon-nucleus.-1.10\"><span class=\"toc-item-num\">1.10&nbsp;&nbsp;</span>✍️ Solve the Schrödinger equation for a muon, $\\mu^-$, bound to Neon nucleus.</a></span></li><li><span><a href=\"#✍️-Write-an-expression-for-the-lowest-energy-molecular-orbital-of-$\\text{H}_3^{+2}$.\" data-toc-modified-id=\"✍️-Write-an-expression-for-the-lowest-energy-molecular-orbital-of-$\\text{H}_3^{+2}$.-1.11\"><span class=\"toc-item-num\">1.11&nbsp;&nbsp;</span>✍️ Write an expression for the lowest-energy molecular orbital of $\\text{H}_3^{+2}$.</a></span></li><li><span><a href=\"#The-next-two-questions-refer-to-the-Laplacian-operator.\" data-toc-modified-id=\"The-next-two-questions-refer-to-the-Laplacian-operator.-1.12\"><span class=\"toc-item-num\">1.12&nbsp;&nbsp;</span>The next two questions refer to the Laplacian operator.</a></span><ul class=\"toc-item\"><li><span><a href=\"#✍️-Show-that-$\\nabla^2$-is-a-linear,-Hermitian-operator.\" data-toc-modified-id=\"✍️-Show-that-$\\nabla^2$-is-a-linear,-Hermitian-operator.-1.12.1\"><span class=\"toc-item-num\">1.12.1&nbsp;&nbsp;</span>✍️ Show that $\\nabla^2$ is a linear, Hermitian operator.</a></span></li><li><span><a href=\"#✍️-Show-that-$\\nabla^2$-is-negative-definite.\" data-toc-modified-id=\"✍️-Show-that-$\\nabla^2$-is-negative-definite.-1.12.2\"><span class=\"toc-item-num\">1.12.2&nbsp;&nbsp;</span>✍️ Show that $\\nabla^2$ is negative definite.</a></span></li></ul></li><li><span><a href=\"#Expectation-values-of-$r^k$-and-related-properties-in-Hydrogenic-atoms.\" data-toc-modified-id=\"Expectation-values-of-$r^k$-and-related-properties-in-Hydrogenic-atoms.-1.13\"><span class=\"toc-item-num\">1.13&nbsp;&nbsp;</span>Expectation values of $r^k$ and related properties in Hydrogenic atoms.</a></span><ul class=\"toc-item\"><li><span><a href=\"#✍️-Expectation-value-of-$r^{-1}$-for-Hydrogenic-Atoms.\" data-toc-modified-id=\"✍️-Expectation-value-of-$r^{-1}$-for-Hydrogenic-Atoms.-1.13.1\"><span class=\"toc-item-num\">1.13.1&nbsp;&nbsp;</span>✍️ Expectation value of $r^{-1}$ for Hydrogenic Atoms.</a></span></li><li><span><a href=\"#🖩-Expectation-value-of-$r^2$-for-a-4f-orbital-in-the-hydrogen-atom.\" data-toc-modified-id=\"🖩-Expectation-value-of-$r^2$-for-a-4f-orbital-in-the-hydrogen-atom.-1.13.2\"><span class=\"toc-item-num\">1.13.2&nbsp;&nbsp;</span>🖩 Expectation value of $r^2$ for a 4f orbital in the hydrogen atom.</a></span></li><li><span><a href=\"#🖩-What-is-the-most-probable-distance-to-find-an-electron-from-the-nucleus-in-the-4f-orbital-of-a-hydrogen-atom?\" data-toc-modified-id=\"🖩-What-is-the-most-probable-distance-to-find-an-electron-from-the-nucleus-in-the-4f-orbital-of-a-hydrogen-atom?-1.13.3\"><span class=\"toc-item-num\">1.13.3&nbsp;&nbsp;</span>🖩 What is the most probable distance to find an electron from the nucleus in the 4f orbital of a hydrogen atom?</a></span></li><li><span><a href=\"#🖩-Heisenberg-Uncertainty-Principle\" data-toc-modified-id=\"🖩-Heisenberg-Uncertainty-Principle-1.13.4\"><span class=\"toc-item-num\">1.13.4&nbsp;&nbsp;</span>🖩 Heisenberg Uncertainty Principle</a></span></li><li><span><a href=\"#💰-Bonus:-Derive-an-expression-for-$\\sigma_r^2-\\sigma_p^2$-for-any-state-of-a-Hydrogenic-atom-with-$l=n-1$.\" data-toc-modified-id=\"💰-Bonus:-Derive-an-expression-for-$\\sigma_r^2-\\sigma_p^2$-for-any-state-of-a-Hydrogenic-atom-with-$l=n-1$.-1.13.5\"><span class=\"toc-item-num\">1.13.5&nbsp;&nbsp;</span>💰 Bonus: Derive an expression for $\\sigma_r^2 \\sigma_p^2$ for <em>any</em> state of a Hydrogenic atom with $l=n-1$.</a></span></li></ul></li><li><span><a href=\"#Eigenfunctions-and-Eigenvalues-for-a-two-dimensional-Quantum-Dot.\" data-toc-modified-id=\"Eigenfunctions-and-Eigenvalues-for-a-two-dimensional-Quantum-Dot.-1.14\"><span class=\"toc-item-num\">1.14&nbsp;&nbsp;</span>Eigenfunctions and Eigenvalues for a two-dimensional Quantum Dot.</a></span><ul class=\"toc-item\"><li><span><a href=\"#✍️-Write-expressions-for-the-eigenvalues-and-eigenfunctions-of-this-system.\" data-toc-modified-id=\"✍️-Write-expressions-for-the-eigenvalues-and-eigenfunctions-of-this-system.-1.14.1\"><span class=\"toc-item-num\">1.14.1&nbsp;&nbsp;</span>✍️ Write expressions for the eigenvalues and eigenfunctions of this system.</a></span></li><li><span><a href=\"#🖩-What-is-the-wavelength-that-corresponds-to-the-lowest-energy-excitation-when-$a_x-=-16$,-$a_y-=-9$,-and-$k_z-=-4$?\" data-toc-modified-id=\"🖩-What-is-the-wavelength-that-corresponds-to-the-lowest-energy-excitation-when-$a_x-=-16$,-$a_y-=-9$,-and-$k_z-=-4$?-1.14.2\"><span class=\"toc-item-num\">1.14.2&nbsp;&nbsp;</span>🖩 What is the wavelength that corresponds to the lowest-energy excitation when $a_x = 16$, $a_y = 9$, and $k_z = 4$?</a></span></li></ul></li><li><span><a href=\"#✍️-What-is-the-form-of-the-eigenfunctions-for-the-Kratzer-Fues-Potential\" data-toc-modified-id=\"✍️-What-is-the-form-of-the-eigenfunctions-for-the-Kratzer-Fues-Potential-1.15\"><span class=\"toc-item-num\">1.15&nbsp;&nbsp;</span>✍️ What is the form of the eigenfunctions for the Kratzer-Fues Potential</a></span><ul class=\"toc-item\"><li><span><a href=\"#💰-Bonus:-Write-an-expression-for-the-energy-eigenvalues-and-the-radial-eigenfunctions-of-the-Kratzer-Fues-potential.-This-isn't-100%-trivial,-but-try-to-see-how-far-you-can-get.\" data-toc-modified-id=\"💰-Bonus:-Write-an-expression-for-the-energy-eigenvalues-and-the-radial-eigenfunctions-of-the-Kratzer-Fues-potential.-This-isn't-100%-trivial,-but-try-to-see-how-far-you-can-get.-1.15.1\"><span class=\"toc-item-num\">1.15.1&nbsp;&nbsp;</span>💰 Bonus: Write an expression for the energy eigenvalues and the radial eigenfunctions of the Kratzer-Fues potential. This isn't 100% trivial, but try to see how far you can get.</a></span></li></ul></li></ul></li></ul></div>"
   ]
  },
  {
   "cell_type": "markdown",
   "id": "pregnant-aurora",
   "metadata": {
    "deletable": false,
    "editable": false,
    "nbgrader": {
     "cell_type": "markdown",
     "checksum": "d5a9daa518fe4ca113c1a6296f49bf79",
     "grade": false,
     "grade_id": "Intro",
     "locked": true,
     "schema_version": 3,
     "solution": false,
     "task": false
    }
   },
   "source": [
    "# Part 1; Final Exam CHEM 3PA3; Winter 2021\n",
    "\n",
    "&#x1f468;&#x200d;&#x1f3eb; **Overview:**\n",
    "This is Part 1 of 3 Parts of your Final Exam/Project. \n",
    "- Part 1. Questions on the Course Material. (40%)\n",
    "- Part 2. Applying the Course material. (40%)\n",
    "- Part 3. Discussing your exam and the Course Material. (20%) \n",
    "\n",
    "**You must submit your Jupyter notebooks for Part 1 and Part 2 at least 48 hours prior to your appointment for Part 3.** You will be given your grade on Part 1 and Part 2 before the oral exam, so that you know what your status is. *For late submission of Part 1 and/or Part 2, I will deduct 2 points per hour.\n",
    "\n",
    "\n",
    "&#x1f4dc; **Instructions:**\n",
    "Answer the following questions. These are worth 40% of your exam, and each question is worth 2 points. (Some questions have multiple parts.) There is also a bonus problem.\n",
    "- You can upload files for mathematical answers or type them in Markdown.\n",
    "- You can use the notebook as a calculator for numerical problems; but you can also just type in your answer computed offline.\n",
    "- You may find these [sheets containing reference data and mathematical formulas/identities](https://github.com/PaulWAyers/IntroQChem/blob/main/documents/ReferenceConstantsConversionsMath.pdf?raw=true) useful.\n",
    "- You may also find it useful to know that the [speed of light, in atomic units](https://en.wikipedia.org/wiki/Hartree_atomic_units), is 137.036 a.u..\n",
    "\n",
    "\n",
    "&#x1f4d6; **Rules for \"Open Book\" Exam:**\n",
    "**Like all other portions of this exam, this part of the exam is open notes and open library. It is \"open internet search\" but you (obviously!) can't post questions on an internet discussion board or homework/problem/exam help site. You are not allowed to communicate with your classmates or any other human being (except me) about these questions or your responses, and this includes human beings (singular or plural, known or anonymous) online.**\n",
    "\n",
    "\n",
    "&#x2611;&#xfe0f; **Checklist Before Submission:**\n",
    "- Make sure you fill in any place that says YOUR CODE HERE or \"YOUR ANSWER HERE\". \n",
    "- Remove \"Not Implemented Error\" where appropriate. \n",
    "- **Please put your name, username (the prefix to your @mcmaster.ca e-mail), and student ID number in the cell below.**\n",
    "- Before you turn these problems in, make sure everything runs as expected. \n",
    "  - First, restart the kernel (in the menubar, select Kernel → Restart). \n",
    "  - Then run all cells (in the menubar, select Cell → Run All). \n",
    "- Turn in your exam as a Jupyter notebook.\n",
    "\n"
   ]
  },
  {
   "cell_type": "code",
   "execution_count": null,
   "id": "sorted-ireland",
   "metadata": {
    "deletable": false,
    "nbgrader": {
     "cell_type": "code",
     "checksum": "472894ee5e67eeccaabe8192e4711a72",
     "grade": false,
     "grade_id": "Name",
     "locked": false,
     "schema_version": 3,
     "solution": true,
     "task": false
    }
   },
   "outputs": [],
   "source": [
    "Name = \"First M. Last\"\n",
    "email_user_name = \"username\"\n",
    "ID_number = 1234567\n",
    "\n",
    "# It's useful to import these libraries. \n",
    "# You can import others or not even use these, though.\n",
    "import numpy as np\n",
    "import scipy\n",
    "from scipy import constants"
   ]
  },
  {
   "cell_type": "markdown",
   "id": "awful-collaboration",
   "metadata": {
    "deletable": false,
    "editable": false,
    "nbgrader": {
     "cell_type": "markdown",
     "checksum": "5b1aacbac02d786fa75b21c4d97f93c0",
     "grade": false,
     "grade_id": "TDSE",
     "locked": true,
     "schema_version": 3,
     "solution": false,
     "task": false
    }
   },
   "source": [
    "## &#x270d;&#xfe0f; Write the Time-Dependent Schr&ouml;dinger equation for one particle, in three dimensions, confined by the time-dependent potential $V(x,y,z,t)$. \n",
    "**Note:** Write out the specific Hamiltonian; do not just write $\\hat{H}$. Report your answer in the below markdown cell. You can drag-and-drop a photo/screenshot/image of your answer to the cell, but before submitting please confirm that the image is appropriately embedded."
   ]
  },
  {
   "cell_type": "markdown",
   "id": "through-palestinian",
   "metadata": {
    "deletable": false,
    "nbgrader": {
     "cell_type": "markdown",
     "checksum": "cc7e44c2f9512f6242e31322629a9895",
     "grade": true,
     "grade_id": "TDSEans",
     "locked": false,
     "points": 2,
     "schema_version": 3,
     "solution": true,
     "task": false
    }
   },
   "source": [
    "YOUR ANSWER HERE"
   ]
  },
  {
   "cell_type": "markdown",
   "id": "alive-johnston",
   "metadata": {
    "deletable": false,
    "editable": false,
    "nbgrader": {
     "cell_type": "markdown",
     "checksum": "08609917bcc025c7679d683031980b7e",
     "grade": false,
     "grade_id": "TISE",
     "locked": true,
     "schema_version": 3,
     "solution": false,
     "task": false
    }
   },
   "source": [
    "## &#x270d;&#xfe0f; Write the Time-Independent Schr&ouml;dinger equation for a one-electron atom with atomic number $Z$ in atomic units.\n",
    "**Note:** Report your answer in the below Markdown Cell."
   ]
  },
  {
   "cell_type": "markdown",
   "id": "serious-paper",
   "metadata": {
    "deletable": false,
    "nbgrader": {
     "cell_type": "markdown",
     "checksum": "5e9e4f35feb2fe72149fbe0e3ea22a0d",
     "grade": true,
     "grade_id": "TISEans",
     "locked": false,
     "points": 2,
     "schema_version": 3,
     "solution": true,
     "task": false
    }
   },
   "source": [
    "YOUR ANSWER HERE"
   ]
  },
  {
   "cell_type": "markdown",
   "id": "inclusive-engine",
   "metadata": {
    "deletable": false,
    "editable": false,
    "nbgrader": {
     "cell_type": "markdown",
     "checksum": "c4327258228af1221dfe8c6a6595f28c",
     "grade": false,
     "grade_id": "LightProperties",
     "locked": true,
     "schema_version": 3,
     "solution": false,
     "task": false
    }
   },
   "source": [
    "## &#x1F5A9; Compute properties of a photon with wavelength 486.1 nm.\n",
    "The photon emitted when a 4p electron in the Hydrogen atom deexcites into a 2s orbital has wavelength 486.1 nm. Compute its\n",
    "- frequency in Hz\n",
    "- wavenumber, $\\bar{\\nu}$, in $\\text{cm}^{-1}$.\n",
    "- momentum in m kg/s\n",
    "- energy in Joules."
   ]
  },
  {
   "cell_type": "code",
   "execution_count": null,
   "id": "following-parent",
   "metadata": {
    "deletable": false,
    "nbgrader": {
     "cell_type": "code",
     "checksum": "0cc6fe9dd1dda341d37b275ebc3d36cc",
     "grade": false,
     "grade_id": "LightPropertiesAns",
     "locked": false,
     "schema_version": 3,
     "solution": true,
     "task": false
    }
   },
   "outputs": [],
   "source": [
    "# Give your answers as Floats. I have initialized the variables to None.\n",
    "frequency = None         #Frequency in Hz.\n",
    "wavenumber = None        #Wavenumber, nu-bar, in cm^-1\n",
    "momentum = None          #Momentum in SI units.\n",
    "energy = None            #Energy in SI units.\n",
    "\n",
    "# YOUR CODE HERE\n",
    "raise NotImplementedError()\n"
   ]
  },
  {
   "cell_type": "code",
   "execution_count": null,
   "id": "under-kelly",
   "metadata": {
    "deletable": false,
    "editable": false,
    "nbgrader": {
     "cell_type": "code",
     "checksum": "077a10ac8a4bac13fa235d3caba89d96",
     "grade": true,
     "grade_id": "LightPropertiesTest",
     "locked": true,
     "points": 2,
     "schema_version": 3,
     "solution": false,
     "task": false
    }
   },
   "outputs": [],
   "source": [
    "print(f\"The frequency of a photon with wavelength 486.1 nm is {frequency:.3e} Hz.\")\n",
    "print(f\"The wavenumber, nu-bar, of a photon with wavelength  486.1 nm is {wavenumber:.3e} cm^-1.\")\n",
    "print(f\"The momentum of a photon with wavelength  486.1 nm is {momentum:.3e} kg m/s.\")\n",
    "print(f\"The energy of a photon with wavelength  486.1 nm is {energy:.3e} Joules.\")\n",
    "\n",
    "assert(isinstance(frequency,float)), \"Type Error: The frequency should be a float.\"\n",
    "assert(isinstance(wavenumber,float)), \"Type Error: The wavenumber should be a float.\"\n",
    "assert(isinstance(momentum,float)), \"Type Error: The momentum should be a float.\"\n",
    "assert(isinstance(energy,float)), \"Type Error: The energy should be a float.\"\n"
   ]
  },
  {
   "cell_type": "markdown",
   "id": "broke-river",
   "metadata": {
    "deletable": false,
    "editable": false,
    "nbgrader": {
     "cell_type": "markdown",
     "checksum": "7ef300d608368d8174d2c1e90602b050",
     "grade": false,
     "grade_id": "QNumberCount",
     "locked": true,
     "schema_version": 3,
     "solution": false,
     "task": false
    }
   },
   "source": [
    "## &#x1f9ee; How many quantum numbers are needed to label the eigenstates of the following Hamiltonian:\n",
    "$$\n",
    "\\hat{H} =  -\\frac{\\hbar^2}{2m}\\frac{d^2}{dx_1^2} -\\frac{\\hbar^2}{2m}\\frac{d^2}{dy_1^2}\n",
    "-\\frac{\\hbar^2}{2m}\\frac{d^2}{dx_2^2}-\\frac{\\hbar^2}{2m}\\frac{d^2}{dy_2^2}\n",
    "+ x_1^2 + y_1^2 + x_2^2 + y_2^2\n",
    "+ e^{-2\\left(x_1^2 + y_1^2\\right)} + e^{-2\\left(x_2^2 + y_2^2\\right)} \n",
    "$$"
   ]
  },
  {
   "cell_type": "code",
   "execution_count": null,
   "id": "prescribed-aluminum",
   "metadata": {
    "deletable": false,
    "nbgrader": {
     "cell_type": "code",
     "checksum": "0a13f03f9b3cddeb006add417f68eb8f",
     "grade": false,
     "grade_id": "QNumberCountAns",
     "locked": false,
     "schema_version": 3,
     "solution": true,
     "task": false
    }
   },
   "outputs": [],
   "source": [
    "# Give your answer as an integer. I have initialized the variable to None\n",
    "number_of_quantum_nos = None\n",
    "\n",
    "# YOUR CODE HERE\n",
    "raise NotImplementedError()"
   ]
  },
  {
   "cell_type": "code",
   "execution_count": null,
   "id": "irish-depth",
   "metadata": {
    "deletable": false,
    "editable": false,
    "nbgrader": {
     "cell_type": "code",
     "checksum": "f4567bd1deb996b27ae69d7586048a6d",
     "grade": true,
     "grade_id": "QNumberCountTests",
     "locked": true,
     "points": 2,
     "schema_version": 3,
     "solution": false,
     "task": false
    }
   },
   "outputs": [],
   "source": [
    "print(f'The states of this Hamiltonian are labelled with {number_of_quantum_nos} quantum numbers.')\n",
    "\n",
    "assert isinstance(number_of_quantum_nos,int), \"Type error: The answer should be an integer.\"\n",
    "\n"
   ]
  },
  {
   "cell_type": "markdown",
   "id": "seven-ballot",
   "metadata": {
    "deletable": false,
    "editable": false,
    "nbgrader": {
     "cell_type": "markdown",
     "checksum": "298db0c198e353e955704d5c936256c7",
     "grade": false,
     "grade_id": "PiecesOfH",
     "locked": true,
     "schema_version": 3,
     "solution": false,
     "task": false
    }
   },
   "source": [
    "## &#x1f500;Below is a list of terms in the molecular Hamiltonian, together with their mathematical expressions. \n",
    "Match the verbal description of the term to its mathematical expression; the mathematical expressions are written in atomic units. Report your answer as a dictionary. The keys and values are:\n",
    "\n",
    "**Keys:**\n",
    "`electronic kinetic energy`, `nuclear kinetic energy`, `electron-electron repulsion potential`, `nucleus-nucleus repulsion potential`, `electron-nuclear attraction potential`\n",
    "\n",
    "**Values**:\n",
    "\"eq1\", \"eq2\", \"eq3\", \"eq4\", and \"eq5\", where\n",
    "\n",
    "`eq1`:  $ \\sum_{a=1}^{A-1} \\sum_{b=a+1}^A \\frac{Z_a Z_b}{\\left| \\mathbf{x}_a - \\mathbf{x}_b \\right|} $\n",
    "\n",
    "`eq2`:  $\\sum_{a=1}^A -\\tfrac{1}{2m_a} \\nabla^2_{\\mathbf{x}_a} $\n",
    "\n",
    "`eq2`:  $ \\sum_{i=1}^N \\sum_{a=1}^A -\\frac{Z_a}{\\left| \\mathbf{r}_i - \\mathbf{x}_a \\right|} $\n",
    "\n",
    "`eq4`:  $\\sum_{i=1}^N -\\tfrac{1}{2} \\nabla^2_{\\mathbf{r}_i} $\n",
    "\n",
    "`eq5`:  $ \\sum_{i=1}^{N-1} \\sum_{j=i+1}^N \\frac{1}{\\left| \\mathbf{r}_i - \\mathbf{r}_j \\right|} $\n",
    "\n",
    "\n",
    "For example, the following is an example of an *incorrect* answer with the correct format:\n",
    "```\n",
    "hamiltonian_terms = {'electronic kinetic energy':'eq1', 'nuclear kinetic energy':'eq2', 'electron-electron repulsion potential':'eq3', 'nucleus-nucleus repulsion potential':'eq4', 'electron-nuclear attraction potential':'eq5'}\n",
    "```"
   ]
  },
  {
   "cell_type": "code",
   "execution_count": null,
   "id": "emotional-electric",
   "metadata": {
    "code_folding": [],
    "deletable": false,
    "nbgrader": {
     "cell_type": "code",
     "checksum": "7b6d4e3110f6e16720afff1f62961aff",
     "grade": false,
     "grade_id": "PiecesOfHans",
     "locked": false,
     "schema_version": 3,
     "solution": true,
     "task": false
    }
   },
   "outputs": [],
   "source": [
    "# Enter your answer as a dictionary called hamiltonian_terms. \n",
    "# The below dictionary has the keys typed in already for you; you need to type in the values eq1, eq2, eq3, eq4, eq5 \n",
    "#      instead of the place-holder values listed here.\n",
    "hamiltonian_terms = {'electronic kinetic energy':'eq#', \n",
    "                     'nuclear kinetic energy':'eq#', \n",
    "                     'electron-electron repulsion potential':'eq#', \n",
    "                     'nucleus-nucleus repulsion potential':'eq#', \n",
    "                     'electron-nuclear attraction potential':'eq#'}\n",
    "# YOUR CODE HERE\n",
    "raise NotImplementedError()\n"
   ]
  },
  {
   "cell_type": "code",
   "execution_count": null,
   "id": "charged-swaziland",
   "metadata": {
    "deletable": false,
    "editable": false,
    "nbgrader": {
     "cell_type": "code",
     "checksum": "33571dc588ffb473d3718e9a35b67f81",
     "grade": true,
     "grade_id": "PiecesOfHtest",
     "locked": true,
     "points": 2,
     "schema_version": 3,
     "solution": false,
     "task": false
    }
   },
   "outputs": [],
   "source": [
    "print(hamiltonian_terms)\n",
    "\n",
    "assert len(hamiltonian_terms) == 5, \"There should be 5 key:value pairs in the hamiltonian_terms dictionary!\"\n",
    "\n",
    "k = ['electron-electron repulsion potential', 'electron-nuclear attraction potential', \n",
    "     'electronic kinetic energy', 'nuclear kinetic energy', 'nucleus-nucleus repulsion potential']\n",
    "v = ['eq1', 'eq2', 'eq3', 'eq4', 'eq5']\n",
    "assert sorted(hamiltonian_terms.keys()) == k, \"At least one key does not match the original dictionary\"\n",
    "assert sorted(hamiltonian_terms.values()) == v, \"At least one value does not match the equation labels\"\n"
   ]
  },
  {
   "cell_type": "markdown",
   "id": "final-pioneer",
   "metadata": {
    "deletable": false,
    "editable": false,
    "nbgrader": {
     "cell_type": "markdown",
     "checksum": "08e312eab317554bd229a0b0decc6555",
     "grade": false,
     "grade_id": "SpecialFunctions",
     "locked": true,
     "schema_version": 3,
     "solution": false,
     "task": false
    }
   },
   "source": [
    "## &#x1f500;Below are lists of different Hamiltonians we considered in the course, together with the names of functions that are related to their solutions. \n",
    "Match each operator with the type of (special) functions that are its eigenfunctions. Report your answer as a dictionary. The keys and values are:\n",
    "\n",
    "**Keys:**\n",
    "\n",
    "`Ham1`:  $ -\\frac{\\hbar^2}{2m} \\left(\\frac{1}{r^2} \\frac{d^2}{dr^2} + \\frac{1}{r} \\frac{d}{dr} - \\frac{l^2}{r^2} \\right) $\n",
    "\n",
    "`Ham2`:  $ - \\hbar^2 \\left[\\frac{1}{\\sin \\theta}\\frac{d}{d\\theta}\\sin\\theta\\frac{d}{d\\theta} \n",
    "+ \\frac{1}{\\sin^2 \\theta} \\frac{d^2}{d\\phi^2}\\right] $\n",
    "\n",
    "`Ham3`:  $ -\\frac{1}{2} \\left( \\frac{d^2}{dr^2} + \\frac{2}{r} \\frac{d}{dr}\\right) + \\frac{l(l+1)}{2r^2} - \\frac{Z}{r} $\n",
    "\n",
    "`Ham4`:  $ \\frac{d^2}{dx^2} $\n",
    "\n",
    "**Values**:\n",
    "`associated Laguerre polynomials`, `sines and cosines`, `Bessel functions`, `spherical harmonics`\n",
    "\n",
    "For example, the following is an example of an *incorrect* answer with the correct format:\n",
    "```\n",
    "eigenfunctions = {'Ham1':'associated Laguerre Polynomials', 'Ham2':'sines and cosines', 'Ham3':'spherical harmonics', 'Ham4':'Bessel functions'}\n",
    "```"
   ]
  },
  {
   "cell_type": "code",
   "execution_count": null,
   "id": "stuffed-anatomy",
   "metadata": {
    "deletable": false,
    "nbgrader": {
     "cell_type": "code",
     "checksum": "88779b43992a506abef1ec8c1936b50c",
     "grade": false,
     "grade_id": "SpecialFunctionsAns",
     "locked": false,
     "schema_version": 3,
     "solution": true,
     "task": false
    }
   },
   "outputs": [],
   "source": [
    "# Enter your answer as a dictionary called hamiltonian_terms. \n",
    "# The below dictionary has the values typed in already for you; you need to type in the keys Ham1, Ham2, Ham3, Ham4 \n",
    "#      instead of the place-holder values listed here.\n",
    "eigenfunctions = {'Ham#':'associated Laguerre Polynomials', \n",
    "                  'Ham#':'sines and cosines', \n",
    "                  'Ham#':'spherical harmonics', \n",
    "                  'Ham#':'Bessel functions'}\n",
    "# YOUR CODE HERE\n",
    "raise NotImplementedError()"
   ]
  },
  {
   "cell_type": "code",
   "execution_count": null,
   "id": "naughty-straight",
   "metadata": {
    "deletable": false,
    "editable": false,
    "nbgrader": {
     "cell_type": "code",
     "checksum": "fb265c33831ad5ac161ec589f1771b74",
     "grade": true,
     "grade_id": "SpecialFunctionsTests",
     "locked": true,
     "points": 2,
     "schema_version": 3,
     "solution": false,
     "task": false
    }
   },
   "outputs": [],
   "source": [
    "print(eigenfunctions)\n",
    "\n",
    "assert len(eigenfunctions) == 4, \"There should be 4 key:value pairs in the eigenfunctions dictionary!\"\n",
    "\n",
    "v = ['Bessel functions', 'associated Laguerre Polynomials', 'sines and cosines', 'spherical harmonics'] \n",
    "k = ['Ham1', 'Ham2', 'Ham3', 'Ham4']\n",
    "assert sorted(eigenfunctions.keys()) == k, \"At least one Hamiltonian label does not match the original dictionary\"\n",
    "assert sorted(eigenfunctions.values()) == v, \"At least one special function name does not match the original dictionary\"\n"
   ]
  },
  {
   "cell_type": "markdown",
   "id": "frequent-albert",
   "metadata": {
    "deletable": false,
    "editable": false,
    "nbgrader": {
     "cell_type": "markdown",
     "checksum": "915a6e13796db96cf71af00f686fc598",
     "grade": false,
     "grade_id": "PinDisk",
     "locked": true,
     "schema_version": 3,
     "solution": false,
     "task": false
    }
   },
   "source": [
    "## &#x1F5A9; What is the zero-point energy for an electron confined to a 2-dimensional circular disk of radius $4 \\text{ a.u.}$:\n",
    "- in Hartree atomic units? \n",
    "- in kJ/mol (kiloJoules per mole)?"
   ]
  },
  {
   "cell_type": "code",
   "execution_count": null,
   "id": "artistic-aluminum",
   "metadata": {
    "deletable": false,
    "nbgrader": {
     "cell_type": "code",
     "checksum": "7da148ca28d16a44dc908eb96f27f4c0",
     "grade": false,
     "grade_id": "PinDiskAns",
     "locked": false,
     "schema_version": 3,
     "solution": true,
     "task": false
    }
   },
   "outputs": [],
   "source": [
    "# You can use the code box as a calculator if you like; either way, report your answer as float(s). \n",
    "# I've initialized the answers to None.\n",
    "zero_pt_E_au = None                  #Energy in Hartree (atomic units)\n",
    "zero_pt_E_kJperMol = None            #Energy in kJ/mol (SI units)\n",
    "\n",
    "# YOUR CODE HERE\n",
    "raise NotImplementedError()"
   ]
  },
  {
   "cell_type": "code",
   "execution_count": null,
   "id": "composite-victorian",
   "metadata": {
    "deletable": false,
    "editable": false,
    "nbgrader": {
     "cell_type": "code",
     "checksum": "22c0de9f985af3f818fe33ae5e38a749",
     "grade": true,
     "grade_id": "PinDiskTests",
     "locked": true,
     "points": 2,
     "schema_version": 3,
     "solution": false,
     "task": false
    }
   },
   "outputs": [],
   "source": [
    "print(f'The zero-point energy of a electron confined to a disk of radius 4 Bohr is {zero_pt_E_au:.3f} Hartree.')\n",
    "print(f'The zero-point energy of a electron confined to a disk of radius 4 Bohr is {zero_pt_E_kJperMol:.3f} kJ/mol.')\n",
    "\n",
    "# basic tests:\n",
    "assert(isinstance(zero_pt_E_au,float)), \"The answer should be an float\"\n",
    "assert(isinstance(zero_pt_E_kJperMol,float)), \"The answer should be an integer\"\n"
   ]
  },
  {
   "cell_type": "markdown",
   "id": "signed-emperor",
   "metadata": {
    "deletable": false,
    "editable": false,
    "nbgrader": {
     "cell_type": "markdown",
     "checksum": "9b7857e0322aa4e8a5bce97508777e68",
     "grade": false,
     "grade_id": "BeSlDet",
     "locked": true,
     "schema_version": 3,
     "solution": false,
     "task": false
    }
   },
   "source": [
    "## &#x270d;&#xfe0f; Write a Slater determinant for the excited-state, $1\\text{s}^2 2\\text{s}^1 3\\text{s}^1$ configuration of the Beryllium atom. \n",
    "Assume that the unpaired electrons have the same spin. You may denote the spatial orbitals as $\\phi_{1s}(\\mathbf{r})$, $\\phi_{2s}(\\mathbf{r})$ and $\\phi_{3s}(\\mathbf{r})$."
   ]
  },
  {
   "cell_type": "markdown",
   "id": "elementary-roads",
   "metadata": {
    "deletable": false,
    "nbgrader": {
     "cell_type": "markdown",
     "checksum": "d04517d766a53600eacc2a3583fcd906",
     "grade": true,
     "grade_id": "BeSlDetAns",
     "locked": false,
     "points": 2,
     "schema_version": 3,
     "solution": true,
     "task": false
    }
   },
   "source": [
    "YOUR ANSWER HERE"
   ]
  },
  {
   "cell_type": "markdown",
   "id": "recent-there",
   "metadata": {
    "deletable": false,
    "editable": false,
    "nbgrader": {
     "cell_type": "markdown",
     "checksum": "fea9bd966bcc63db322cc7e2e190e63d",
     "grade": false,
     "grade_id": "SmTermSymbol",
     "locked": true,
     "schema_version": 3,
     "solution": false,
     "task": false
    }
   },
   "source": [
    "## &#x1f9ee; Compute properties of a ${}^{7}\\text{F}$ state.\n",
    "The ground-state term symbol for Samarium (Sm, atomic number 62) is ${}^{7}\\text{F}_0$.\n",
    "- How many nominally spatial and spin states are associated with the ${}^{7}\\text{F}$ term symbol? Answer with an integer.\n",
    "- In addition to J=0, what other J values are possible for the ${}^7{\\text{F}}$ term symbol? Answer with a set or list of integers.\n",
    "\n",
    "For example, for a triplet P state, we would have \n",
    "```\n",
    "multiplicity_3P = 9\n",
    "Jvalues_3P = [0,1,2]\n",
    "```"
   ]
  },
  {
   "cell_type": "code",
   "execution_count": null,
   "id": "delayed-atlanta",
   "metadata": {
    "deletable": false,
    "nbgrader": {
     "cell_type": "code",
     "checksum": "c37937f9b5c8320d3a53d2fc2b1647b1",
     "grade": false,
     "grade_id": "SmTermSymbolAns",
     "locked": false,
     "schema_version": 3,
     "solution": true,
     "task": false
    }
   },
   "outputs": [],
   "source": [
    "# Multiplicity of septuplet F state of Samarium (integer)\n",
    "multiplity_7F = None   \n",
    "\n",
    "# J values associated with septuplet F state of Samarium (set or list of integers)\n",
    "Jvalues_7F = None\n",
    "\n",
    "# YOUR CODE HERE\n",
    "raise NotImplementedError()\n"
   ]
  },
  {
   "cell_type": "code",
   "execution_count": null,
   "id": "impaired-hometown",
   "metadata": {
    "deletable": false,
    "editable": false,
    "nbgrader": {
     "cell_type": "code",
     "checksum": "24b802630251230034e769218d56d800",
     "grade": true,
     "grade_id": "SmTermSymbolTests",
     "locked": true,
     "points": 2,
     "schema_version": 3,
     "solution": false,
     "task": false
    }
   },
   "outputs": [],
   "source": [
    "print(f'A septuplet-F term is {multiplicity_7F}-fold degenerate and has J values {Jvalues_7F}.')\n",
    "      \n",
    "assert(isinstance(multiplicity_7F,int)), \"The multiplicity should be an integer\"\n",
    "assert(isinstance(Jvalues_7F,set) or isinstance(Jvalues_7F,list) or isinstance(Jvalues_7F,tuple)), \"The list of J values should be a list of integers.\"\n",
    "assert(len(Jvalues_7F) >= 1)\n",
    "      "
   ]
  },
  {
   "cell_type": "markdown",
   "id": "editorial-hungarian",
   "metadata": {
    "deletable": false,
    "editable": false,
    "nbgrader": {
     "cell_type": "markdown",
     "checksum": "a442596744e009f68721a5a90f837726",
     "grade": false,
     "grade_id": "muNe",
     "locked": true,
     "schema_version": 3,
     "solution": false,
     "task": false
    }
   },
   "source": [
    "## &#x270d;&#xfe0f; Solve the Schr&ouml;dinger equation for a muon, $\\mu^-$, bound to Neon nucleus.\n",
    "In [muonic atoms](https://en.wikipedia.org/wiki/Exotic_atom), a muon replaces an electron. The muon and the electron are both fermions, and they have the same charge. However, the mass of the muon is $207$ times the mass of the electron, $m_\\mu = 206.8 m_e$. \n",
    "\n",
    "Assuming the Born-Oppenheimer approximation is valid and that relativistic effects can be neglected, **what are the energy eigenfunctions and eigenvalues for a system composed of one $\\mu^-$ bound to a Neon nucleus.** "
   ]
  },
  {
   "cell_type": "markdown",
   "id": "eleven-commerce",
   "metadata": {
    "deletable": false,
    "nbgrader": {
     "cell_type": "markdown",
     "checksum": "65f2c0e0b941c56bc6c901ac569406f2",
     "grade": true,
     "grade_id": "muNeAns",
     "locked": false,
     "points": 2,
     "schema_version": 3,
     "solution": true,
     "task": false
    }
   },
   "source": [
    "YOUR ANSWER HERE"
   ]
  },
  {
   "cell_type": "markdown",
   "id": "harmful-compromise",
   "metadata": {
    "deletable": false,
    "editable": false,
    "nbgrader": {
     "cell_type": "markdown",
     "checksum": "192bb1369aa24d1f7ef51981d4a8ffe4",
     "grade": false,
     "grade_id": "H3MO",
     "locked": true,
     "schema_version": 3,
     "solution": false,
     "task": false
    }
   },
   "source": [
    "## &#x270d;&#xfe0f; Write an expression for the lowest-energy molecular orbital of $\\text{H}_3^{+2}$. \n",
    "You may assume that the system is well-described by the separated-atom limit, and that the Hydrogen atoms are arranged as an equilateral triangle ($\\text{D}_{3h}$ symmetry). You do not need to normalize the molecular orbital."
   ]
  },
  {
   "cell_type": "markdown",
   "id": "national-murder",
   "metadata": {
    "deletable": false,
    "nbgrader": {
     "cell_type": "markdown",
     "checksum": "7a61f37e1fe44649d964e82fc5ccc870",
     "grade": true,
     "grade_id": "H3MOAns",
     "locked": false,
     "points": 2,
     "schema_version": 3,
     "solution": true,
     "task": false
    }
   },
   "source": [
    "YOUR ANSWER HERE"
   ]
  },
  {
   "cell_type": "markdown",
   "id": "adolescent-paint",
   "metadata": {
    "deletable": false,
    "editable": false,
    "nbgrader": {
     "cell_type": "markdown",
     "checksum": "dcfb035baf9fc8cf3c3b22d2dcbaf2ac",
     "grade": false,
     "grade_id": "LapLinHermitian",
     "locked": true,
     "schema_version": 3,
     "solution": false,
     "task": false
    }
   },
   "source": [
    "## The next two questions refer to the Laplacian operator.\n",
    "In this question you will show, mathematically, that two properties of the Laplacian operator are true. It is OK (but not essential) to assume that you are interested in the Laplacian operator in 1 dimension, $\\nabla^2 = \\frac{d^2}{dx^2}$. \n",
    "Note: You may assume that the wavefunction, and its first first and second derivatives, vanish at the ends of the region of integration. However, there are also ways to answer these questions without explicitly invoking those assumptions.\n",
    "\n",
    "### &#x270d;&#xfe0f; Show that $\\nabla^2$ is a linear, Hermitian operator."
   ]
  },
  {
   "cell_type": "markdown",
   "id": "optional-collapse",
   "metadata": {
    "deletable": false,
    "nbgrader": {
     "cell_type": "markdown",
     "checksum": "3b11d5be8ccfcd203d8bb3015e06970e",
     "grade": true,
     "grade_id": "LapLinHermtianAns",
     "locked": false,
     "points": 2,
     "schema_version": 3,
     "solution": true,
     "task": false
    }
   },
   "source": [
    "YOUR ANSWER HERE"
   ]
  },
  {
   "cell_type": "markdown",
   "id": "solved-porcelain",
   "metadata": {
    "deletable": false,
    "editable": false,
    "nbgrader": {
     "cell_type": "markdown",
     "checksum": "ba14fd9938d7984460e7dc5276cfc833",
     "grade": false,
     "grade_id": "LapNegDefinite",
     "locked": true,
     "schema_version": 3,
     "solution": false,
     "task": false
    }
   },
   "source": [
    "### &#x270d;&#xfe0f; Show that $\\nabla^2$ is negative definite. \n",
    "That is, show that for *any* $\\Psi(\\mathbf{r})$, it is *always* true that \n",
    "$$\n",
    "\\langle \\Psi | \\nabla^2 | \\Psi \\rangle < 0\n",
    "$$"
   ]
  },
  {
   "cell_type": "markdown",
   "id": "graphic-canal",
   "metadata": {
    "deletable": false,
    "nbgrader": {
     "cell_type": "markdown",
     "checksum": "f2552c8b713dd9e5a36d8c7759be81ee",
     "grade": true,
     "grade_id": "LapNegDefiniteAns",
     "locked": false,
     "points": 2,
     "schema_version": 3,
     "solution": true,
     "task": false
    }
   },
   "source": [
    "YOUR ANSWER HERE"
   ]
  },
  {
   "cell_type": "markdown",
   "id": "accomplished-boulder",
   "metadata": {
    "deletable": false,
    "editable": false,
    "nbgrader": {
     "cell_type": "markdown",
     "checksum": "d7abc4419306e96bd2f0061f5171cf49",
     "grade": false,
     "grade_id": "cell-ba4dc80b1e37e38c",
     "locked": true,
     "schema_version": 3,
     "solution": false,
     "task": false
    }
   },
   "source": [
    "## Expectation values of $r^k$ and related properties in Hydrogenic atoms.\n",
    "The goal of this problem is to explore the radial distribution function and its expectation values for hydrogenic atoms. A key integral that will be useful is\n",
    "$$\n",
    "\\int_0^{\\infty} r^n e^{-\\beta r} dr = \\frac{n!}{\\beta^{n+1}}\n",
    "$$\n",
    "\n",
    "It is also useful to know [Kramer's recursion relation](https://phlconnect.ched.gov.ph/admin/uploads/81dc9bdb52d04dc20036dbd8313ed055/53-hydrogen-4.pdf) for radial expectation values. If $\\psi_{nlm}(r,\\theta,\\phi)$ denotes a normalized hydrogenic wavefunction, then Kramer's recursion states that:\n",
    "$$\n",
    "\\langle \\psi_{nlm} | r^k | \\psi_{nlm} \\rangle = a_{n}(k,Z) \\langle \\psi_{nlm} | r^{k-1} | \\psi_{nlm} \\rangle + b_{nl}(k,Z) \\langle \\psi_{nlm} | r^{k-2} | \\psi_{nlm} \\rangle\n",
    "$$\n",
    "where\n",
    "\n",
    "\\begin{align}\n",
    "a_{n}(k,Z) &=  \\frac{n^2(2k+1)}{(k+1)Z}\\\\\n",
    "b_{nl}(k,Z) &= \\frac{n^2 k \\left(k^2 - (2l+1)^2\\right)}{4Z^2(k+1)}\n",
    "\\end{align}\n",
    "A detailed derivation of this relation can be found [here](http://www.blazartheory.com/files/notes/qmnotes/Kramers__Relation.pdf). You will not *need* to use this relation in this problem; it's a matter of preference whether you use this relation or perform integrals.\n",
    "\n",
    "Throughout this problem you may use atomic units."
   ]
  },
  {
   "cell_type": "markdown",
   "id": "outside-framework",
   "metadata": {
    "deletable": false,
    "editable": false,
    "nbgrader": {
     "cell_type": "markdown",
     "checksum": "7ea228f41b7331f2047e3a71b3ab8fdf",
     "grade": false,
     "grade_id": "Hydrogenicr-1",
     "locked": true,
     "schema_version": 3,
     "solution": false,
     "task": false
    }
   },
   "source": [
    "### &#x270d;&#xfe0f; Expectation value of $r^{-1}$ for Hydrogenic Atoms.\n",
    "What is the expectation value of $r^{-1}$ for a Hydrogenic atom. That is, what is the expectation value of \n",
    "$$\n",
    "\\langle \\psi_{nlm} | r^{-1} | \\psi_{nlm} \\rangle\n",
    "$$\n",
    "for an electron bound to a nuclear of charge Z. *Report your answer as a float, in atomic units.*"
   ]
  },
  {
   "cell_type": "markdown",
   "id": "perfect-philip",
   "metadata": {
    "deletable": false,
    "nbgrader": {
     "cell_type": "markdown",
     "checksum": "80af7e2b83ed2771ffb0a1efa10ed9f9",
     "grade": true,
     "grade_id": "Hydrogenicr-1Ans",
     "locked": false,
     "points": 2,
     "schema_version": 3,
     "solution": true,
     "task": false
    }
   },
   "source": [
    "YOUR ANSWER HERE"
   ]
  },
  {
   "cell_type": "markdown",
   "id": "meaning-wesley",
   "metadata": {
    "deletable": false,
    "editable": false,
    "nbgrader": {
     "cell_type": "markdown",
     "checksum": "4e4b1235142f1897e7e095bb561c7949",
     "grade": false,
     "grade_id": "Hydrogenicr2",
     "locked": true,
     "schema_version": 3,
     "solution": false,
     "task": false
    }
   },
   "source": [
    "### &#x1F5A9; Expectation value of $r^2$ for a 4f orbital in the hydrogen atom.\n",
    "What is the expectation value of $r^2$ for the 4f orbital in the hydrogen atom (Z=1). That is, what is the expectation value of \n",
    "$$\n",
    "\\langle \\psi_{43m} | r^2 | \\psi_{43m} \\rangle\n",
    "$$\n",
    "in the Hydrogen atom? *Report your answer as a float, in atomic units.*\n",
    "\n",
    "If you wish, you can use the markdown cell at the end to explain your answer."
   ]
  },
  {
   "cell_type": "code",
   "execution_count": null,
   "id": "pressed-savings",
   "metadata": {
    "code_folding": [],
    "deletable": false,
    "nbgrader": {
     "cell_type": "code",
     "checksum": "2ace457216f6162e90115f22666432ea",
     "grade": false,
     "grade_id": "HydrogenicAns2",
     "locked": false,
     "schema_version": 3,
     "solution": true,
     "task": false
    }
   },
   "outputs": [],
   "source": [
    "# Expectation value of r^2 for a 4f orbital in the hydrogen atom (Z=1) in atomic units (Bohr^2). \n",
    "# I have initialized the variable to None. Give your answer in atomic units (Bohr).\n",
    "avg_r2 = None    \n",
    "\n",
    "# YOUR CODE HERE\n",
    "raise NotImplementedError()"
   ]
  },
  {
   "cell_type": "code",
   "execution_count": null,
   "id": "confused-graham",
   "metadata": {
    "deletable": false,
    "editable": false,
    "nbgrader": {
     "cell_type": "code",
     "checksum": "6e83d9764fa53c8bb054c61ff5658726",
     "grade": true,
     "grade_id": "Hydrogenicr2Tests",
     "locked": true,
     "points": 2,
     "schema_version": 3,
     "solution": false,
     "task": false
    }
   },
   "outputs": [],
   "source": [
    "print(f'The expectation value of r^2 for an electron in the 4f orbital of the hydrogen atom is {avg_r2:.2f} Bohr^2.')\n"
   ]
  },
  {
   "cell_type": "markdown",
   "id": "hollywood-indonesia",
   "metadata": {
    "deletable": false,
    "nbgrader": {
     "cell_type": "markdown",
     "checksum": "d3a47e252038817bb449196feb6f9b2e",
     "grade": true,
     "grade_id": "Hydrogenicr2Ans1",
     "locked": false,
     "points": 0,
     "schema_version": 3,
     "solution": true,
     "task": false
    }
   },
   "source": [
    "YOUR ANSWER HERE"
   ]
  },
  {
   "cell_type": "markdown",
   "id": "structural-update",
   "metadata": {
    "deletable": false,
    "editable": false,
    "nbgrader": {
     "cell_type": "markdown",
     "checksum": "37c64afa0e93a4f06df38b5a005d4a04",
     "grade": false,
     "grade_id": "Hydrogenmp",
     "locked": true,
     "schema_version": 3,
     "solution": false,
     "task": false
    }
   },
   "source": [
    "### &#x1F5A9; What is the most probable distance to find an electron from the nucleus in the 4f orbital of a hydrogen atom?\n",
    "Report your answer in Bohr (atomic units).\n",
    "\n",
    "If you wish, you can use the markdown cell at the end to explain your answer."
   ]
  },
  {
   "cell_type": "code",
   "execution_count": null,
   "id": "loose-counter",
   "metadata": {
    "deletable": false,
    "nbgrader": {
     "cell_type": "code",
     "checksum": "b50ba2ee6d4caf8e446face8eafdf7ee",
     "grade": false,
     "grade_id": "HydrogenmpAns1",
     "locked": false,
     "schema_version": 3,
     "solution": true,
     "task": false
    }
   },
   "outputs": [],
   "source": [
    "# Most probable distance at which to observe an electron in the 4f orbital from the nucleus of the hydrogen atom.\n",
    "# I have initialized the variable to None. Give your answer in atomic units (Bohr).\n",
    "dist_mostprob = None    \n",
    "\n",
    "# YOUR CODE HERE\n",
    "raise NotImplementedError()"
   ]
  },
  {
   "cell_type": "code",
   "execution_count": null,
   "id": "transparent-morocco",
   "metadata": {
    "deletable": false,
    "editable": false,
    "nbgrader": {
     "cell_type": "code",
     "checksum": "954ef1647d9aa287add7bfacf17bfb37",
     "grade": true,
     "grade_id": "HydrogenmpTests",
     "locked": true,
     "points": 2,
     "schema_version": 3,
     "solution": false,
     "task": false
    }
   },
   "outputs": [],
   "source": [
    "print(f'The most probable value of the distance from the nucleus for a 4f electron in Hydrogen is {dist_mostprob:.2f} Bohr.')\n"
   ]
  },
  {
   "cell_type": "markdown",
   "id": "separate-quest",
   "metadata": {
    "deletable": false,
    "nbgrader": {
     "cell_type": "markdown",
     "checksum": "ebc0a59e5def48c82b60a963dc04dc7e",
     "grade": true,
     "grade_id": "HydrogenmpAns2",
     "locked": false,
     "points": 0,
     "schema_version": 3,
     "solution": true,
     "task": false
    }
   },
   "source": [
    "YOUR ANSWER HERE"
   ]
  },
  {
   "cell_type": "markdown",
   "id": "powered-universe",
   "metadata": {
    "deletable": false,
    "editable": false,
    "nbgrader": {
     "cell_type": "markdown",
     "checksum": "397c659e9ab337d0de53c40b40792cfb",
     "grade": false,
     "grade_id": "HeisenbergH",
     "locked": true,
     "schema_version": 3,
     "solution": false,
     "task": false
    }
   },
   "source": [
    "### &#x1F5A9; Heisenberg Uncertainty Principle \n",
    "The Heisenberg Uncertainty Principle between momentum and position in 3 dimensions states that \n",
    "$$\n",
    "\\sigma_r^2 \\sigma_p^2 \\ge  \\tfrac{3}{4} \\hbar^2\n",
    "$$\n",
    "where\n",
    "$$\n",
    "\\sigma_r^2 = \\langle \\psi_{n,n-1,m} | r^2 | \\psi_{n,n-1,m} \\rangle - \\langle \\psi_{n,n-1,m} | r | \\psi_{n,n-1,m} \\rangle^2 \\\\\n",
    "\\sigma_p^2 = \\langle \\psi_{n,n-1,m} | \\hat{p}^2 | \\psi_{n,n-1,m} \\rangle - \\langle \\psi_{n,n-1,m} | \\hat{p} | \\psi_{n,n-1,m} \\rangle^2\n",
    "$$\n",
    "To reassure yourself that this is true, compute $\\sigma_r^2 \\sigma_p^2$ for the 4f state of the hydrogen atom. *Report your answer as a float, in atomic units.*\n",
    "\n",
    "\n",
    "If you wish, you can use the markdown cell at the end to explain your answer."
   ]
  },
  {
   "cell_type": "code",
   "execution_count": null,
   "id": "increased-grave",
   "metadata": {
    "deletable": false,
    "nbgrader": {
     "cell_type": "code",
     "checksum": "b9d2cd5918d9f48ef77ede920f2cdf5b",
     "grade": false,
     "grade_id": "HeisenbergHAns1",
     "locked": false,
     "schema_version": 3,
     "solution": true,
     "task": false
    }
   },
   "outputs": [],
   "source": [
    "# Write the left-hand-side of the Heisenberg Uncertainty relation, which should be bigger than 3/2 hbar.\n",
    "# Give your answer in atomic units.\n",
    "test_Heisenberg = None    \n",
    "\n",
    "# YOUR CODE HERE\n",
    "raise NotImplementedError()"
   ]
  },
  {
   "cell_type": "code",
   "execution_count": null,
   "id": "empirical-samoa",
   "metadata": {
    "deletable": false,
    "editable": false,
    "nbgrader": {
     "cell_type": "code",
     "checksum": "f71a39a39d7db17d05db0aab6c946032",
     "grade": true,
     "grade_id": "HeisenbergHTest",
     "locked": true,
     "points": 2,
     "schema_version": 3,
     "solution": false,
     "task": false
    }
   },
   "outputs": [],
   "source": [
    "print(f'The product of the variance in position and momentum for an electron in the 4f orbital of Hydrogen is {test_Heisenberg:.2f} times hbar.')\n",
    "assert(test_Heisenberg >= 0.75), \"The Heisenberg Uncertainty Principle has been violated!\"\n"
   ]
  },
  {
   "cell_type": "markdown",
   "id": "ignored-colors",
   "metadata": {
    "deletable": false,
    "nbgrader": {
     "cell_type": "markdown",
     "checksum": "3187aa637213fa4e2eb85c13248d2938",
     "grade": true,
     "grade_id": "HeisenbergHAns2",
     "locked": false,
     "points": 0,
     "schema_version": 3,
     "solution": true,
     "task": false
    }
   },
   "source": [
    "YOUR ANSWER HERE"
   ]
  },
  {
   "cell_type": "markdown",
   "id": "lesbian-finder",
   "metadata": {
    "deletable": false,
    "editable": false,
    "nbgrader": {
     "cell_type": "markdown",
     "checksum": "b23c12a88a3c60f8e4c96702d4919de0",
     "grade": false,
     "grade_id": "HeisenbergHext",
     "locked": true,
     "schema_version": 3,
     "solution": false,
     "task": false
    }
   },
   "source": [
    "### &#x1f4b0; Bonus: Derive an expression for $\\sigma_r^2 \\sigma_p^2$ for *any* state of a Hydrogenic atom with $l=n-1$. "
   ]
  },
  {
   "cell_type": "markdown",
   "id": "absolute-throat",
   "metadata": {
    "deletable": false,
    "nbgrader": {
     "cell_type": "markdown",
     "checksum": "7dff105845170b35f905d79495a2d3a6",
     "grade": true,
     "grade_id": "HeisenbergHextAns",
     "locked": false,
     "points": 2,
     "schema_version": 3,
     "solution": true,
     "task": false
    }
   },
   "source": [
    "YOUR ANSWER HERE"
   ]
  },
  {
   "cell_type": "markdown",
   "id": "dietary-excess",
   "metadata": {
    "deletable": false,
    "editable": false,
    "nbgrader": {
     "cell_type": "markdown",
     "checksum": "82b7e4ca890c99d772b8509320d8c93c",
     "grade": false,
     "grade_id": "2dQDot",
     "locked": true,
     "schema_version": 3,
     "solution": false,
     "task": false
    }
   },
   "source": [
    "## Eigenfunctions and Eigenvalues for a two-dimensional Quantum Dot.\n",
    "Modern displays often use quantum dot technology, where one (or more) electrons are confined to a region within a material. For an electron confined to a rectangular region in two dimensions, it is reasonable to approximate its motion perpendicular to the rectangle with harmonic confinement. The time-independent Schr&ouml;dinger equation, eigenfunctions, and eigenvalues for a harmonically confined electron are, in atomic units:\n",
    "$$\n",
    "\\left(-\\tfrac{1}{2}\\tfrac{d^2}{dz^2} + \\tfrac{1}{2}\\kappa z^2\\right) \\psi_k(z) = E_k \\psi_k(z)\n",
    "$$\n",
    "where the eigenenergies are\n",
    "$$\n",
    "E_k = \\sqrt{\\kappa}\\left(k+\\tfrac{1}{2}\\right) \\qquad \\qquad k=0,1,2,\\ldots\n",
    "$$\n",
    "and the eigenfunctions are given in terms of the [Hermite polynomials](https://en.wikipedia.org/wiki/Hermite_polynomials), $H_k(z)$, as:\n",
    "$$\n",
    "\\psi_k^{(\\text{harm. osc.})}(z) =\\frac{1}{2^k k!}\\sqrt[4]{\\frac{\\kappa}{\\pi}}\n",
    "e^{-\\sqrt{\\kappa}z^2/2}H_k\\left(\\sqrt[4]{\\kappa}z\\right)\n",
    "$$\n",
    "The Hamiltonian for an electron confined to a rectangular region, in atomic units, is then:\n",
    "$$\n",
    "\\hat{H} = -\\frac{1}{2} \\frac{d^2}{dx^2} -\\frac{1}{2} \\frac{d^2}{dy^2} -\\frac{1}{2} \\frac{d^2}{dz^2} \n",
    " + V_{a_x}(x) + V_{a_y}(y) + \\frac{1}{2} \\kappa z^2\n",
    "$$\n",
    "where\n",
    "$$\n",
    "V_a(x) = \n",
    "\\begin{cases}\n",
    "    +\\infty & x\\leq 0\\\\\n",
    "    0       & 0\\lt x \\lt a\\\\\n",
    "    +\\infty & a \\leq x\n",
    "\\end{cases}\n",
    "$$\n",
    "\n",
    "### &#x270d;&#xfe0f; Write expressions for the eigenvalues and eigenfunctions of this system.\n"
   ]
  },
  {
   "cell_type": "markdown",
   "id": "formal-music",
   "metadata": {
    "deletable": false,
    "nbgrader": {
     "cell_type": "markdown",
     "checksum": "e0cdb040c3b3ef15b913ed582f3e10bb",
     "grade": true,
     "grade_id": "2dQDotAns",
     "locked": false,
     "points": 2,
     "schema_version": 3,
     "solution": true,
     "task": false
    }
   },
   "source": [
    "YOUR ANSWER HERE"
   ]
  },
  {
   "cell_type": "markdown",
   "id": "smaller-tuition",
   "metadata": {
    "deletable": false,
    "editable": false,
    "nbgrader": {
     "cell_type": "markdown",
     "checksum": "ad044bcfc6dd9ca67bc74c387360bbe6",
     "grade": false,
     "grade_id": "2DQDotWavelength",
     "locked": true,
     "schema_version": 3,
     "solution": false,
     "task": false
    }
   },
   "source": [
    "###  &#x1F5A9; What is the wavelength that corresponds to the lowest-energy excitation when $a_x = 16$, $a_y = 9$, and $k_z = 4$?\n",
    "Report your answer in nm. \n",
    "\n",
    "\n",
    "If you wish, you can use the markdown cell at the end to explain your answer."
   ]
  },
  {
   "cell_type": "code",
   "execution_count": null,
   "id": "quantitative-current",
   "metadata": {
    "deletable": false,
    "nbgrader": {
     "cell_type": "code",
     "checksum": "5e8357a8da8d517e447d706d6365e631",
     "grade": false,
     "grade_id": "2dQDotWavelengthAns",
     "locked": false,
     "schema_version": 3,
     "solution": true,
     "task": false
    }
   },
   "outputs": [],
   "source": [
    "# Report the wavelength of the lowest-energy excitation in nm. I have initialized the variable to None.\n",
    "wavelength_qdot_nm = None\n",
    "\n",
    "# YOUR CODE HERE\n",
    "raise NotImplementedError()"
   ]
  },
  {
   "cell_type": "code",
   "execution_count": null,
   "id": "proprietary-updating",
   "metadata": {
    "deletable": false,
    "editable": false,
    "nbgrader": {
     "cell_type": "code",
     "checksum": "940820523c26e7087d87778ef5d1e40c",
     "grade": true,
     "grade_id": "2DQDotWavelengthTests",
     "locked": true,
     "points": 2,
     "schema_version": 3,
     "solution": false,
     "task": false
    }
   },
   "outputs": [],
   "source": [
    "print(f'The wavelength associated with the lowest-energy excitation of the specified quantum dot is {wavelength_qdot_nm:.1f} nm.')\n"
   ]
  },
  {
   "cell_type": "markdown",
   "id": "freelance-stranger",
   "metadata": {
    "deletable": false,
    "nbgrader": {
     "cell_type": "markdown",
     "checksum": "2859f1384efad81a52a3dfcb00b3dea2",
     "grade": true,
     "grade_id": "2dQDotWavelengthAns2",
     "locked": false,
     "points": 0,
     "schema_version": 3,
     "solution": true,
     "task": false
    }
   },
   "source": [
    "YOUR ANSWER HERE"
   ]
  },
  {
   "cell_type": "markdown",
   "id": "comfortable-genius",
   "metadata": {
    "deletable": false,
    "editable": false,
    "nbgrader": {
     "cell_type": "markdown",
     "checksum": "fa600845f5793aaea4a96bd360da9b59",
     "grade": false,
     "grade_id": "Kratzer-Fues",
     "locked": true,
     "schema_version": 3,
     "solution": false,
     "task": false
    }
   },
   "source": [
    "## &#x270d;&#xfe0f; What is the form of the eigenfunctions for the Kratzer-Fues Potential\n",
    "The Kratzer-Fues potential is a reasonable model for a diatomic molecule rotating and vibrating in 3 dimensions, or even a ion-pair complex (e.g., an single ion pair from an ionic solvent in the gas phase). It has the form\n",
    "$$\n",
    "V_{\\text{Kratzer-Fues}}(r) = \\frac{a}{r^2} - \\frac{b}{r} \\qquad \\qquad a>0 \\text{ and } b>0\n",
    "$$\n",
    "and so the Schr&ouml;dinger equation has the form:\n",
    "$$\n",
    "\\left(-\\frac{\\hbar^2}{2m}\\nabla^2 +\\frac{a}{r^2} - \\frac{b}{r} \\right) \\psi(\\mathbf{r}) = E\\psi(\\mathbf{r}) \n",
    "$$\n",
    "Using separation of variables, write the *form* of the solutions for the Kratzer-Fues potential. What is the radial Schr&ouml;dinger equation for this system?"
   ]
  },
  {
   "cell_type": "markdown",
   "id": "rotary-culture",
   "metadata": {
    "deletable": false,
    "nbgrader": {
     "cell_type": "markdown",
     "checksum": "6f37d5785852df3a4fe8855614db93bc",
     "grade": true,
     "grade_id": "Kratzer-FuesAns",
     "locked": false,
     "points": 2,
     "schema_version": 3,
     "solution": true,
     "task": false
    }
   },
   "source": [
    "YOUR ANSWER HERE"
   ]
  },
  {
   "cell_type": "markdown",
   "id": "effective-columbus",
   "metadata": {
    "deletable": false,
    "editable": false,
    "nbgrader": {
     "cell_type": "markdown",
     "checksum": "d7fe45d5c6507e79b4d2ce7001ed52d6",
     "grade": false,
     "grade_id": "KratzerFuesBonus",
     "locked": true,
     "schema_version": 3,
     "solution": false,
     "task": false
    }
   },
   "source": [
    "### &#x1f4b0; Bonus: Write an expression for the energy eigenvalues and the radial eigenfunctions of the Kratzer-Fues potential. This isn't 100% trivial, but try to see how far you can get.\n"
   ]
  },
  {
   "cell_type": "markdown",
   "id": "french-mobile",
   "metadata": {
    "deletable": false,
    "nbgrader": {
     "cell_type": "markdown",
     "checksum": "3b7c5ee17221e9038f00c9f8413034af",
     "grade": true,
     "grade_id": "KratzerFuesBonusAns",
     "locked": false,
     "points": 2,
     "schema_version": 3,
     "solution": true,
     "task": false
    }
   },
   "source": [
    "YOUR ANSWER HERE"
   ]
  }
 ],
 "metadata": {
  "kernelspec": {
   "display_name": "Python 3",
   "language": "python",
   "name": "python3"
  },
  "language_info": {
   "codemirror_mode": {
    "name": "ipython",
    "version": 3
   },
   "file_extension": ".py",
   "mimetype": "text/x-python",
   "name": "python",
   "nbconvert_exporter": "python",
   "pygments_lexer": "ipython3",
   "version": "3.8.3"
  },
  "toc": {
   "base_numbering": 1,
   "nav_menu": {},
   "number_sections": true,
   "sideBar": false,
   "skip_h1_title": false,
   "title_cell": "Contents",
   "title_sidebar": "Contents",
   "toc_cell": true,
   "toc_position": {},
   "toc_section_display": false,
   "toc_window_display": false
  }
 },
 "nbformat": 4,
 "nbformat_minor": 5
}
