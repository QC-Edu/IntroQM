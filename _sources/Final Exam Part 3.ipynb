{
 "cells": [
  {
   "cell_type": "markdown",
   "id": "dressed-stability",
   "metadata": {
    "toc": true
   },
   "source": []
  },
  {
   "cell_type": "markdown",
   "id": "eleven-masters",
   "metadata": {},
   "source": [
    "# Questions for Understanding and Review\n",
    "&#x1f468;&#x200d;&#x1f3eb; **Overview:**\n",
    "These questions are taken from the course notes, tutorial discussions, and previous years' oral exams.\n",
    "\n",
    "&#x1f4dc; **Instructions:** Be prepared to discuss the following questions/topics. I will randomly select questions."
   ]
  },
  {
   "cell_type": "markdown",
   "id": "military-manhattan",
   "metadata": {},
   "source": [
    "## &#x1f501; Describe the following effects/experiments/equations, and explain their importance to the origins of quantum mechanics.\n",
    "1. Black-Body Radiation and the Ultraviolet Catastrophe.\n",
    "1. The Davisson-Germer experiment and Electron Scattering.\n",
    "1. Compton Scattering.\n",
    "1. The Photoelectric Effect\n",
    "1. The Rydberg Formula\n",
    "1. The Stern-Gerlach Experiment"
   ]
  },
  {
   "cell_type": "markdown",
   "id": "supreme-feature",
   "metadata": {},
   "source": [
    "## &#x1f501; Explain the following topics. \n",
    "1. What are the key postulates of quantum mechanics?\n",
    "1. What is the Heisenberg Uncertainty Principle? What does it say about the fundamentals of quantum mechanics? What is the commutator between two operators, and how does it relate to the Heisenberg Uncertainty Principle? \n",
    "1. Explain what the Born-Oppenheimer Approximation is and why it is important.\n",
    "1. Explain what the united-atom and separated-atom limit are for a diatomic molecule. How do these limits relate to molecular-orbital theory and the linear-combination-of-atomic-orbitals technique.\n",
    "1. What are the quantum numbers that describe the state of an atom (neglecting relativity)? What do these quantum numbers have to do with term symbols? What do these quantum numbers have to do with simultaneous observables?\n",
    "1. What is the Stern Gerlach experiment? Can you describe what is happening in the following diagram?\n",
    "\n",
    "![SG3](https://github.com/PaulWAyers/IntroQChem/blob/main/linkedFiles/SternGerlach3.jpg?raw=true \"Describe what is happening in this picture\")"
   ]
  },
  {
   "cell_type": "markdown",
   "id": "adult-accountability",
   "metadata": {},
   "source": [
    "## &#x1f501; What are the eigenfunctions and eigenvalues for the following Hamiltonians. \n",
    "You should be able to explain key characteristics of the systems and the general strategy for (possibly approximate) solving the associated time-independent Schr&ouml;dinger equation.\n",
    "\n",
    "\\begin{align}\n",
    "\\hat{H}_1 &= -\\frac{\\hbar^2}{2m} \\frac{d^2}{dx^2} -\\frac{\\hbar^2}{2m} \\frac{d^2}{dy^2} + V_{a_x}(x) + V_{a_y}(y) \\\\\n",
    "\\hat{H}_2(\\lambda) &= -\\frac{\\hbar^2}{2m} \\frac{d^2}{dx_1^2} -\\frac{\\hbar^2}{2m} \\frac{d^2}{dx_2^2} + V_{a}(x_1) + V_{a}(x_2) \n",
    "- \\lambda |x_1 - x_2|\\\\\n",
    "\\hat{H}_3(\\lambda) &= -\\tfrac{1}{2} \\nabla_1^2 -\\tfrac{1}{2} \\nabla_2^2- \\tfrac{Z}{r_1} - \\tfrac{Z}{r_2} + \\tfrac{\\lambda}{|\\mathbf{r}_1 - \\mathbf{r}_2|}\\\\\n",
    "\\hat{H}_4 &= -\\frac{\\hbar^2}{2m} \\frac{d^2}{dx^2} -\\frac{\\hbar^2}{2m} \\frac{d^2}{dy^2} -\\frac{\\hbar^2}{2m} \\frac{d^2}{dz^2} + V_{a}\\left(\\sqrt{x^2 + y^2 +z^2}\\right) \\\\\n",
    "\\hat{H}_5(\\mathbf{R}_B) &=  -\\tfrac{1}{2} \\nabla_{\\mathbf{r}}^2 - \\tfrac{Z_A}{r} - \\tfrac{Z_B}{|\\mathbf{r} - \\mathbf{R}_B|} \\\\\n",
    "\\hat{H}_6 &= -\\frac{\\hbar^2}{2m} \\frac{d^2}{dx^2} -\\frac{\\hbar^2}{2m} \\frac{d^2}{dy^2} -\\frac{\\hbar^2}{2m} \\frac{d^2}{dz^2} + V_{a_z}(z) + V_{a_r}(\\sqrt{x^2+y^2})\n",
    "\\end{align}\n",
    "where\n",
    "$$\n",
    "V_a(x) = \n",
    "\\begin{cases}\n",
    "    +\\infty & x\\leq 0\\\\\n",
    "    0       & 0\\lt x \\lt a\\\\\n",
    "    +\\infty & a \\leq x\n",
    "\\end{cases}\n",
    "$$"
   ]
  },
  {
   "cell_type": "markdown",
   "id": "female-reynolds",
   "metadata": {},
   "source": [
    "## &#x1f914; Discuss the following in your own words.\n",
    "1. What is a Slater determinant? Why does one use a Slater determinant for a many-fermion system? When is the exact ground-state wavefunction for a many-fermion system a Slater determinant?\n",
    "1. What is the variational principle? How is it used to approximate the ground-state energy and wavefunction of realistic, not-exactly-solvable, Hamiltonians? Can you give an example of how it is used?\n",
    "1. What is the Hartree-Fock method? What is the intuition behind it, and when is it used? \n",
    "1. What is Perturbation Theory? When is perturbation theory most appropriate? Least appropriate? \n",
    "1. What is the secular equation? How does it relate to the technique of expanding a wavefunction in a basis set?\n",
    "1. What is electron correlation? How can one approximate the effects of electron correlation?"
   ]
  },
  {
   "cell_type": "markdown",
   "id": "090fee77",
   "metadata": {},
   "source": []
  }
 ],
 "metadata": {
  "kernelspec": {
   "display_name": "Python 3",
   "language": "python",
   "name": "python3"
  },
  "language_info": {
   "codemirror_mode": {
    "name": "ipython",
    "version": 3
   },
   "file_extension": ".py",
   "mimetype": "text/x-python",
   "name": "python",
   "nbconvert_exporter": "python",
   "pygments_lexer": "ipython3",
   "version": "3.8.5"
  },
  "toc": {
   "base_numbering": "3",
   "nav_menu": {},
   "number_sections": true,
   "sideBar": false,
   "skip_h1_title": false,
   "title_cell": "Table of Contents",
   "title_sidebar": "Contents",
   "toc_cell": true,
   "toc_position": {},
   "toc_section_display": false,
   "toc_window_display": false
  }
 },
 "nbformat": 4,
 "nbformat_minor": 5
}
