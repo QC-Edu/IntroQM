{
 "cells": [
  {
   "cell_type": "markdown",
   "metadata": {},
   "source": [
    "# &#x1f4dd; Exercise\n",
    "**What is the momentum and energy of a photon with angular wavenumber $k=10^8 \\text{m}^{-1}$? Give your answer in SI units.** "
   ]
  },
  {
   "cell_type": "markdown",
   "metadata": {},
   "source": [
    "We can start with the equation for the momentum, which is easy:\n",
    "\n",
    "$$ p = \\hbar k $$\n",
    "\n",
    "\n",
    "The equation for the energy can deduced directly as $E = pc$, but if you forgot this, then,\n",
    "\n",
    "$$ E = h \\nu = \\frac{hc}{\\lambda} = p c $$\n",
    "\n",
    "using the Planck relation (first equality) and the De Broglie relation (last equality)."
   ]
  },
  {
   "cell_type": "code",
   "execution_count": 1,
   "metadata": {},
   "outputs": [
    {
     "name": "stdout",
     "output_type": "stream",
     "text": [
      "The momentum of a photon with an angular wavenumber of 1e7 1/m is 1.055e-26 m kg/s.\n",
      "The energy of a photon with an angular wavenumber of 1e7 1/m is 3.162e-18 J.\n"
     ]
    }
   ],
   "source": [
    "import scipy\n",
    "from scipy import constants\n",
    "\n",
    "p_from_k = constants.hbar * 1e8\n",
    "E_from_k = constants.c * p_from_k\n",
    "\n",
    "print(\"The momentum of a photon with an angular wavenumber of 1e7 1/m is {0:.3e} m kg/s.\".format(p_from_k))\n",
    "print(\"The energy of a photon with an angular wavenumber of 1e7 1/m is {0:.3e} J.\".format(E_from_k))"
   ]
  },
  {
   "cell_type": "code",
   "execution_count": null,
   "metadata": {},
   "outputs": [],
   "source": []
  }
 ],
 "metadata": {
  "interpreter": {
   "hash": "8867fa4a874d625ac151e80518eaa96dde9c32243951e64c9d5c087633ad9a9a"
  },
  "kernelspec": {
   "display_name": "Python 3.8.5 64-bit",
   "language": "python",
   "name": "python3"
  },
  "language_info": {
   "codemirror_mode": {
    "name": "ipython",
    "version": 3
   },
   "file_extension": ".py",
   "mimetype": "text/x-python",
   "name": "python",
   "nbconvert_exporter": "python",
   "pygments_lexer": "ipython3",
   "version": "3.8.5"
  },
  "orig_nbformat": 4
 },
 "nbformat": 4,
 "nbformat_minor": 2
}
