{
 "cells": [
  {
   "cell_type": "markdown",
   "metadata": {},
   "source": [
    "#### &#x1f4dd; Exercise \n",
    "**The photon emitted when a 4p electron in the Hydrogen atom deexcites into a 2s orbital has wavelength 486.1 nm. Compute its**\n",
    "- **frequency in Hz**\n",
    "- **angular frequency in Hz**\n",
    "- **wavenumber, $\\bar{\\nu}$, in $\\text{cm}^{-1}$.**\n",
    "- **angular wavenumber, $k$, in $\\text{m}^{-1}$.**\n",
    "- **period in s.**\n",
    "- **momentum in m kg/s.**\n",
    "- **energy in Joules.**"
   ]
  },
  {
   "cell_type": "code",
   "execution_count": 1,
   "metadata": {},
   "outputs": [
    {
     "name": "stdout",
     "output_type": "stream",
     "text": [
      "The frequency of a photon with wavelength 486.1 nm is 6.167e+14 Hz.\n",
      "The angular frequency of a photon with wavelength 486.1 nm is 3.875e+15 Hz.\n",
      "The wavenumber, nu-bar, of a photon with wavelength  486.1 nm is 2.061e+04 cm^-1.\n",
      "The angular wavenumber, k, of a photon with wavelength  486.1 nm is 1.293e+07 m^-1.\n",
      "The period of a photon with wavelength  486.1 nm is 1.621e-15 s.\n",
      "The momentum of a photon with wavelength  486.1 nm is 1.363e-27 kg m/s.\n",
      "The energy of a photon with wavelength  486.1 nm is 4.086e-19 Joules.\n"
     ]
    }
   ],
   "source": [
    "import scipy\n",
    "import math\n",
    "from scipy import constants\n",
    "\n",
    "frequency = None         #Frequency in Hz.\n",
    "omega = None             #Angular frequency in Hz.\n",
    "wavenumber = None        #Wavenumber, nu-bar, in cm^-1\n",
    "k = None                 #Angular wavenumber, k, in m^-1\n",
    "period = None            #Period in s\n",
    "momentum = None          #Momentum in SI units.\n",
    "energy = None            #Energy in SI units.\n",
    "\n",
    "### BEGIN SOLUTION\n",
    "# It is helpful to first convert the wavelength into m (SI units)\n",
    "wavelength_m = 486.1e-9 \n",
    "#wavelength * frequency = speed of light. So:\n",
    "frequency = constants.c/wavelength_m\n",
    "\n",
    "# Angular frequency is 2 pi times the frequency\n",
    "omega = 2*math.pi*frequency\n",
    "\n",
    "#wavenumber is either 1/wavelength or 2pi/wavelength. \n",
    "#In this context we are using nu-bar, which is the former. \n",
    "#However, we want it in cm^-1. So\n",
    "wavelength_cm = 485.1e-7      #Wavelength in cm\n",
    "wavenumber = (wavelength_cm)**-1\n",
    "\n",
    "#Angular wavenumber is easier, just 2*pi/wavelength (in m)\n",
    "k = 2*math.pi/wavelength_m\n",
    "\n",
    "#Period is one over frequency. So\n",
    "period = 1/frequency\n",
    "\n",
    "#momentum = h/lambda, where h is Planck's constant. So\n",
    "momentum = constants.h/wavelength_m\n",
    "\n",
    "#Energy is h * frequency or h * c / lambda or momentum times c. Using the former,\n",
    "energy = constants.h * frequency\n",
    "\n",
    "#Print it all out:\n",
    "print(f\"The frequency of a photon with wavelength 486.1 nm is {frequency:.3e} Hz.\")\n",
    "print(f\"The angular frequency of a photon with wavelength 486.1 nm is {omega:.3e} Hz.\")\n",
    "print(f\"The wavenumber, nu-bar, of a photon with wavelength  486.1 nm is {wavenumber:.3e} cm^-1.\")\n",
    "print(f\"The angular wavenumber, k, of a photon with wavelength  486.1 nm is {k:.3e} m^-1.\")\n",
    "print(f\"The period of a photon with wavelength  486.1 nm is {period:.3e} s.\")\n",
    "print(f\"The momentum of a photon with wavelength  486.1 nm is {momentum:.3e} kg m/s.\")\n",
    "print(f\"The energy of a photon with wavelength  486.1 nm is {energy:.3e} Joules.\")"
   ]
  }
 ],
 "metadata": {
  "interpreter": {
   "hash": "8867fa4a874d625ac151e80518eaa96dde9c32243951e64c9d5c087633ad9a9a"
  },
  "kernelspec": {
   "display_name": "Python 3.8.5 64-bit",
   "language": "python",
   "name": "python3"
  },
  "language_info": {
   "codemirror_mode": {
    "name": "ipython",
    "version": 3
   },
   "file_extension": ".py",
   "mimetype": "text/x-python",
   "name": "python",
   "nbconvert_exporter": "python",
   "pygments_lexer": "ipython3",
   "version": "3.8.5"
  },
  "orig_nbformat": 4
 },
 "nbformat": 4,
 "nbformat_minor": 2
}
