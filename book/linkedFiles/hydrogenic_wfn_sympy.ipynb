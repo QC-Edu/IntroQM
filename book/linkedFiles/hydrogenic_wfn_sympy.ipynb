{
 "cells": [
  {
   "cell_type": "markdown",
   "metadata": {},
   "source": [
    "# Compute Hydrogenic Wavefunctions Using `SymPy`"
   ]
  },
  {
   "cell_type": "code",
   "execution_count": null,
   "metadata": {},
   "outputs": [
    {
     "name": "stdout",
     "output_type": "stream",
     "text": [
      "Z**(3/2)*exp(-Z*r)/sqrt(pi)\n"
     ]
    }
   ],
   "source": [
    "from sympy.physics.hydrogen import Psi_nlm\n",
    "from sympy import Symbol\n",
    "import numpy as np\n",
    "\n",
    "r=Symbol(\"r\", positive=True)\n",
    "phi=Symbol(\"phi\", real=True)\n",
    "theta=Symbol(\"theta\", real=True)\n",
    "Z=Symbol(\"Z\", positive=True, integer=True, nonzero=True)\n",
    "\n",
    "print(Psi_nlm(1,0,0,r,phi,theta,Z))"
   ]
  },
  {
   "cell_type": "code",
   "execution_count": 5,
   "metadata": {},
   "outputs": [
    {
     "data": {
      "text/latex": [
       "$\\displaystyle \\frac{3}{Z^{2}}$"
      ],
      "text/plain": [
       "3/Z**2"
      ]
     },
     "execution_count": 5,
     "metadata": {},
     "output_type": "execute_result"
    }
   ],
   "source": [
    "from sympy import integrate, conjugate, pi, oo, sin\n",
    "\n",
    "wf=Psi_nlm(1,0,0,r,phi,theta,Z)\n",
    "\n",
    "abs_sqrd=wf*conjugate(wf)\n",
    "jacobi=r**2*sin(theta)\n",
    "\n",
    "integrate(abs_sqrd*jacobi*r**2, (r,0,oo), (phi,0,2*pi), (theta,0,pi))"
   ]
  }
 ],
 "metadata": {
  "kernelspec": {
   "display_name": "Python 3",
   "language": "python",
   "name": "python3"
  },
  "language_info": {
   "codemirror_mode": {
    "name": "ipython",
    "version": 3
   },
   "file_extension": ".py",
   "mimetype": "text/x-python",
   "name": "python",
   "nbconvert_exporter": "python",
   "pygments_lexer": "ipython3",
   "version": "3.12.2"
  }
 },
 "nbformat": 4,
 "nbformat_minor": 2
}
