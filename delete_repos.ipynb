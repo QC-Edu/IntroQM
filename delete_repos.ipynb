{
 "cells": [
  {
   "cell_type": "code",
   "execution_count": 85,
   "metadata": {},
   "outputs": [
    {
     "name": "stdout",
     "output_type": "stream",
     "text": [
      "Tutorial_1\n",
      "example_problems\n",
      "grading\n",
      "github-beginner-course\n",
      "Tutorial-0\n",
      "github-fundamentals\n",
      "Mocked-x4\n",
      "PinBox-Moments\n",
      "Sudden-Approximation\n",
      "Question-Examples\n",
      "Questions-Introduction\n",
      "Questions-Schrodinger\n",
      "Questions-P-in-Box\n",
      "Questions-Postulations\n"
     ]
    }
   ],
   "source": [
    "# use github api to get the list of all repositories\n",
    "import requests\n",
    "import json\n",
    "\n",
    "username = \"RichRick1\"\n",
    "token = \"<place for token>\"\n",
    "\n",
    "url = 'https://api.github.com/orgs/McMasterQM/repos?visibility=private'\n",
    "repos = requests.get(url, auth=(username, token)).json()\n",
    "\n",
    "students_repos = []\n",
    "for repo in repos:\n",
    "    if repo['is_template']:\n",
    "        print(repo['name'])\n",
    "    else:\n",
    "        students_repos.append(repo['name'])"
   ]
  },
  {
   "cell_type": "code",
   "execution_count": 126,
   "metadata": {},
   "outputs": [],
   "source": [
    "lst_students = [\n",
    "    \"aldersoa1\",\n",
    "    \"gabriella-b\",\n",
    "    \"AmelieBetend\",\n",
    "    \"arpitac01\",\n",
    "    \"djogos1\",\n",
    "    \"Celina-Fu\",\n",
    "    \"Camgur\",\n",
    "    \"hincheym\",\n",
    "    \"langnerh\",\n",
    "    \"Grace-Lenihan\",\n",
    "    \"haleypandya\",\n",
    "    \"gpmac22\",\n",
    "    \"katrinapegrum\",\n",
    "    \"SUS02\",\n",
    "    \"rsunluu\",\n",
    "    \"ShuoyangW\",\n",
    "    \"wu284\",\n",
    "    \"Aidanzz\",\n",
    "    \"Kongdor13\",\n",
    "    \"rsunluu\",\n",
    "    \"Gintellectual\"\n",
    "]\n",
    "for student in lst_students:\n",
    "    repo_to_delete = f'McMasterQM/pinb-quiz-{student}'\n",
    "    # write a code to delete the repo\n",
    "    try:\n",
    "        url = f'https://api.github.com/repos/{repo_to_delete}'\n",
    "        response = requests.delete(url, auth=(username, token))\n",
    "    except:\n",
    "        print(response.status_code)"
   ]
  }
 ],
 "metadata": {
  "kernelspec": {
   "display_name": "base",
   "language": "python",
   "name": "python3"
  },
  "language_info": {
   "codemirror_mode": {
    "name": "ipython",
    "version": 3
   },
   "file_extension": ".py",
   "mimetype": "text/x-python",
   "name": "python",
   "nbconvert_exporter": "python",
   "pygments_lexer": "ipython3",
   "version": "3.9.7"
  }
 },
 "nbformat": 4,
 "nbformat_minor": 2
}
