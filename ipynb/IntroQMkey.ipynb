{
 "cells": [
  {
   "cell_type": "markdown",
   "metadata": {
    "nbgrader": {
     "grade": false,
     "grade_id": "preamble",
     "locked": true,
     "schema_version": 3,
     "solution": false,
     "task": false
    }
   },
   "source": [
    "# Introduction to Quantum Mechanics\n",
    "\n",
    "##  &#x1f3af; Objective¶\n",
    "To review basic aspects of quantum mechanics.\n",
    "\n",
    "## &#x1f4dc; Instructions\n",
    "Before you turn this problem in, make sure everything runs as expected. First, restart the kernel (in the menubar, select Kernel → Restart) and then run all cells (in the menubar, select Cell → Run All).\n",
    "\n",
    "Make sure you fill in any place that says YOUR CODE HERE or \"YOUR ANSWER HERE\", as well as your name, username (the prefix to your @university.ext e-mail), and student ID number in the cell below"
   ]
  },
  {
   "cell_type": "code",
   "execution_count": 1,
   "metadata": {
    "nbgrader": {
     "grade": true,
     "grade_id": "cell-347e783dba403114",
     "locked": false,
     "points": 0,
     "schema_version": 3,
     "solution": true,
     "task": false
    }
   },
   "outputs": [],
   "source": [
    "Name = \"First M. Last\"\n",
    "email_user_name = \"username\"\n",
    "ID_number = 1234567\n",
    "\n",
    "# It's useful to import these libraries. \n",
    "# You can import others or not even use these, though.\n",
    "import numpy as np\n",
    "import scipy\n",
    "from scipy import constants"
   ]
  },
  {
   "cell_type": "markdown",
   "metadata": {
    "nbgrader": {
     "grade": false,
     "grade_id": "preambleDuality",
     "locked": true,
     "schema_version": 3,
     "solution": false,
     "task": false
    }
   },
   "source": [
    "## Wave-Particle Duality"
   ]
  },
  {
   "cell_type": "markdown",
   "metadata": {
    "nbgrader": {
     "grade": false,
     "grade_id": "quDuality1",
     "locked": true,
     "schema_version": 3,
     "solution": false,
     "task": false
    },
    "solution2": "hidden",
    "solution2_first": true
   },
   "source": [
    "### &#x1f3b2; Particle-like features of light.\n",
    "Which of the following phenomena are strongly associated with the particle-like nature of light. <br>\n",
    "**A**. Blackbody radiation <br>\n",
    "**B**. Compton Scattering  <br>\n",
    "**C**. Electron Diffraction <br>\n",
    "**D**. Stern-Gerlach Experiment <br>\n",
    "**E**. Photoelectric effect "
   ]
  },
  {
   "cell_type": "code",
   "execution_count": 2,
   "metadata": {
    "nbgrader": {
     "grade": false,
     "grade_id": "ansDuality1",
     "locked": false,
     "schema_version": 3,
     "solution": true,
     "task": false
    },
    "solution2": "hidden"
   },
   "outputs": [],
   "source": [
    "# Report your answer as a list, tuple, or set containing the correct answers. \n",
    "# For example, if the answers are A and C, then ad1 = [\"A\", \"C\"]. \n",
    "# I've initialized the answer to the empty list.\n",
    "ad1 = []\n",
    "\n",
    "### BEGIN SOLUTION\n",
    "ad1 = [\"A\", \"B\", \"E\"]\n",
    "### END SOLUTION"
   ]
  },
  {
   "cell_type": "code",
   "execution_count": 3,
   "metadata": {
    "nbgrader": {
     "grade": true,
     "grade_id": "testDuality1",
     "locked": true,
     "points": 0,
     "schema_version": 3,
     "solution": false,
     "task": false
    },
    "solution2": "hidden"
   },
   "outputs": [
    {
     "name": "stdout",
     "output_type": "stream",
     "text": [
      "The following phenomena are associated with the particle-like nature of light: ['A', 'B', 'E']\n"
     ]
    }
   ],
   "source": [
    "print(\"The following phenomena are associated with the particle-like nature of light:\", ad1)\n",
    "assert(isinstance(ad1,set) or isinstance(ad1,list) or isinstance(ad1,tuple))\n",
    "assert(len(ad1) > 0)\n",
    "### BEGIN HIDDEN TESTS\n",
    "assert(set(map(str.casefold,ad1)) == {\"a\",\"b\",\"e\"})\n",
    "### END HIDDEN TESTS"
   ]
  },
  {
   "cell_type": "markdown",
   "metadata": {
    "nbgrader": {
     "grade": true,
     "grade_id": "explainDuality1",
     "locked": false,
     "points": 0,
     "schema_version": 3,
     "solution": true,
     "task": false
    },
    "solution2": "hidden"
   },
   "source": [
    "=== BEGIN MARK SCHEME ===\n",
    "\n",
    "More information about this question can be found in section 3 of the notes [From Newton to Schrodinger](https://paulwayers.github.io/IntroQChem/notes/html/History.html \"See especially section 3\").\n",
    "\n",
    "=== END MARK SCHEME ==="
   ]
  },
  {
   "cell_type": "markdown",
   "metadata": {
    "nbgrader": {
     "grade": false,
     "grade_id": "quDuality2",
     "locked": true,
     "schema_version": 3,
     "solution": false,
     "task": false
    },
    "solution2": "hidden",
    "solution2_first": true
   },
   "source": [
    "### &#x1F5A9; Properties of photons\n",
    "What is the frequency of light in Hz ($s^{-1}$) of light with wavelength 500 nm?"
   ]
  },
  {
   "cell_type": "code",
   "execution_count": 4,
   "metadata": {
    "nbgrader": {
     "grade": false,
     "grade_id": "ansDuality2",
     "locked": false,
     "schema_version": 3,
     "solution": true,
     "task": false
    },
    "solution2": "hidden"
   },
   "outputs": [
    {
     "name": "stdout",
     "output_type": "stream",
     "text": [
      "the frequency of light with wavelength 500 nm is 5.996e+14 Hz\n"
     ]
    }
   ],
   "source": [
    "# Use the code box as a calculator, but report your answer as a float. \n",
    "# ansDuality2 = float. I've initialized the answer to None.\n",
    "ad2 = None\n",
    "\n",
    "### BEGIN SOLUTION\n",
    "# wavelength * frequency = speed of light\n",
    "ad2 = constants.c/500e-9\n",
    "print(\"the frequency of light with wavelength 500 nm is {0:.3e} Hz\".format(ad2))\n",
    "### END SOLUTION"
   ]
  },
  {
   "cell_type": "code",
   "execution_count": 5,
   "metadata": {
    "nbgrader": {
     "grade": true,
     "grade_id": "testDuality2",
     "locked": true,
     "points": 0,
     "schema_version": 3,
     "solution": false,
     "task": false
    },
    "solution2": "hidden"
   },
   "outputs": [],
   "source": [
    "assert(isinstance(ad2,float))\n",
    "\n",
    "### BEGIN HIDDEN TESTS\n",
    "assert(np.isclose(ad2,constants.c/500e-9,rtol=1e-3))\n",
    "### END HIDDEN TESTS"
   ]
  },
  {
   "cell_type": "markdown",
   "metadata": {
    "nbgrader": {
     "grade": true,
     "grade_id": "explainDuality2",
     "locked": false,
     "points": 0,
     "schema_version": 3,
     "solution": true,
     "task": false
    },
    "solution2": "hidden"
   },
   "source": [
    "=== BEGIN MARK SCHEME ===\n",
    "\n",
    "The key equations for this problem are:\n",
    "\n",
    "$$\\lambda \\nu = c$$\n",
    "\n",
    "so\n",
    "\n",
    "$$\\nu = \\frac{c}{\\lambda}$$\n",
    "\n",
    "=== END MARK SCHEME ==="
   ]
  },
  {
   "cell_type": "markdown",
   "metadata": {
    "nbgrader": {
     "grade": false,
     "grade_id": "Q_frequency_doubles",
     "locked": true,
     "schema_version": 3,
     "solution": false,
     "task": false
    },
    "solution2": "hidden",
    "solution2_first": true
   },
   "source": [
    "### &#x1fa99; Properties of photons\n",
    "\n",
    "Doubling the wavelength of radiation doubles its frequency. (True/False)\n"
   ]
  },
  {
   "cell_type": "code",
   "execution_count": 6,
   "metadata": {
    "nbgrader": {
     "grade": false,
     "grade_id": "A_frequency_doubles",
     "locked": false,
     "schema_version": 3,
     "solution": true,
     "task": false
    },
    "solution2": "hidden"
   },
   "outputs": [],
   "source": [
    "# Report your answer as a Boolean, so freq_double = True or freq_double = False\n",
    "freq_double = None\n",
    "\n",
    "### BEGIN SOLUTION\n",
    "freq_double = False\n",
    "### END SOLUTION"
   ]
  },
  {
   "cell_type": "code",
   "execution_count": 7,
   "metadata": {
    "nbgrader": {
     "grade": true,
     "grade_id": "T_frequency_doubles",
     "locked": true,
     "points": 0,
     "schema_version": 3,
     "solution": false,
     "task": false
    },
    "solution2": "hidden"
   },
   "outputs": [
    {
     "name": "stdout",
     "output_type": "stream",
     "text": [
      "It is False that when the wavelength of radiation doubles its frequency does also.\n"
     ]
    }
   ],
   "source": [
    "assert(isinstance(freq_double,bool))\n",
    "print(\"It is\", freq_double, \"that when the wavelength of radiation doubles its frequency does also.\")\n",
    "### BEGIN HIDDEN TESTS\n",
    "assert(freq_double == False)\n",
    "# The frequency halves, because frequency = c/wavelength\n",
    "### END HIDDEN TESTS"
   ]
  },
  {
   "cell_type": "markdown",
   "metadata": {
    "nbgrader": {
     "grade": false,
     "grade_id": "Q_speed_halves",
     "locked": true,
     "schema_version": 3,
     "solution": false,
     "task": false
    },
    "solution2": "hidden",
    "solution2_first": true
   },
   "source": [
    "### &#x1fa99; Properties of photons\n",
    "\n",
    "Doubling the wavelength of radiation halves its speed. (True/False)"
   ]
  },
  {
   "cell_type": "code",
   "execution_count": 8,
   "metadata": {
    "nbgrader": {
     "grade": false,
     "grade_id": "A_speed_halves",
     "locked": false,
     "schema_version": 3,
     "solution": true,
     "task": false
    },
    "solution2": "hidden"
   },
   "outputs": [],
   "source": [
    "# Report your answer as a Boolean, so speed_halves = True or speed_halves = False\n",
    "speed_halves = None\n",
    "\n",
    "### BEGIN SOLUTION\n",
    "speed_halves = False\n",
    "### END SOLUTION"
   ]
  },
  {
   "cell_type": "code",
   "execution_count": 9,
   "metadata": {
    "nbgrader": {
     "grade": true,
     "grade_id": "T_speed_halves",
     "locked": true,
     "points": 0,
     "schema_version": 3,
     "solution": false,
     "task": false
    },
    "solution2": "hidden"
   },
   "outputs": [
    {
     "name": "stdout",
     "output_type": "stream",
     "text": [
      "It is False that when the wavelength of radiation doubles its speed halves.\n"
     ]
    }
   ],
   "source": [
    "assert(isinstance(speed_halves,bool))\n",
    "print(\"It is\", speed_halves, \"that when the wavelength of radiation doubles its speed halves.\")\n",
    "### BEGIN HIDDEN TESTS\n",
    "assert(speed_halves == False)\n",
    "# The speed of light is a constant and does not depend on its wavelength.\n",
    "### END HIDDEN TESTS"
   ]
  },
  {
   "cell_type": "markdown",
   "metadata": {
    "nbgrader": {
     "grade": false,
     "grade_id": "Q_HeNe",
     "locked": true,
     "schema_version": 3,
     "solution": false,
     "task": false
    },
    "solution2": "hidden",
    "solution2_first": true
   },
   "source": [
    "### &#x1F5A9; Properties of photons\n",
    "A helium-neon laser emits light at 632.8 nm.  What is the energy of the photons generated by this laser, in Joules?"
   ]
  },
  {
   "cell_type": "code",
   "execution_count": 10,
   "metadata": {
    "solution2": "hidden"
   },
   "outputs": [
    {
     "name": "stdout",
     "output_type": "stream",
     "text": [
      "the energy of light with wavelength 632.8 nm is 3.139e-19 J\n"
     ]
    }
   ],
   "source": [
    "# Use the code box as a calculator, but report your answer as a float. \n",
    "# E_HeNe = float. I've initialized the answer to None.\n",
    "E_HeNe = None\n",
    "\n",
    "### BEGIN SOLUTION\n",
    "# E = h * frequency = h * c/wavelength\n",
    "E_HeNe = constants.h * constants.c/632.8e-9\n",
    "print(\"the energy of light with wavelength 632.8 nm is {0:.3e} J\".format(E_HeNe))\n",
    "### END SOLUTION"
   ]
  },
  {
   "cell_type": "code",
   "execution_count": 11,
   "metadata": {
    "solution2": "hidden"
   },
   "outputs": [],
   "source": [
    "assert(isinstance(E_HeNe,float))\n",
    "\n",
    "### BEGIN HIDDEN TESTS\n",
    "assert(np.isclose(E_HeNe,3.1391e-19,rtol=1e-3))\n",
    "### END HIDDEN TESTS"
   ]
  },
  {
   "cell_type": "markdown",
   "metadata": {
    "nbgrader": {
     "grade": false,
     "grade_id": "Q_energy_doubles",
     "locked": true,
     "schema_version": 3,
     "solution": false,
     "task": false
    },
    "solution2": "hidden",
    "solution2_first": true
   },
   "source": [
    "### &#x1f3b2; Properties of photons\n",
    "\n",
    "Which of the following changes would double the energy of a photon: <br>\n",
    "**A**. Doubling its frequency <br>\n",
    "**B**. Doubling its wavelength <br>\n",
    "**C**. Doubling its momentum <br>\n",
    "**D**. Doubling its speed <br>\n",
    "**E**. Doubling its effective (relativistic) mass <br>\n",
    "**F**. Doubling its wavenumber. "
   ]
  },
  {
   "cell_type": "code",
   "execution_count": 12,
   "metadata": {
    "nbgrader": {
     "grade": false,
     "grade_id": "A_energy_doubles",
     "locked": false,
     "schema_version": 3,
     "solution": true,
     "task": false
    },
    "solution2": "hidden"
   },
   "outputs": [],
   "source": [
    "# Report your answer as a list, tuple, or set containing the correct answers. \n",
    "# For example, if the answers are A and C, then e_doubles = [\"A\", \"C\"]. \n",
    "# I've initialized the answer to the empty list.\n",
    "e_doubles = []\n",
    "\n",
    "### BEGIN SOLUTION\n",
    "e_doubles = [\"A\",\"C\",\"E\",\"F\"]\n",
    "### END SOLUTION"
   ]
  },
  {
   "cell_type": "code",
   "execution_count": 13,
   "metadata": {
    "nbgrader": {
     "grade": true,
     "grade_id": "T_energy_doubles",
     "locked": true,
     "points": 0,
     "schema_version": 3,
     "solution": false,
     "task": false
    },
    "solution2": "hidden"
   },
   "outputs": [
    {
     "name": "stdout",
     "output_type": "stream",
     "text": [
      "Ways you can double the energy of a photon include ['A', 'C', 'E', 'F']\n"
     ]
    }
   ],
   "source": [
    "print(\"Ways you can double the energy of a photon include\", e_doubles)\n",
    "assert(isinstance(e_doubles,set) or isinstance(e_doubles,list) or isinstance(e_doubles,tuple))\n",
    "assert(len(e_doubles) > 0)\n",
    "### BEGIN HIDDEN TESTS\n",
    "assert(set(map(str.casefold,e_doubles)) == {\"a\",\"c\",\"e\",\"f\"})\n",
    "### END HIDDEN TESTS"
   ]
  },
  {
   "cell_type": "markdown",
   "metadata": {
    "nbgrader": {
     "grade": false,
     "grade_id": "Qgreenlaser",
     "locked": true,
     "schema_version": 3,
     "solution": false,
     "task": false
    },
    "solution2": "hidden",
    "solution2_first": true
   },
   "source": [
    "### &#x1F5A9; Momentum from a green laser pointer\n",
    "I have a high-powered green laser pointer (532 nm wavelength, 100 mW power) that I use for astronomical starspotting. If I shine this laser pointer on you, how much momentum, per second, will be transferred to you? Report your answer in SI units of kg m/s."
   ]
  },
  {
   "cell_type": "code",
   "execution_count": null,
   "metadata": {},
   "outputs": [],
   "source": []
  },
  {
   "cell_type": "code",
   "execution_count": 14,
   "metadata": {
    "nbgrader": {
     "grade": false,
     "grade_id": "Agreenlaser",
     "locked": false,
     "schema_version": 3,
     "solution": true,
     "task": false
    },
    "solution2": "hidden"
   },
   "outputs": [],
   "source": [
    "# Use the code box as a calculator, but report your answer as a float. \n",
    "# p_greenlaser = float. I've initialized the answer to None.\n",
    "p_greenlaser = None\n",
    "\n",
    "### BEGIN SOLUTION\n",
    "# The energy and momentum of a single green photon is \n",
    "p_greenphoton = constants.h/532e-9  #in kg m/s\n",
    "E_greenphoton = constants.h*constants.c/532e-9 #in Joules\n",
    "# Based on the power, which is 100 mW = .1 J/s, we can deduce\n",
    "# power = (energy of a single photon)(number of photons per second)\n",
    "n_greenphotons_persecond = .1/E_greenphoton\n",
    "p_greenlaser = p_greenphoton * n_greenphotons_persecond\n",
    "### END SOLUTION"
   ]
  },
  {
   "cell_type": "code",
   "execution_count": 15,
   "metadata": {
    "nbgrader": {
     "grade": true,
     "grade_id": "Tgreenlaser",
     "locked": true,
     "points": 0,
     "schema_version": 3,
     "solution": false,
     "task": false
    },
    "solution2": "hidden"
   },
   "outputs": [
    {
     "name": "stdout",
     "output_type": "stream",
     "text": [
      "the momentum transfered per second is 3.336e-10 kg m/s\n"
     ]
    }
   ],
   "source": [
    "assert(isinstance(p_greenlaser,float))\n",
    "print(\"the momentum transfered per second is {0:.3e} kg m/s\".format(p_greenlaser))\n",
    "\n",
    "### BEGIN HIDDEN TESTS\n",
    "assert(np.isclose(p_greenlaser,3.336e-10,rtol=1e-3))\n",
    "### END HIDDEN TESTS"
   ]
  },
  {
   "cell_type": "markdown",
   "metadata": {
    "nbgrader": {
     "grade": false,
     "grade_id": "QCo60",
     "locked": true,
     "schema_version": 3,
     "solution": false,
     "task": false
    },
    "solution2": "hidden",
    "solution2_first": true
   },
   "source": [
    "### &#x1F5A9; Wavelength emitted by a radiopharmaceutical\n",
    "The radioactive isotope Cobalt-60 is used in nuclear medicine to treat cancer. The energy emitted by Cobalt-60 is 1.29 x 10^11 J/mol. What is the wavelength of the emitted $\\gamma$ rays?"
   ]
  },
  {
   "cell_type": "code",
   "execution_count": 16,
   "metadata": {
    "nbgrader": {
     "grade": false,
     "grade_id": "cell-66e8bdad8b507666",
     "locked": false,
     "schema_version": 3,
     "solution": true,
     "task": false
    },
    "solution2": "hidden"
   },
   "outputs": [
    {
     "name": "stdout",
     "output_type": "stream",
     "text": [
      "the wavelength emitted by the radioactive isotope Co60 is 9.273e-13 m\n"
     ]
    }
   ],
   "source": [
    "# Use the code box as a calculator, but report your answer as a float. \n",
    "# wlength_Co60 = float. I've initialized the answer to None.\n",
    "wlength_Co60 = None\n",
    "\n",
    "### BEGIN SOLUTION\n",
    "# The energy is given in Joules per mole, so let's first compute the energy of a single photon,\n",
    "E_photonCo60 = 1.29e11/constants.N_A\n",
    "# The wavelength is then determined form E = h*frequency = hc/wavelength\n",
    "wlength_C60 = constants.h * constants.c/E_photonCo60\n",
    "print(\"the wavelength emitted by the radioactive isotope Co60 is {0:.3e} m\".format(wlength_C60))\n",
    "### END SOLUTION"
   ]
  },
  {
   "cell_type": "code",
   "execution_count": 17,
   "metadata": {
    "solution2": "hidden"
   },
   "outputs": [],
   "source": [
    "assert(isinstance(wlength_C60,float))\n",
    "\n",
    "### BEGIN HIDDEN TESTS\n",
    "assert(np.isclose(wlength_C60,9.273e-13,rtol=1e-3))\n",
    "### END HIDDEN TESTS"
   ]
  },
  {
   "cell_type": "markdown",
   "metadata": {
    "nbgrader": {
     "grade": false,
     "grade_id": "Qduality3",
     "locked": true,
     "schema_version": 3,
     "solution": false,
     "task": false
    },
    "solution2": "hidden",
    "solution2_first": true
   },
   "source": [
    "### &#x1fa99; Davisson-Germer experiment\n",
    "The Davisson-Germer experiment was among the first explicit verifications of the wave-like nature of electrons, and was foundational for modern electron diffraction methods. (True/False)"
   ]
  },
  {
   "cell_type": "code",
   "execution_count": 18,
   "metadata": {
    "nbgrader": {
     "grade": false,
     "grade_id": "Adualit3",
     "locked": false,
     "schema_version": 3,
     "solution": true,
     "task": false
    },
    "solution2": "hidden"
   },
   "outputs": [],
   "source": [
    "# Report your answer as a Boolean, so ad3 = True or ad3 = False\n",
    "ad3 = None\n",
    "\n",
    "### BEGIN SOLUTION\n",
    "ad3 = True\n",
    "### END SOLUTION"
   ]
  },
  {
   "cell_type": "code",
   "execution_count": 19,
   "metadata": {
    "nbgrader": {
     "grade": true,
     "grade_id": "Tdualit3",
     "locked": true,
     "points": 0,
     "schema_version": 3,
     "solution": false,
     "task": false
    },
    "solution2": "hidden"
   },
   "outputs": [
    {
     "name": "stdout",
     "output_type": "stream",
     "text": [
      "The answer is: True\n"
     ]
    }
   ],
   "source": [
    "assert(isinstance(ad3,bool))\n",
    "print(\"The answer is:\", ad3)\n",
    "### BEGIN HIDDEN TESTS\n",
    "assert(ad3 == True)\n",
    "### END HIDDEN TESTS"
   ]
  },
  {
   "cell_type": "markdown",
   "metadata": {
    "nbgrader": {
     "grade": true,
     "grade_id": "Edualit3",
     "locked": false,
     "points": 0,
     "schema_version": 3,
     "solution": true,
     "task": false
    },
    "solution2": "hidden"
   },
   "source": [
    "=== BEGIN MARK SCHEME ===\n",
    "\n",
    "You can find more details about the Davisson-Germer experiment in section 3.3 of the [notes on the Introduction to Quantum Mechanics](https://paulwayers.github.io/IntroQChem/notes/html/History.html).\n",
    "\n",
    "=== END MARK SCHEME ==="
   ]
  },
  {
   "cell_type": "markdown",
   "metadata": {
    "nbgrader": {
     "grade": false,
     "grade_id": "Qduality3b",
     "locked": true,
     "schema_version": 3,
     "solution": false,
     "task": false
    },
    "solution2": "hidden",
    "solution2_first": true
   },
   "source": [
    "### &#x1f3b2; Davisson-Germer experiment\n",
    "The Davisson-Germer experiment demonstrated that if you shine a beam of electrons on a metal crystal, the result is <br>\n",
    "**A**. the electrons are absorbed at “critical energies” similar to the optical (light) absorption spectrum. <br>\n",
    "**B**. the electrons scatter according to the Bragg law for X-ray scattering. <br>\n",
    "**C**. the electrons go right through the metal. <br>\n",
    "**D**. the metal gets very hot and becomes a dull red color (stimulated blackbody emission of radiation). <br>"
   ]
  },
  {
   "cell_type": "code",
   "execution_count": 20,
   "metadata": {
    "nbgrader": {
     "grade": false,
     "grade_id": "Aduality3b",
     "locked": false,
     "schema_version": 3,
     "solution": true,
     "task": false
    },
    "solution2": "hidden"
   },
   "outputs": [],
   "source": [
    "# Report your answer as a list, tuple, or set containing the correct answers. \n",
    "# For example, if the answers are A and C, then ad3b = [\"A\", \"C\"]. \n",
    "# I've initialized the answer to the empty list.\n",
    "ad3b = []\n",
    "\n",
    "### BEGIN SOLUTION\n",
    "ad3b = [\"B\"]\n",
    "### END SOLUTION"
   ]
  },
  {
   "cell_type": "code",
   "execution_count": 21,
   "metadata": {
    "nbgrader": {
     "grade": true,
     "grade_id": "Tduality3b",
     "locked": true,
     "points": 0,
     "schema_version": 3,
     "solution": false,
     "task": false
    },
    "solution2": "hidden"
   },
   "outputs": [
    {
     "name": "stdout",
     "output_type": "stream",
     "text": [
      "In the Davisson-Germer experiment ['B']\n"
     ]
    }
   ],
   "source": [
    "print(\"In the Davisson-Germer experiment\", ad3b)\n",
    "assert(isinstance(ad3b,set) or isinstance(ad3b,list) or isinstance(ad3b,tuple))\n",
    "assert(len(ad3b) == 1)\n",
    "### BEGIN HIDDEN TESTS\n",
    "assert(set(map(str.casefold,ad3b)) == {\"b\"})\n",
    "### END HIDDEN TESTS"
   ]
  },
  {
   "cell_type": "markdown",
   "metadata": {
    "nbgrader": {
     "grade": false,
     "grade_id": "Qduality4",
     "locked": true,
     "schema_version": 3,
     "solution": false,
     "task": false
    },
    "solution2": "hidden",
    "solution2_first": true
   },
   "source": [
    "### &#x1F5A9; Properties of photons\n",
    "What is the momentum of a $\\gamma$-ray photon with a wavelength of $10^{-13}$ m in SI units of ${\\frac{\\text{m} \\cdot \\text{kg}}{\\text{s}}}$?"
   ]
  },
  {
   "cell_type": "code",
   "execution_count": 22,
   "metadata": {
    "nbgrader": {
     "grade": false,
     "grade_id": "Aduality4",
     "locked": false,
     "schema_version": 3,
     "solution": true,
     "task": false
    },
    "solution2": "hidden"
   },
   "outputs": [
    {
     "name": "stdout",
     "output_type": "stream",
     "text": [
      "the momentum of a photon with a wavelength of 1e-13 m is 6.626e-21 m kg/s\n"
     ]
    }
   ],
   "source": [
    "# Use the code box as a calculator, but report your answer as a float. \n",
    "# ad4 = float. I've initialized the answer to None.\n",
    "ad4 = None\n",
    "\n",
    "### BEGIN SOLUTION\n",
    "# momentum = h/wavelength\n",
    "ad4 = constants.h/1e-13\n",
    "print(\"the momentum of a photon with a wavelength of 1e-13 m is {0:.3e} m kg/s\".format(ad4))\n",
    "### END SOLUTION"
   ]
  },
  {
   "cell_type": "code",
   "execution_count": 23,
   "metadata": {
    "nbgrader": {
     "grade": true,
     "grade_id": "Tduality4",
     "locked": true,
     "points": 0,
     "schema_version": 3,
     "solution": false,
     "task": false
    },
    "solution2": "hidden"
   },
   "outputs": [],
   "source": [
    "assert(isinstance(ad4,float))\n",
    "\n",
    "### BEGIN HIDDEN TESTS\n",
    "assert(np.isclose(ad4,constants.h/1e-13,rtol=1e-3))\n",
    "### END HIDDEN TESTS"
   ]
  },
  {
   "cell_type": "markdown",
   "metadata": {
    "nbgrader": {
     "grade": true,
     "grade_id": "Eduality4",
     "locked": false,
     "points": 0,
     "schema_version": 3,
     "solution": true,
     "task": false
    },
    "solution2": "hidden"
   },
   "source": [
    "=== BEGIN MARK SCHEME ===\n",
    "The momentum of a photon can be computed from the De Broglie relation (here, better credited to Compton):\n",
    "\n",
    "$$ p = \\frac{h}{\\lambda} $$\n",
    "\n",
    "=== END MARK SCHEME ==="
   ]
  },
  {
   "cell_type": "markdown",
   "metadata": {
    "nbgrader": {
     "grade": false,
     "grade_id": "Qduality5",
     "locked": true,
     "schema_version": 3,
     "solution": false,
     "task": false
    },
    "solution2": "hidden",
    "solution2_first": true
   },
   "source": [
    "### &#x1F5A9; Rydberg's Law\n",
    "Rydberg's law says that the wavenumber for the absorptions for a one-electron atom/ion with atomic number Z is given by the expression\n",
    "\n",
    "$$ \\tilde{\\nu} = \\left( 1.0974 \\cdot 10^7 m^{-1}\\right) Z^2 \n",
    "\\left( \\frac{1}{n_1^2} - \\frac{1}{n_2^2} \\right) $$\n",
    "\n",
    "where $1 < n_1 < n_2 < \\inf$. Suppose you are given the Hydrogen atom in its ground state, $n_1=1$. What is the lowest absorption frequency?"
   ]
  },
  {
   "cell_type": "code",
   "execution_count": 24,
   "metadata": {
    "nbgrader": {
     "grade": false,
     "grade_id": "Aduality5",
     "locked": false,
     "schema_version": 3,
     "solution": true,
     "task": false
    },
    "solution2": "hidden"
   },
   "outputs": [
    {
     "name": "stdout",
     "output_type": "stream",
     "text": [
      "the lowest absorption frequency for the hydrogen atom is 2.467e+15 Hz\n"
     ]
    }
   ],
   "source": [
    "# Use the code box as a calculator, but report your answer as a float. \n",
    "# ad5 = float. I've initialized the answer to None.\n",
    "ad5 = None\n",
    "\n",
    "### BEGIN SOLUTION\n",
    "wavenumber = 1.0974e7 * 1 * (1 - 1./4) #from the Rydberg formula\n",
    "# frequency is speed of light times wavenumber, where wavenumber = 1/wavelength\n",
    "ad5 = constants.c*wavenumber\n",
    "print(\"the lowest absorption frequency for the hydrogen atom is {0:.3e} Hz\".format(ad5))\n",
    "### END SOLUTION"
   ]
  },
  {
   "cell_type": "code",
   "execution_count": 25,
   "metadata": {
    "nbgrader": {
     "grade": true,
     "grade_id": "Tduality5",
     "locked": true,
     "points": 0,
     "schema_version": 3,
     "solution": false,
     "task": false
    },
    "solution2": "hidden"
   },
   "outputs": [],
   "source": [
    "assert(isinstance(ad5,float))\n",
    "\n",
    "### BEGIN HIDDEN TESTS\n",
    "assert(np.isclose(ad5,2.467e15,rtol=1e-3))\n",
    "### END HIDDEN TESTS"
   ]
  },
  {
   "cell_type": "markdown",
   "metadata": {
    "nbgrader": {
     "grade": true,
     "grade_id": "Eduality5",
     "locked": false,
     "points": 0,
     "schema_version": 3,
     "solution": true,
     "task": false
    },
    "solution2": "hidden"
   },
   "source": [
    "=== BEGIN MARK SCHEME ===\n",
    "\n",
    "The lowest absorption frequency will correspond to exciting from the ground state to the lowest excited state, so $n_2 = 2$. Using this, we can compute the wavelength from:\n",
    "\n",
    "$$\\tilde{\\nu} = (1.0974\\cdot 10^7)(1^2)\\left(\\frac{1}{1^2} - \\frac{1}{2^2} \\right) $$\n",
    "\n",
    "and then convert the wavelength to frequency using\n",
    "\n",
    "$$ \\nu = c\\tilde{\\nu} $$\n",
    "\n",
    "=== END MARK SCHEME ==="
   ]
  },
  {
   "cell_type": "markdown",
   "metadata": {
    "nbgrader": {
     "grade": false,
     "grade_id": "Qduality6",
     "locked": true,
     "schema_version": 3,
     "solution": false,
     "task": false
    },
    "solution2": "hidden",
    "solution2_first": true
   },
   "source": [
    "### &#x1f3b2; Wave properties of particles\n",
    "Which of the following experimental results are often cited as examples of the wave-likeness of particles like electrons?  \n",
    "**A**. blackbody radiation  \n",
    "**B**. discrete emission lines in the hydrogen spectrum  \n",
    "**C**. photoelectric effect  \n",
    "**D**. Compton scattering of light by a particle  \n",
    "**E**. Electron scattering from a crystal"
   ]
  },
  {
   "cell_type": "code",
   "execution_count": 26,
   "metadata": {
    "nbgrader": {
     "grade": false,
     "grade_id": "Aduality6",
     "locked": false,
     "schema_version": 3,
     "solution": true,
     "task": false
    },
    "solution2": "hidden"
   },
   "outputs": [],
   "source": [
    "# Report your answer as a list, tuple, or set containing the correct answers. \n",
    "# For example, if the answers are A and C, then ad6 = [\"A\", \"C\"]. \n",
    "# I've initialized the answer to the empty list.\n",
    "ad6 = []\n",
    "\n",
    "### BEGIN SOLUTION\n",
    "ad6 = [\"E\"]\n",
    "### END SOLUTION"
   ]
  },
  {
   "cell_type": "code",
   "execution_count": 27,
   "metadata": {
    "nbgrader": {
     "grade": true,
     "grade_id": "Tduality6",
     "locked": true,
     "points": 0,
     "schema_version": 3,
     "solution": false,
     "task": false
    },
    "solution2": "hidden"
   },
   "outputs": [
    {
     "name": "stdout",
     "output_type": "stream",
     "text": [
      "The following phenomena are associated with the wave-like nature of electrons: ['E']\n"
     ]
    }
   ],
   "source": [
    "print(\"The following phenomena are associated with the wave-like nature of electrons:\", ad6)\n",
    "assert(isinstance(ad6,set) or isinstance(ad6,list) or isinstance(ad6,tuple))\n",
    "assert(len(ad6) > 0)\n",
    "### BEGIN HIDDEN TESTS\n",
    "assert(set(map(str.casefold,ad6)) == {\"e\"} or set(map(str.casefold,ad6)) == {\"b\",\"e\"})\n",
    "### END HIDDEN TESTS\n",
    "# B is a reasonable answer from the viewpoint of the Bohr model of the Hydrogen atom, but is less obvious than\n",
    "# E (electron scattering).\n"
   ]
  },
  {
   "cell_type": "markdown",
   "metadata": {
    "nbgrader": {
     "grade": false,
     "grade_id": "Qduality7",
     "locked": true,
     "schema_version": 3,
     "solution": false,
     "task": false
    },
    "solution2": "hidden",
    "solution2_first": true
   },
   "source": [
    "###  &#x1f3b2; Particle properties of waves\n",
    "Which of the following experimental results are often cited as examples of the particle-likeness of radiation (light)?   \n",
    "**A**. blackbody radiation <br>\n",
    "**B**. discrete emission lines in the hydrogen spectrum <br>\n",
    "**C**. photoelectric effect <br>\n",
    "**D**. Compton scattering of light by a particle <br>\n",
    "**E**. Electron scattering from a crystal <br>"
   ]
  },
  {
   "cell_type": "code",
   "execution_count": 28,
   "metadata": {
    "nbgrader": {
     "grade": false,
     "grade_id": "Aduality7",
     "locked": false,
     "schema_version": 3,
     "solution": true,
     "task": false
    },
    "solution2": "hidden"
   },
   "outputs": [],
   "source": [
    "# Report your answer as a list, tuple, or set containing the correct answers. \n",
    "# For example, if the answers are A and C, then ad7 = [\"A\", \"C\"]. \n",
    "# I've initialized the answer to the empty list.\n",
    "ad7 = []\n",
    "\n",
    "### BEGIN SOLUTION\n",
    "ad7 = [\"A\",\"C\",\"D\"]\n",
    "### END SOLUTION"
   ]
  },
  {
   "cell_type": "code",
   "execution_count": 29,
   "metadata": {
    "nbgrader": {
     "grade": true,
     "grade_id": "Tdualilty7",
     "locked": true,
     "points": 0,
     "schema_version": 3,
     "solution": false,
     "task": false
    },
    "solution2": "hidden"
   },
   "outputs": [
    {
     "name": "stdout",
     "output_type": "stream",
     "text": [
      "The following phenomena are associated with the particle-like nature of light: ['A', 'C', 'D']\n"
     ]
    }
   ],
   "source": [
    "print(\"The following phenomena are associated with the particle-like nature of light:\", ad7)\n",
    "assert(isinstance(ad7,set) or isinstance(ad7,list) or isinstance(ad7,tuple))\n",
    "assert(len(ad7) > 0)\n",
    "### BEGIN HIDDEN TESTS\n",
    "assert(set(map(str.casefold,ad7)) == {\"a\",\"c\",\"d\"})\n",
    "### END HIDDEN TESTS"
   ]
  },
  {
   "cell_type": "markdown",
   "metadata": {
    "nbgrader": {
     "grade": false,
     "grade_id": "Qduality9",
     "locked": true,
     "schema_version": 3,
     "solution": false,
     "task": false
    },
    "solution2": "hidden",
    "solution2_first": true
   },
   "source": [
    "### &#x1F5A9; xxxProperties of photons\n",
    "Suppose you are given a photon with an energy of 2 eV. What is its momentum in \n",
    "$\\frac{\\text{m} \\cdot \\text{kg}}{\\text{s}}$? What is its frequency in Hz?"
   ]
  },
  {
   "cell_type": "code",
   "execution_count": 30,
   "metadata": {
    "nbgrader": {
     "grade": false,
     "grade_id": "Aduality9",
     "locked": false,
     "schema_version": 3,
     "solution": true,
     "task": false
    },
    "solution2": "hidden"
   },
   "outputs": [
    {
     "name": "stdout",
     "output_type": "stream",
     "text": [
      "the frequency of a photon with an energy of 2 eV is 4.836e+14 Hz\n",
      "the momentum of a photon with an energy of 2 eV is 1.069e-27 m kg/s\n"
     ]
    }
   ],
   "source": [
    "# Use the code box as a calculator, but report your answer as float(s). \n",
    "# I've initialized the answers to None.\n",
    "momentum_d9 = None\n",
    "frequency_d9 = None\n",
    "\n",
    "### BEGIN SOLUTION\n",
    "# frequency = E/h\n",
    "# get Planck's constant in useful units.\n",
    "h_in_eVs = scipy.constants.value(\"Planck constant in eV/Hz\")\n",
    "frequency_d9 = 2.0/h_in_eVs\n",
    "#Now useful to use Planck's constant in nice units.\n",
    "momentum_d9 = constants.h*frequency_d9/constants.c\n",
    "\n",
    "print(\"the frequency of a photon with an energy of 2 eV is {0:.3e} Hz\".format(frequency_d9))\n",
    "print(\"the momentum of a photon with an energy of 2 eV is {0:.3e} m kg/s\".format(momentum_d9))\n",
    "### END SOLUTION"
   ]
  },
  {
   "cell_type": "code",
   "execution_count": 31,
   "metadata": {
    "nbgrader": {
     "grade": true,
     "grade_id": "Tduality9",
     "locked": true,
     "points": 0,
     "schema_version": 3,
     "solution": false,
     "task": false
    },
    "solution2": "hidden"
   },
   "outputs": [],
   "source": [
    "assert(isinstance(momentum_d9,float))\n",
    "assert(isinstance(frequency_d9,float))\n",
    "\n",
    "### BEGIN HIDDEN TESTS\n",
    "assert(np.isclose(momentum_d9,1.069e-27,rtol=1e-3))\n",
    "assert(np.isclose(frequency_d9,4.836e+14,rtol=1e-3))\n",
    "### END HIDDEN TESTS"
   ]
  },
  {
   "cell_type": "markdown",
   "metadata": {
    "nbgrader": {
     "grade": true,
     "grade_id": "Eduality9",
     "locked": false,
     "points": 0,
     "schema_version": 3,
     "solution": true,
     "task": false
    },
    "solution2": "hidden"
   },
   "source": [
    "=== BEGIN MARK SCHEME ===\n",
    "\n",
    "First we can compute the frequency of the photon as:\n",
    "\n",
    "$$ \\nu = \\frac{E}{h} $$\n",
    "\n",
    "but there is the slight complication that the energy was given in electron-volts. Fortunately we have this constant built into to scipy.constants. \n",
    "\n",
    "The momentum of the photon can be computed from the De Broglie relation,\n",
    "\n",
    "$$ p = \\frac{h}{\\lambda} = \\frac{h}{\\tfrac{c}{\\nu}} = \\frac{h \\nu}{c} = \\frac{E}{c} $$\n",
    "\n",
    "Where the last formula, which was proposed long ago by Einstein and Compton and appeared in the notes, could have been used directly had you remembered it. However, because our energy is in electron-volts, it's a bit easier to use the next-to-last formula.\n",
    "\n",
    "=== END MARK SCHEME ==="
   ]
  },
  {
   "cell_type": "markdown",
   "metadata": {
    "nbgrader": {
     "grade": false,
     "grade_id": "Q_Ep_from_k",
     "locked": true,
     "schema_version": 3,
     "solution": false,
     "task": false
    },
    "solution2": "hidden",
    "solution2_first": true
   },
   "source": [
    "### &#x1F5A9; xxxProperties of photons\n",
    "What is the momentum and energy of a photon with angular wavenumber $k=10^7 \\text{m}^{-1}$?"
   ]
  },
  {
   "cell_type": "code",
   "execution_count": 32,
   "metadata": {
    "nbgrader": {
     "grade": false,
     "grade_id": "A_Ep_from_K",
     "locked": false,
     "schema_version": 3,
     "solution": true,
     "task": false
    },
    "solution2": "hidden"
   },
   "outputs": [
    {
     "name": "stdout",
     "output_type": "stream",
     "text": [
      "the momentum of a photon with an angular wavenumber of 1e7 1/m is 1.055e-27 m kg/s.\n",
      "the energy of a photon with an angular wavenumber of 1e7 1/m is 3.162e-19 J.\n"
     ]
    }
   ],
   "source": [
    "# Use the code box as a calculator, but report your answer as float(s). \n",
    "# I've initialized the answers to None.\n",
    "p_from_k = None   #momentum of the photon\n",
    "E_from_k = None   #Energy of the photon\n",
    "\n",
    "### BEGIN SOLUTION\n",
    "# p = h-bar * k\n",
    "p_from_k = constants.hbar * 1e7\n",
    "E_from_k = constants.c * p_from_k\n",
    "\n",
    "print(\"the momentum of a photon with an angular wavenumber of 1e7 1/m is {0:.3e} m kg/s.\".format(p_from_k))\n",
    "print(\"the energy of a photon with an angular wavenumber of 1e7 1/m is {0:.3e} J.\".format(E_from_k))\n",
    "### END SOLUTION"
   ]
  },
  {
   "cell_type": "code",
   "execution_count": 33,
   "metadata": {
    "nbgrader": {
     "grade": true,
     "grade_id": "T_Ep_from_k",
     "locked": true,
     "points": 0,
     "schema_version": 3,
     "solution": false,
     "task": false
    },
    "solution2": "hidden"
   },
   "outputs": [],
   "source": [
    "assert(isinstance(p_from_k,float))\n",
    "assert(isinstance(E_from_k,float))\n",
    "\n",
    "### BEGIN HIDDEN TESTS\n",
    "assert(np.isclose(p_from_k,1.055e-27,rtol=1e-3))\n",
    "assert(np.isclose(E_from_k,3.162e-19,rtol=1e-3))\n",
    "### END HIDDEN TESTS"
   ]
  },
  {
   "cell_type": "markdown",
   "metadata": {
    "nbgrader": {
     "grade": true,
     "grade_id": "E_Ep_from_k",
     "locked": false,
     "points": 0,
     "schema_version": 3,
     "solution": true,
     "task": false
    },
    "solution2": "hidden"
   },
   "source": [
    "=== BEGIN MARK SCHEME ===\n",
    "\n",
    "We can start with the equation for the momentum, which is easy:\n",
    "\n",
    "$$ p = \\hbar k $$\n",
    "\n",
    "\n",
    "The equation for the energy can deduced directly as $E = pc$, but if you forgot this, then,\n",
    "\n",
    "$$ E = h \\nu = \\frac{hc}{\\lambda} = p c $$\n",
    "\n",
    "using the Planck relation (first equality) and the De Broglie relation (last equality).\n",
    "\n",
    "=== END MARK SCHEME ==="
   ]
  },
  {
   "cell_type": "markdown",
   "metadata": {
    "nbgrader": {
     "grade": false,
     "grade_id": "Q_baseball",
     "locked": true,
     "schema_version": 3,
     "solution": false,
     "task": false
    },
    "solution2": "hidden",
    "solution2_first": true
   },
   "source": [
    "### &#x1F5A9; xxxDe Broglie wavelength of a baseball\n",
    "During departmental baseball games, your instructor insists that the only reason he strikes out is because of the De Broglie wavelength of the baseball means that even though he swings in the correct location, he still misses. Suppose that the opposing major-league-quality hurler throws the baseball (mass = 145 g) at 100 miles-per-hour (45 m/s). What is the De Broglie wavelength of the baseball?"
   ]
  },
  {
   "cell_type": "code",
   "execution_count": 34,
   "metadata": {
    "nbgrader": {
     "grade": false,
     "grade_id": "A_baseball",
     "locked": false,
     "schema_version": 3,
     "solution": true,
     "task": false
    },
    "solution2": "hidden"
   },
   "outputs": [
    {
     "name": "stdout",
     "output_type": "stream",
     "text": [
      "the wavelength of the baseball is 1.015e-34 m!\n"
     ]
    }
   ],
   "source": [
    "# Use the code box as a calculator, but report your answer as float(s). \n",
    "# I've initialized the answer to None.\n",
    "wl_baseball = None   #wavelength of the baseball.\n",
    "\n",
    "### BEGIN SOLUTION\n",
    "# wavelength = h/momentum = h/(mass * velocity) = h/(.145 kg * 45 m/s)\n",
    "wl_baseball = constants.h/(.145*45)\n",
    "\n",
    "print(\"the wavelength of the baseball is {0:.3e} m!\".format(wl_baseball))\n",
    "### END SOLUTION"
   ]
  },
  {
   "cell_type": "code",
   "execution_count": 35,
   "metadata": {
    "solution2": "hidden"
   },
   "outputs": [],
   "source": [
    "assert(isinstance(wl_baseball,float))\n",
    "\n",
    "### BEGIN HIDDEN TESTS\n",
    "assert(np.isclose(wl_baseball,1.e-34,rtol=1e-2))\n",
    "### END HIDDEN TESTS"
   ]
  },
  {
   "cell_type": "markdown",
   "metadata": {
    "nbgrader": {
     "grade": false,
     "grade_id": "preambleSE",
     "locked": true,
     "schema_version": 3,
     "solution": false,
     "task": false
    }
   },
   "source": [
    "## The Schr&ouml;dinger Equation"
   ]
  },
  {
   "cell_type": "markdown",
   "metadata": {
    "nbgrader": {
     "grade": false,
     "grade_id": "Qse_1",
     "locked": true,
     "schema_version": 3,
     "solution": false,
     "task": false
    },
    "solution2": "hidden",
    "solution2_first": true
   },
   "source": [
    "### &#x270d;&#xfe0f; xxxTime-Dependent Schr&ouml;dinger Equation\n",
    "What is the time-dependent Schr&ouml;dinger equation for the complex conjugate of the wavefunction, $\\Psi^*$?\n",
    "Put your answer in the markdown cell below. You can drag and drop an attachment (of most types) to this cell also. "
   ]
  },
  {
   "cell_type": "markdown",
   "metadata": {
    "nbgrader": {
     "grade": true,
     "grade_id": "Ase_1",
     "locked": false,
     "points": 0,
     "schema_version": 3,
     "solution": true,
     "task": false
    },
    "solution2": "hidden"
   },
   "source": [
    "=== BEGIN MARK SCHEME ===\n",
    "\n",
    "Taking the complex-conjugate of the time-dependent Schr&ouml;dinger equation gives:\n",
    "\n",
    "$$ -i \\hbar \\frac{d \\Psi^*(x,t)}{dt} = - \\frac{\\hbar}{2m} \\frac{d^2 \\Psi^*(x,t)}{dx^2} + V(x,t)\\Psi^*(x,t) $$\n",
    "\n",
    "=== END MARK SCHEME ==="
   ]
  },
  {
   "cell_type": "markdown",
   "metadata": {
    "nbgrader": {
     "grade": false,
     "grade_id": "Qse_2",
     "locked": true,
     "schema_version": 3,
     "solution": false,
     "task": false
    },
    "solution2": "hidden",
    "solution2_first": true
   },
   "source": [
    "### &#x1f3b2; xxxHamiltonian operator\n",
    "The Hamiltonian operator corresponds to which observable property of a quantum system? <br>\n",
    "**A**. Action <br>\n",
    "**B**. Momentum <br>\n",
    "**C**. Kinetic Energy <br>\n",
    "**D**. De Broglie Wavelength <br>\n",
    "**E**. Total Energy <br>\n",
    "**F**. Angular Momentum <br>\n",
    "**G**. Entropy  \n",
    "**H**. Planck Mass"
   ]
  },
  {
   "cell_type": "code",
   "execution_count": 36,
   "metadata": {
    "nbgrader": {
     "grade": false,
     "grade_id": "Ase_2",
     "locked": false,
     "schema_version": 3,
     "solution": true,
     "task": false
    },
    "solution2": "hidden"
   },
   "outputs": [],
   "source": [
    "# Report your answer as a list, tuple, or set containing the correct answers. \n",
    "# For example, if the answers are A and C, then ansSE2 = [\"A\", \"C\"]. \n",
    "# I've initialized the answer to the empty list.\n",
    "ansSE2 = []\n",
    "\n",
    "### BEGIN SOLUTION\n",
    "ansSE2 = [\"E\"]\n",
    "### END SOLUTION"
   ]
  },
  {
   "cell_type": "code",
   "execution_count": 37,
   "metadata": {
    "nbgrader": {
     "grade": true,
     "grade_id": "Tse_2",
     "locked": true,
     "points": 0,
     "schema_version": 3,
     "solution": false,
     "task": false
    },
    "solution2": "hidden"
   },
   "outputs": [
    {
     "name": "stdout",
     "output_type": "stream",
     "text": [
      "The Hamiltonian is the quantum-mechanical operator for: ['E']\n"
     ]
    }
   ],
   "source": [
    "print(\"The Hamiltonian is the quantum-mechanical operator for:\", ansSE2)\n",
    "assert(isinstance(ansSE2,set) or isinstance(ansSE2,list) or isinstance(ansSE2,tuple))\n",
    "assert(len(ansSE2) == 1)\n",
    "### BEGIN HIDDEN TESTS\n",
    "assert(set(map(str.casefold,ansSE2)) == {\"e\"})\n",
    "### END HIDDEN TESTS"
   ]
  },
  {
   "cell_type": "markdown",
   "metadata": {
    "nbgrader": {
     "grade": false,
     "grade_id": "preambleMath",
     "locked": true,
     "schema_version": 3,
     "solution": false,
     "task": false
    }
   },
   "source": [
    "## Mathematics"
   ]
  },
  {
   "cell_type": "markdown",
   "metadata": {
    "nbgrader": {
     "grade": false,
     "grade_id": "QProb_canbe_negative",
     "locked": true,
     "schema_version": 3,
     "solution": false,
     "task": false
    },
    "solution2": "hidden",
    "solution2_first": true
   },
   "source": [
    "###  &#x1fa99; xxxMathematical Properties of the wavefunction\n",
    "A probability density can be negative. (True/False)"
   ]
  },
  {
   "cell_type": "code",
   "execution_count": 38,
   "metadata": {
    "nbgrader": {
     "grade": false,
     "grade_id": "AProb_canbe_negative",
     "locked": false,
     "schema_version": 3,
     "solution": true,
     "task": false
    },
    "solution2": "hidden"
   },
   "outputs": [],
   "source": [
    "prob_canbe_negative = None\n",
    "\n",
    "### BEGIN SOLUTION\n",
    "prob_canbe_negative = False\n",
    "### END SOLUTION"
   ]
  },
  {
   "cell_type": "code",
   "execution_count": 39,
   "metadata": {
    "nbgrader": {
     "grade": true,
     "grade_id": "TProb_canbe_negative",
     "locked": true,
     "points": 0,
     "schema_version": 3,
     "solution": false,
     "task": false
    },
    "solution2": "hidden"
   },
   "outputs": [
    {
     "name": "stdout",
     "output_type": "stream",
     "text": [
      "It is False that a probability density can be negative.\n"
     ]
    }
   ],
   "source": [
    "assert(isinstance(prob_canbe_negative,bool))\n",
    "print(\"It is\", prob_canbe_negative, \"that a probability density can be negative.\")\n",
    "### BEGIN HIDDEN TESTS\n",
    "assert(prob_canbe_negative == False)\n",
    "### END HIDDEN TESTS"
   ]
  },
  {
   "cell_type": "markdown",
   "metadata": {
    "nbgrader": {
     "grade": false,
     "grade_id": "Qzzstar",
     "locked": true,
     "schema_version": 3,
     "solution": false,
     "task": false
    },
    "solution2": "hidden",
    "solution2_first": true
   },
   "source": [
    "### &#x1f3b2; xxxComplex Conjugation\n",
    "Let $z$ be a complex number. If $w$ is the product of $z$ and its complex \n",
    "conjugate, $w = z z^*$, which of the following is **always** true about $w$: <br>\n",
    "**A**. w is an imaginary number. <br>\n",
    "**B**. w is a complex number. <br>\n",
    "**C**. w is nonzero real number. <br>\n",
    "**D**. w is a nonnegative real number. <br>\n",
    "**E**. w is a nonzero complex number. <br>\n",
    "**F**. None of the above"
   ]
  },
  {
   "cell_type": "code",
   "execution_count": 40,
   "metadata": {
    "nbgrader": {
     "grade": false,
     "grade_id": "Azzstar",
     "locked": false,
     "schema_version": 3,
     "solution": true,
     "task": false
    },
    "solution2": "hidden"
   },
   "outputs": [],
   "source": [
    "# Report your answer as a list, tuple, or set containing the correct answers. \n",
    "# For example, if the answers are A and C, then zzstar = [\"A\", \"C\"]. \n",
    "# I've initialized the answer to the empty list.\n",
    "zzstar = []\n",
    "\n",
    "### BEGIN SOLUTION\n",
    "zzstar = [\"B\",\"D\"]\n",
    "### END SOLUTION"
   ]
  },
  {
   "cell_type": "code",
   "execution_count": 41,
   "metadata": {
    "nbgrader": {
     "grade": true,
     "grade_id": "Tzzstar",
     "locked": true,
     "points": 0,
     "schema_version": 3,
     "solution": false,
     "task": false
    },
    "solution2": "hidden"
   },
   "outputs": [
    {
     "name": "stdout",
     "output_type": "stream",
     "text": [
      "The product of a number and its complex conjugate is always ['B', 'D']\n"
     ]
    }
   ],
   "source": [
    "print(\"The product of a number and its complex conjugate is always\", zzstar)\n",
    "assert(isinstance(zzstar,set) or isinstance(zzstar,list) or isinstance(zzstar,tuple))\n",
    "assert(len(zzstar) > 0)\n",
    "### BEGIN HIDDEN TESTS\n",
    "assert(set(map(str.casefold,zzstar)) == {\"b\",\"d\"})\n",
    "### END HIDDEN TESTS"
   ]
  },
  {
   "cell_type": "markdown",
   "metadata": {
    "nbgrader": {
     "grade": false,
     "grade_id": "qMath1",
     "locked": true,
     "schema_version": 3,
     "solution": false,
     "task": false
    },
    "solution2": "hidden",
    "solution2_first": true
   },
   "source": [
    "### &#x270d;&#xfe0f; Complex Conjugation\n",
    "What is the complex conjugate of \n",
    "\n",
    "$$ \\Psi(x,t) = A e^{(a+bi)(kx - \\omega t)} $$\n"
   ]
  },
  {
   "cell_type": "markdown",
   "metadata": {
    "nbgrader": {
     "grade": true,
     "grade_id": "aMath1",
     "locked": false,
     "points": 0,
     "schema_version": 3,
     "solution": true,
     "task": false
    },
    "solution2": "hidden"
   },
   "source": [
    "=== BEGIN MARK SCHEME ===\n",
    "The complex conjugate is obtained by replacing $i$ with $-i$. So\n",
    "\n",
    "$$ \\Psi^*(x,t) = A e^{(a-bi)(kx - \\omega t)} $$\n",
    "\n",
    "I would accept an answer where it was not assumed that the constants in the expression were real, e.g.,\n",
    "\n",
    "$$ \\Psi^*(x,t) = A^* e^{(a^*-b^*i)(k^*x - \\omega^* t)} $$\n",
    "\n",
    "=== END MARK SCHEME ==="
   ]
  },
  {
   "cell_type": "markdown",
   "metadata": {
    "nbgrader": {
     "grade": false,
     "grade_id": "Q_ke_eigenfunction",
     "locked": true,
     "schema_version": 3,
     "solution": false,
     "task": false
    },
    "solution2": "hidden",
    "solution2_first": true
   },
   "source": [
    "### &#x1fa99; Eigenfunctions of the kinetic-energy operator\n",
    "*Every* eigenfunction of the momentum operator is also an eigenfunction of the kinetic-energy operator. (True/False)"
   ]
  },
  {
   "cell_type": "code",
   "execution_count": 42,
   "metadata": {
    "nbgrader": {
     "grade": false,
     "grade_id": "A_ke_eigenfunction",
     "locked": false,
     "schema_version": 3,
     "solution": true,
     "task": false
    },
    "solution2": "hidden"
   },
   "outputs": [],
   "source": [
    "# Report your answer as a Boolean, so is_also_eigenfunction = True or = False\n",
    "is_also_eigenfunction = None\n",
    "\n",
    "### BEGIN SOLUTION\n",
    "is_also_eigenfunction = True\n",
    "### END SOLUTION"
   ]
  },
  {
   "cell_type": "code",
   "execution_count": 43,
   "metadata": {
    "solution2": "hidden"
   },
   "outputs": [
    {
     "name": "stdout",
     "output_type": "stream",
     "text": [
      "The answer is: True\n"
     ]
    }
   ],
   "source": [
    "assert(isinstance(is_also_eigenfunction,bool))\n",
    "print(\"The answer is:\", is_also_eigenfunction)\n",
    "### BEGIN HIDDEN TESTS\n",
    "assert(is_also_eigenfunction == True)\n",
    "### END HIDDEN TESTS"
   ]
  },
  {
   "cell_type": "markdown",
   "metadata": {
    "solution2": "hidden"
   },
   "source": [
    "\n",
    "$$\\hat{p} \\psi(x) = \\lambda \\psi(x) $$\n",
    "\n",
    "$$ \\hat{T} = \\frac{\\hat{p}^2}{2m} $$\n",
    "\n",
    "$$ \\hat{T} \\psi(x) = \\tfrac{1}{2m} \\hat{p} \\hat{p} \\psi(x) =  \\tfrac{1}{2m} \\hat{p} \\lambda \\psi(x) =  \\tfrac{1}{2m} \\lambda^2 \\psi(x) $$\n",
    "\n",
    "The reverse is also true, but it's more subtle. You can use the fact that $\\hat{p} = 2m \\sqrt{\\hat{T}}$, but this is not quite true; $\\cos a x$ and $sin a x$ are eigenfunctions of the kinetic energy but not the momentum. The general result is that, given an operator, $\\hat{Q}$, with has eigenfunctions\n",
    "\n",
    "$$ \\hat{Q} \\psi_k(x) = \\theta_k \\psi_k(x) $$\n",
    "\n",
    "then any (analytic) function of $\\hat{Q}$, has the same eigenfunctions, and the values are:\n",
    "\n",
    "$$ f(\\hat{Q}) \\psi_k(x) = f(\\theta_k) \\psi_k(x) $$\n"
   ]
  },
  {
   "cell_type": "markdown",
   "metadata": {},
   "source": [
    "&#x1f4dd; \n",
    "&#x1f500;"
   ]
  },
  {
   "cell_type": "code",
   "execution_count": null,
   "metadata": {},
   "outputs": [],
   "source": []
  }
 ],
 "metadata": {
  "celltoolbar": "Create Assignment",
  "kernelspec": {
   "display_name": "Python 3",
   "language": "python",
   "name": "python3"
  },
  "language_info": {
   "codemirror_mode": {
    "name": "ipython",
    "version": 3
   },
   "file_extension": ".py",
   "mimetype": "text/x-python",
   "name": "python",
   "nbconvert_exporter": "python",
   "pygments_lexer": "ipython3",
   "version": "3.8.5"
  },
  "latex_envs": {
   "LaTeX_envs_menu_present": true,
   "autoclose": false,
   "autocomplete": true,
   "bibliofile": "biblio.bib",
   "cite_by": "apalike",
   "current_citInitial": 1,
   "eqLabelWithNumbers": true,
   "eqNumInitial": 1,
   "hotkeys": {
    "equation": "Ctrl-E",
    "itemize": "Ctrl-I"
   },
   "labels_anchors": false,
   "latex_user_defs": false,
   "report_style_numbering": false,
   "user_envs_cfg": false
  },
  "toc": {
   "base_numbering": 1,
   "nav_menu": {},
   "number_sections": true,
   "sideBar": true,
   "skip_h1_title": false,
   "title_cell": "Table of Contents",
   "title_sidebar": "Contents",
   "toc_cell": true,
   "toc_position": {
    "height": "calc(100% - 180px)",
    "left": "10px",
    "top": "150px",
    "width": "274.6px"
   },
   "toc_section_display": true,
   "toc_window_display": false
  }
 },
 "nbformat": 4,
 "nbformat_minor": 4
}
