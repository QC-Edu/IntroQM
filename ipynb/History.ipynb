{
 "cells": [
  {
   "cell_type": "markdown",
   "metadata": {},
   "source": [
    "![Newton and Schrodinger](https://i.redd.it/rba5bp0m3zbz.jpg \"All rights reserved; https://piecomic.tumblr.com/post/163421291347\") \n",
    "\n",
    "# From Newton to Schr&ouml;dinger\n",
    "\n",
    "## &#x1f945; Learning Objectives\n",
    "- To learn about the historical origins of quantum mechanics.\n",
    "- To introduce wave-particle duality and key concepts like the\n",
    "  - Planck-Einstein relation for the energy of a photon\n",
    "  - Einstein-Compton-De Broglie relation between momentum and wavelength\n",
    "  - quantization of energy levels\n",
    "- To introduce the Schr&ouml;dinger equation and the probabilistic interpretation thereof."
   ]
  },
  {
   "cell_type": "markdown",
   "metadata": {},
   "source": [
    "## What is Quantum Mechanics\n",
    "Starting in the late 1800’s, experimental physicists began to make observations that challenged the “classical” equations of physics.  What emerged was quantum mechanics. Quantum mechanics unifies and supersedes the theories of classical Newtonian mechanics and classical Maxwellian electromagnetism.  \n",
    "\n",
    "In classical physics, radiation and matter are inherently different:  radiation and matter are governed by different physical laws and modeled with different equations.  Quantum mechanics abolishes the inherent difference between radiation and matter.  Radiation—e.g., light—has properties (a well-defined energy and momentum) that are associated with matter.  Matter—e.g., an electron—has properties (a wavelength) that are associated with radiation.  \n",
    "\n",
    "The wave-like-ness of matter immediately leads to something called quantization. Matter is “chunky.”  There is no such thing as “half an electron.”  One always has an integer number of elementary particles.  So if I give you a system containing some number of electrons, you can safely say that the total mass of the system is"
   ]
  },
  {
   "cell_type": "markdown",
   "metadata": {},
   "source": [
    "$$ m_{\\text{total}} = n_e m_e $$"
   ]
  },
  {
   "cell_type": "markdown",
   "metadata": {},
   "source": [
    "where $m_e$ is the mass of the electron and $n_e$ is a nonnegative integer. Using mass-energy equivalence, this means that the energy of these electrons should also be discrete"
   ]
  },
  {
   "cell_type": "markdown",
   "metadata": {},
   "source": [
    "$$ E_{\\text{total}} = n_e m_e c^2 $$"
   ]
  },
  {
   "cell_type": "markdown",
   "metadata": {},
   "source": [
    "where $c$ is the speed of light.\n",
    "  \n",
    "Waves, however do not seem to be \"chunky\". If I want to put more energy into a wave, I can increase its amplitude or increase its frequency (by an noninteger amount).  So it would seem possible to make waves with any amount of energy.  It was Max Planck, in 1900, that proposed that there should also be a “quantization” of radiation, and that radiation should come in integer chunks, with the energy proportional to the frequency of the radiation:"
   ]
  },
  {
   "cell_type": "markdown",
   "metadata": {},
   "source": [
    "$$ E_{\\text{total}} \\propto n_{ph} \\nu_{ph} $$"
   ]
  },
  {
   "cell_type": "markdown",
   "metadata": {},
   "source": [
    "The proportional constant is called *Planck's constant*:"
   ]
  },
  {
   "cell_type": "markdown",
   "metadata": {},
   "source": [
    "$$ E_{\\text{total}} = h n_{ph} \\nu_{ph} $$"
   ]
  },
  {
   "cell_type": "markdown",
   "metadata": {},
   "source": [
    "where"
   ]
  },
  {
   "cell_type": "markdown",
   "metadata": {},
   "source": [
    "$$\n",
    "\\begin{align}\n",
    "h &= 6.626 \\cdot 10^{-34} \\; \\text{J} \\cdot \\text{s} \\\\\\\\\n",
    "  &= 6.626 \\cdot 10^{-34} \\; \\tfrac{\\text{kg} \\cdot \\text{m}^2}{\\text{s}} \\\\\\\\\n",
    "  &= 6.626 \\cdot 10^{-34} \\; \\tfrac{\\text{V} \\cdot \\text{s}}{\\text{C}}\n",
    "\\end{align}\n",
    "$$"
   ]
  },
  {
   "cell_type": "markdown",
   "metadata": {},
   "source": [
    "Planck's constant is very small, which explains why electromagnetic radiation does not seem to be \"chunky\" in everyday life. Similarly, the masses and charges of elementary particles are very small, which is why Newtonian mechanics is accurate enough to describe macroscopic phenomena. However, it is essential to include quantum effects when we deal with particles with very little mass (e.g., electrons). \n",
    "  \n",
    "Planck proposed the quantization of radiation as a mathematical trick to provide a model for blackbody radiation.  In 1905, Einstein interpreted this trick in the most literal possible way, proposing the quantization of light.  This interpretation led to an interpretation of the photoelectric effect, which eventually earned Einstein the Nobel Prize in Physics.  Planck also won the Nobel Prize in physics.  "
   ]
  },
  {
   "cell_type": "markdown",
   "metadata": {},
   "source": [
    "![Black-body radiation](https://upload.wikimedia.org/wikipedia/commons/1/19/Black_body.svg \"The radiation of black body shifts from predominately in the infrared to lower wavelength--red-hot and white-hot, glowing in the visible--as the temperature increases. Classical theory predicts is accurate only at high wavelengths, erroneously predicting an ultraviolet catastrophe with intense radiation emitted at very short frequencies.\")  \n",
    "\n",
    "## How was Quantum Mechanics Discovered?\n",
    "It is impossible to fully explain the historical foundations of quantum mechanics in a course like this one.  Instead, I will try to give you a very brief overview of some key experiments that changed physics.\n",
    "\n",
    "![Color temperature](https://github.com/PaulWAyers/IntroQChem/blob/main/linkedFiles/colortemp.jpg?raw=true \"Light bulbs are rated based on the temperature of a black body that would have a similar spectrum; image from inlineelectric.com/color_temperature\")\n",
    "\n",
    "### [Black-body Radiation](https://en.wikipedia.org/wiki/Black-body_radiation)\n",
    "\n",
    "An inflammable object that absorbs all incident light, but does not transmit or reflect light, is called a black body. Because it is totally opaque and absorbs all light that falls upon it, a black body at zero Kelvin is the very definition of black. However, when you heat a blackbody, it glows. A good (but not perfect) example of a black body is a red-hot poker. An even better example is the sun.  Blackbody radiation has been observed by humans for millennia (or even longer): lava flows, molten glass, molten metal, and many other materials can be considered blackbodies. So it was extremely embarrassing to 19th-century physicists that they could not predict the spectrum—that is, which wavelengths of light occur with what intensity—of a blackbody. \n",
    "  \n",
    "In principle the spectrum of a black body should be easy to describe with classical statistical mechanics. However, classical statistical mechanics predicted that most of the light emitted would have a very short wavelength, the so-called \"ultraviolet catastrophe.\" Planck suggested that the vibrations of atoms in a black body, and ergo the light emitted therefrom, was quantized into chunks. Planck understood that his result was significant, but he still thought of it as a mathematical trick. \n",
    "\n",
    "![Photoelectric Effect](https://github.com/PaulWAyers/IntroQChem/blob/main/linkedFiles/photoelectric.png?raw=true \"In the photoelectric effect, light with enough energy to ionize electrons from a metal causes the electrons to emit, with maximum kinetic energy proportional to the excess energy of the photon beyond the work function of the metal. Image from hyperphysics.\")\n",
    "\n",
    "### [Photoelectric Effect](https://en.wikipedia.org/wiki/Photoelectric_effect)\n",
    "\n",
    "When one shines light on a metal surface, one observes that if the light has a low enough frequency (long enough wavelength), then no electrons escape from the surface. This holds (to an excellent approximation) no matter how intense the light is. However, with a sufficiently high frequency (short enough wavelength), electrons will start to escape from the surface. Importantly, the maximum kinetic energy of the electrons escaping from the surface grows as the frequency of the light increases, and the number of electrons escaping from the surface grows as the intensity of the light increases. But increasing the intensity of the light does not increase the maximum kinetic energy of the emitted electrons, nor does increasing the frequency of the light increase the number of electrons emitted.\n",
    "\n",
    "Einstein decided to take Planck's mathematical expression at face value, and interpret light as coming in chunks called photons, with energy given by Planck's expression:"
   ]
  },
  {
   "cell_type": "markdown",
   "metadata": {},
   "source": [
    "$$ E_{ph} = h \\nu_{ph} $$"
   ]
  },
  {
   "cell_type": "markdown",
   "metadata": {},
   "source": [
    "This allowed him to describe the photoelectric effect. Specifically, whenever $h \\nu $ was less than a threshold value for the substance called its work function, $W$, no light would be emitted. (The work function can be thought of as the \"ionization potential\" for a metal.) But when $h \\nu > W$, then photons had enough energy to remove an electron from the metal, and the surplus energy from the photon could be imparted to the electron as kinetic energy. Ergo"
   ]
  },
  {
   "cell_type": "markdown",
   "metadata": {},
   "source": [
    "$$ \\text{Kinetic Energy}_{\\text{max}} = h \\nu - W $$"
   ]
  },
  {
   "cell_type": "markdown",
   "metadata": {},
   "source": [
    "As the light becomes more intense, the number of photons increases and the number of electrons emitted increases but, unless the light is very, very, very intense, the maximum kinetic energy of the electrons is left unaltered.\n",
    "\n",
    "![Compton Scattering](https://upload.wikimedia.org/wikipedia/commons/e/e3/Compton-scattering.svg \"Shows how photons can inelastically scatter with electrons consistent with conservation of energy and momentum, licensed by Jabberwok under CC-SA 3\")\n",
    "\n",
    "### [Compton Effect](https://en.wikipedia.org/wiki/Compton_scattering)\n",
    "\n",
    "When you shine light on an (isolated) electron sitting at rest, sometimes the light scatters inelastically&mdash;that is the emitted light has a lower frequency than the incident light. The change in energy between the incident and emitted light is manifest in the kinetic energy of the electron. However, it's observed that the electron does not move in an arbitrary direction, but instead moves in the direction that would be expected if a photon were a classical particle moving at the speed of light with effective mass $m_{ph,\\text{eff}} = \\tfrac{h \\nu}{c^2}$. Note that the photon does not actually have mass. However, the photon does have momentum, which explains the inelastic scattering result. The formula is derived by *assuming* that one can set the rest-mass-energy expression, $E = m c^2$, to the Planck relation for the energy of a photon. Then "
   ]
  },
  {
   "cell_type": "markdown",
   "metadata": {},
   "source": [
    "$$\n",
    "\\begin{align}\n",
    "m_{ph,\\text{eff}} c^2 &= h \\nu \\\\\\\\\n",
    "m_{ph,\\text{eff}} &= \\tfrac{h \\nu}{c^2}\n",
    "\\end{align} \n",
    "$$"
   ]
  },
  {
   "cell_type": "markdown",
   "metadata": {},
   "source": [
    "and the momentum of the photon would be its effective mass times its speed, $c$:"
   ]
  },
  {
   "cell_type": "markdown",
   "metadata": {},
   "source": [
    "$$ p_{ph} = \\tfrac{h \\nu}{c} $$"
   ]
  },
  {
   "cell_type": "markdown",
   "metadata": {},
   "source": [
    "Recall that the wavelength, $\\lambda$, and frequency, $\\nu$ of light are related according to the relation"
   ]
  },
  {
   "cell_type": "markdown",
   "metadata": {},
   "source": [
    "$$ \\nu = \\tfrac{c}{\\lambda} $$"
   ]
  },
  {
   "cell_type": "markdown",
   "metadata": {},
   "source": [
    "This means that the momentum of light can be expressed as"
   ]
  },
  {
   "cell_type": "markdown",
   "metadata": {},
   "source": [
    "$$ p_{ph} = \\tfrac{h}{\\lambda} $$"
   ]
  },
  {
   "cell_type": "markdown",
   "metadata": {},
   "source": [
    "This is called the [De Broglie relation](https://en.wikipedia.org/wiki/Matter_wave). One of the key results of quantum mechanics is that the De Broglie relation holds for both waves (photons) and particles.\n",
    "\n",
    "![Electron Double Slit Experiment](https://upload.wikimedia.org/wikipedia/commons/6/69/Interference_electrons_double-slit_at_10cm.png \"Double slit experiment with electrons showing constructive and deconstructive interference. Licensed by Alexandre Gondran under CC-SA 4\")\n",
    "\n",
    "### [Davisson-Germer Experiment](https://en.wikipedia.org/wiki/Davisson%E2%80%93Germer_experiment)\n",
    "\n",
    "Based on the results of Compton and De Broglie, one should expect that a beam of electrons should diffract, with patterns of constructive and deconstructive interference, according to their wavelength. The Davisson-Germer experiment confirmed this, showing that electrons (particles) can constructively and deconstructively interfere like waves.\n",
    "\n",
    "![Rydberg Formula](https://upload.wikimedia.org/wikipedia/commons/2/21/Visible_spectrum_of_hydrogen.jpg \"The Rydberg formula describes the observed emission/absorption wavelengths for any 1-electron atom. Here is the visible spectrum of the Hydrogen atom, licensed Jan Homan under CC-SA 3\")\n",
    "\n",
    "### [Rydberg Formula](https://en.wikipedia.org/wiki/Rydberg_formula)\n",
    "\n",
    "By the late 1800s, it was known that when an dilute atomic gas was heated, it did not emit as a black body, but only at certain characteristic wavelengths. Rydberg managed to describe the specific wavelengths of the emission by the empirical formula\n",
    "\n",
    "$$\n",
    "\\frac{1}{\\lambda} \\propto \\frac{1}{n^2} - \\frac{1}{m^2}\n",
    "$$\n"
   ]
  },
  {
   "cell_type": "markdown",
   "metadata": {},
   "source": [
    "where $n$ and $m$ are positive integers: $n,m = 1,2,3,4,\\ldots$. Recalling the link between frequency and wavelength, $\\nu = \\tfrac{c}{\\lambda}$ and the Planck-Einstein relation for the energy of a photon,\n",
    "\n",
    "$$\n",
    "h \\nu \\propto \\frac{1}{n^2} - \\frac{1}{m^2}\n",
    "$$\n",
    "\n",
    "This suggests that photons are associated with transitions between energy levels that are labelled by indices, suggesting that the electronic energy levels of atoms are not arbitrary, but only have certain, quantized, values. The Rydberg formula is accurate for all one-electron atoms (at least until relativistic effects become nonneglible). It is also valid for highly-excited states (so-called Rydberg excitations) of many-electron atoms, where a single highly-excited electron is much further from the nucleus than the other electrons.\n",
    "\n",
    "### Wave-Particle Duality\n",
    "\n",
    "\n",
    "> It seems as though we must use sometimes the one theory and sometimes the other, while at times we may use either. We are faced with a new kind of difficulty. We have two contradictory pictures of reality; separately neither of them fully explains the phenomena ... but together they do.\n",
    "    - Albert Einstein\n",
    "\n",
    "The previous experiments, among many others, established that particles like electrons have wave-like properties, that electromagnetic radiation is composed of discrete photons with particle-like momentum and energy. The fact particles possess wave-like properties and waves provide particle-like properties is called [wave-particle duality](https://en.wikipedia.org/wiki/Wave%E2%80%93particle_duality): there is only one type of \"stuff\" in the universe and that stuff is \"chunky\" (like particles) and can constructively and deconstructively interfere (like waves). Moreover, the energies of atoms and molecules are quantized, having only specific discrete values."
   ]
  },
  {
   "cell_type": "markdown",
   "metadata": {},
   "source": [
    "#### &#x1f4dd; Exercise: Suppose you are given a photon with an energy of 2 eV. What is its momentum in $\\frac{\\text{m} \\cdot \\text{kg}}{\\text{s}}$? What is its frequency in Hz? \n",
    "[Answer](IntroExercise1.ipynb)\n",
    "\n",
    "#### &#x1f4dd; Exercise: What is the momentum and energy of a photon with angular wavenumber $k=\\frac{2\\pi}{\\lambda} = 10^7 \\text{m}^{-1}$? Give your answer in SI units. \n",
    "[Answer](IntroExercise2.ipynb)"
   ]
  },
  {
   "cell_type": "markdown",
   "metadata": {},
   "source": [
    "\n",
    "![Schrodinger Equation](https://github.com/PaulWAyers/IntroQChem/blob/main/linkedFiles/GraveSchrodinger.png?raw=true \"The grave of Schrodinger, with his equation. Image from Victor Blacus licensed under Creative Commons SA 3\")\n",
    "\n",
    "## The Schr&ouml;dinger Equation\n",
    "\n",
    "It seems that, in physics, the more we learn, the simpler things become. We used to believe that there were two types of things, \"particles\" (matter) and \"waves\" (radiation). Now we understand that there is really only one type of entity, perhaps call it a *wavicle* if you must give it a name. Electromagnetic radiation comes in discrete chunks (photons) just like particles (e.g., electrons). Photons and particles have position(ish), momentum(ish), and energy(ish), just like classical particles of matter; both also can manifest constructive and deconstructive interference, just like classical waves. The difference between matter and radiation is merley one of perspective.\n",
    "\n",
    "In 1925-26, Heisenberg and Schr&ouml;dinger, working independently, built mathematical frameworks to describe the wave-particle duality of quantum particles. Nowadays we usually (except sometimes in spectroscopy) prefer Schr&ouml;dinger's formulation. We will discuss the Schr&ouml;dinger equation in more detail in the next unit, but for now it is worth merely comparing it to other equations from classical mechanics and classical electromagnetism, just to intuitively show how it encapsulates wave-particle duality. Of course, a [more rigorous justification for the Schr&ouml;dinger equation](http://en.wikipedia.org/wiki/Theoretical_and_experimental_justification_for_the_Schr%C3%B6dinger_equation) is beyond the scope of this course.\n",
    "  \n",
    "For simplicity, we will only consider systems in one dimension.\n",
    "> [**Wave Equation**](https://en.wikipedia.org/wiki/Wave_equation) (classical electromagnetism) \n",
    ">\n",
    ">$$\n",
    "\\frac{d^2u(x,t)}{dt^2} = c^2 \\frac{d^2u(x,t)}{dx^2}\n",
    "$$\n",
    "\n",
    "<br>\n",
    "  \n",
    "> [**Hamilton-Jacobi Equation**](https://en.wikipedia.org/wiki/Hamilton%E2%80%93Jacobi_equation) (classical mechanics)\n",
    ">\n",
    ">$$\n",
    "-\\frac{dS(x,t)}{dt} = H \n",
    "$$\n",
    "> where $H = T + V$ is the sum of the kinetic energy, $T$, and the potential energy, $V$, written a function of $S$, $x$, and $t$. In the simplest case, one has: \n",
    ">$$\n",
    "-\\frac{dS(x,t)}{dt} = \\left( \\frac{1}{2m} \\frac{dS(x,t)}{dx} \\cdot \\frac{dS(x,t)}{dx} + V(x,t) \\right)\n",
    "$$\n",
    "> because the momentum can be identified as $p(x,t) = \\tfrac{dS(x,t)}{dx} $.\n",
    "\n",
    "<br>\n",
    "\n",
    "> [**Schr&ouml;dinger Equation**](https://en.wikipedia.org/wiki/Schr%C3%B6dinger_equation) (quantum mechanics)\n",
    "> \n",
    ">$$ \\frac{i h}{2 \\pi} \\frac{d \\Psi(x,t)}{dt} =  \\left( -\\frac{h^2}{2m (2 \\pi)^2 } \\frac{d^2 \\Psi(x,t)}{dx^2} + V(x,t)\\Psi(x,t) \\right) $$\n",
    ">The solution, $\\Psi(x,t)$ to the Schr&ouml;dinger equation is called the [*wavefunction*](https://en.wikipedia.org/wiki/Wave_function). A key postulate of quantum mechanics is that the wavefunction contains all the information needed to fully specify the observable properties of a quantum system. \n",
    "\n",
    "<br>\n",
    "\n",
    "All three equations have strong resemblance. But, in particular, the Schr&ouml;dinger equation and the Hamilton-Jacobi equation are consistent with each other. Suppose one uses the wavefunction ansatz,\n",
    "\n",
    "$$ \\Psi(x,t) = \\psi_0(x,t) e^{\\frac{2 \\pi i S(x,t)}{h}} $$\n",
    "\n",
    "where $\\psi_0(x,t)$ and $S(x,t)$ are, without loss of generality, assumed to be real-valued functions. We will insert this expression into the Schr&ouml;dinger equation, but first it is useful to define the quantity \n",
    "\n",
    "$$ \n",
    "\\hbar = \\tfrac{h}{2 \\pi} \n",
    "$$\n",
    "\n",
    "One then can rewrite the wavefunction and the Schr&ouml;dinger equation without the pesky factors of $2 \\pi$, respectively,\n",
    "\n",
    "$$ \\Psi(x,t) = \\psi_0(x,t) e^{\\frac{i S(x,t)}{\\hbar}} $$\n",
    "\n",
    "$$ i \\hbar \\frac{d \\Psi(x,t)}{dt} =  \\left( -\\frac{\\hbar^2}{2m} \\frac{d^2 \\Psi(x,t)}{dx^2} + V(x,t)\\Psi(x,t) \\right) $$\n",
    "Inserting the wavefunction into the Schr&ouml;dinger equation, the left-hand-side is\n",
    "\n",
    "$$\n",
    " i \\hbar \\frac{d \\Psi(x,t)}{dt} =e^{\\frac{i S(x,t)}{\\hbar}} \\left( i \\hbar \\frac{d \\psi_0(x,t)}{dt}-\\psi_0(x,t) \\frac{d S(x,t)}{dt} \\right)\n",
    "$$\n",
    "\n",
    "and the right-hand-side is\n",
    "\n",
    "$$\n",
    "\\begin{align}\n",
    "& \\left( -\\frac{\\hbar^2}{2m} \\frac{d^2 \\Psi(x,t)}{dx^2} +V(x,t)\\Psi(x,t) \\right) \\\\\\\\\n",
    "& = e^{\\frac{i S(x,t)}{\\hbar}} \\left(-\\frac{\\hbar^2}{2m} \\frac{d^2 \\psi_0(x,t)}{dx^2} - \\frac{i \\hbar}{m}\\frac{d \\psi_0(x,t)}{dx}\\frac{d S(x,t)}{dx} - \\frac{i \\hbar}{2m} \\psi_0(x,t) \\frac{d^2 S(x,t)}{dx^2} + \\frac{1}{2m}\\psi_0(x,t)\\left(\\frac{d S(x,t)}{dx}\\right)^2 + V(x,t) \\psi_0(x,t) \\right) \n",
    "\\end{align}\n",
    "$$\n",
    "\n",
    "Inserting these equations into the Schr&ouml;dinger equation and dividing through by $e^{\\frac{i S(x,t)}{\\hbar}}$ gives:\n",
    "\n",
    "$$\n",
    "\\begin{align} \n",
    "& \\left( i \\hbar \\frac{d \\psi_0(x,t)}{dt}-\\psi_0(x,t) \\frac{d S(x,t)}{dt} \\right) \\\\\\\\\n",
    "& = \\left(-\\frac{\\hbar^2}{2m} \\frac{d^2 \\psi_0(x,t)}{dx^2} - \\frac{i \\hbar}{m}\\frac{d \\psi_0(x,t)}{dx}\\frac{d S(x,t)}{dx} - \\frac{i \\hbar}{2m} \\psi_0(x,t) \\frac{d^2 S(x,t)}{dx^2} + \\frac{1}{2m}\\psi_0(x,t)\\left(\\frac{d S(x,t)}{dx}\\right)^2 + V(x,t) \\psi_0(x,t) \\right) \n",
    "\\end{align}\n",
    "$$\n",
    "\n",
    "The real and imaginary parts of this equation must be separately equal to each other. The real part of the equation is \n",
    "\n",
    "$$\n",
    "\\begin{align}\n",
    "-\\psi_0(x,t) \\frac{d S(x,t)}{dt}\n",
    "= \\left(-\\frac{\\hbar^2}{2m} \\frac{d^2 \\psi_0(x,t)}{dx^2} + \\frac{1}{2m}\\psi_0(x,t)\\left(\\frac{d S(x,t)}{dx}\\right)^2 + V(x,t) \\psi_0(x,t) \\right) \n",
    "\\end{align}\n",
    "$$\n",
    "\n",
    "Dividing both sides by $\\psi_0(x,t)$ and taking the classical limit, where $\\hbar \\rightarrow 0$, gives back the Hamilton-Jacobi equation,\n",
    "\n",
    "$$ - \\frac{d S(x,t)}{dt}\n",
    "= \\left(\\frac{1}{2m}\\left(\\frac{d S(x,t)}{dx}\\right)^2 + V(x,t) \\right) $$\n",
    "\n",
    "The imaginary part of the equation is:\n",
    "\n",
    "$$ \\hbar \\frac{d \\psi_0(x,t)}{dt} \n",
    "= - \\left(\\frac{\\hbar}{m}\\frac{d \\psi_0(x,t)}{dx}\\frac{d S(x,t)}{dx} + \\frac{\\hbar}{2m} \\psi_0(x,t) \\frac{d^2 S(x,t)}{dx^2} \\right) $$\n",
    "\n",
    "We notice that this expression is zero in the classical limit. Dividing through by $\\hbar$ and using the chain rule, $\\frac{d \\left(\\psi_0(x,t)\\right)^2}{dt} = 2 \\psi_0(x,t) \\frac{d \\psi_0(x,t)}{dt}$, we can rewrite this expression as\n",
    "\n",
    "$$ \\frac{d \\left(\\psi_0(x,t)\\right)^2}{dt} \n",
    "= - \\frac{d}{dx} \\left(\\psi_0(x,t)\\right)^2 \\left(\\frac{1}{m}\\frac{d S(x,t)}{dx}\\right) $$\n",
    "\n",
    "This expression resembles the [*equation of continuity*](https://en.wikipedia.org/wiki/Continuity_equation) from classical physics,\n",
    "\n",
    "$$ \\frac{d \\rho(x,t)}{dt} = -\\nabla \\cdot \\rho(x,t) \\nabla v(x,t) $$\n",
    "\n",
    "where $v(x,t)$ is the velocity and $\\rho(x,t)$ is the density, the probability of observing a particle at the point $x$ and the time $t$. This (re)confirms that $\\nabla S$ is an expression for the momentum, and suggests that\n",
    "\n",
    "$$\\rho(x,t) = \\psi_0(x,t)^2 = \\Psi(x,t) \\Psi(x,t)^* = |\\Psi(x,t)|^2 $$ \n",
    "\n",
    "is an expression for the probability of observing a particle at a point in space. The identification of the square-magnitude of the quantum-mechanical wavefunction with probability is called the [*Born postulate*](https://en.wikipedia.org/wiki/Born_rule).\n",
    "\n",
    "\n",
    "In the end, the Schr&ouml;dinger equation was not accepted because of its mathematical elegance, but because it worked to accurately describe key phenomena. In fact, as we shall see, the (originally empirical) Rydberg formula can be easily justified using the Schr&ouml;dinger equation.\n",
    "\n",
    "We can rationalize the form of the quantum mechanical momentum operator, $\\hat{p} = -i \\hbar \\frac{d}{dx} $\n",
    ", by a similar argument. Applying the hypothesized momentum operator to the wavefunction, one obtains:\n",
    "\n",
    "$$\n",
    "\\begin{align}\n",
    "-i \\hbar \\frac{d\\Psi(x,t)}{dx} &= -i \\hbar \\frac{d\\psi_0(x,t)}{dx} e^{\\frac{i S(x,t)}{\\hbar}} + \\psi_0(x,t) e^{\\frac{i S(x,t)}{\\hbar}} \\frac{dS(x,t)}{dx} \\\\\\\\\n",
    "&= \\text{[imaginary part]} + \\frac{dS(x,t)}{dx} \\Psi(x,t) \\\\\\\\\n",
    "&= \\text{[imaginary part]} + \\text{[classical expression for momentum]}\\Psi(x,t)\n",
    "\\end{align}\n",
    "$$\n",
    "\n",
    "This indicates that the quantum-mechanical momentum operator is consistent with the classical expression for the momentum, to which it reduces in the classical limit where $\\hbar \\rightarrow 0$.\n"
   ]
  },
  {
   "cell_type": "markdown",
   "metadata": {},
   "source": [
    "## &#x1fa9e; Self-Reflection\n",
    "Imagine you were assigned to describe Quantum Mechanics to a room full of irrascible tweens. \n",
    "- How would you motivate them to be interested in quantum mechanics? \n",
    "- How would you describe wave-particle duality in a way they could understand? "
   ]
  },
  {
   "cell_type": "markdown",
   "metadata": {},
   "source": [
    "## &#x1f914; Thought-Provoking Questions\n",
    "- Is it possible for the wavelength of the scattered photon in Compton Scattering to be infinite? (I.e., could the photon be entirely absorbed?)\n",
    "- What are the units of the wavefunction?"
   ]
  },
  {
   "cell_type": "markdown",
   "metadata": {},
   "source": [
    "## &#x1f501; Recapitulation\n",
    "- What are the following phenomena/experiments/theories, and why were they important to the establishment of the quantum theory?\n",
    "  - black-body radiation and the ultraviolet catastrophe\n",
    "  - the photoelectric effect\n",
    "  - Compton scattering\n",
    "  - the Davisson-Germer experiment (and electron scattering/diffraction in general)\n",
    "  - the spectral lines of one-electron atoms, and the Rydberg relation\n",
    "- What are the following key equations, and why are they important?\n",
    "  - Planck-Einstein relation for the energy of a photon\n",
    "  - De Broglie relation between momentum and wavelength\n",
    "  - the Schr&ouml;dinger equation\n",
    "- What is the quantum mechanical operator for the momentum of a particle?\n",
    "- List as many properties/characteristics of the wavefunction as you can."
   ]
  },
  {
   "cell_type": "markdown",
   "metadata": {},
   "source": [
    "## &#x1f52e; Next Up...\n",
    "- Motivate the time-dependent Schr&ouml;dinger equation\n",
    "- Derive the time-independent Schr&ouml;dinger equation\n",
    "- Explore the quantum-mechanical operator for momentum\n",
    "- Study simple one-dimensional Hamiltonians"
   ]
  },
  {
   "cell_type": "markdown",
   "metadata": {},
   "source": [
    "## &#x1f4da; References\n",
    "My favorite sources for this material are:\n",
    "- R. Eisberg and R. Resnick, Quantum Physics of Atoms, Molecules, Solids, Nuclei, and Particles (Wiley, New York, 1974)\n",
    "- R. Dumont, [An Emergent Reality, Part 2: Quantum Mechanics](https://github.com/PaulWAyers/IntroQChem/blob/main/documents/DumontBook.pdf) (Chapters 1 and 2).\n",
    "- Also see my (pdf) class [notes](https://github.com/PaulWAyers/IntroQChem/blob/main/documents/IntroQM.pdf).\n",
    "- The introductory material in [Davit Potoyan's](https://www.chem.iastate.edu/people/davit-potoyan) Jupyter-book course is very good. Roughly [chapters 1 and 2](https://dpotoyan.github.io/Chem324/intro.html) are especially relevant here.\n",
    "\n",
    "Some videos:\n",
    "- [My video introduction](https://www.macvideo.ca/media/1_IntroQM/1_rbe31g5b)\n",
    "- [History of Black-body radiation](https://www.youtube.com/watch?v=uMUi3o78qgQ&t=8s)\n",
    "- [History of the Photoelectric effect](https://www.youtube.com/watch?v=BiPEY99w8Lo)\n",
    "\n",
    "There are also some excellent wikipedia articles:\n",
    "- On General Quantum Mechanics\n",
    "  - [Introduction to Quantum Mechanics](http://en.wikipedia.org/wiki/Introduction_to_quantum_mechanics)\n",
    "  - [Quantum Mechanics](http://en.wikipedia.org/wiki/Quantum_mechanics)\n",
    "  - [Mathematical Formulation of Quantum Mechanics](http://en.wikipedia.org/wiki/Mathematical_formulation_of_quantum_mechanics)\n",
    "  - [Basic Concepts of Quantum Mechanics](http://en.wikipedia.org/wiki/Basic_concepts_of_quantum_mechanics). See [also](https://github.com/PaulWAyers/IntroQChem/blob/main/documents/quantum_summary.pdf)\n",
    "  - [Planck's Constant](http://en.wikipedia.org/wiki/Planck_constant)\n",
    "  - [Wave-particle Duality](http://en.wikipedia.org/wiki/Wave-particle_duality)\n",
    "- Black-Body Radiation\n",
    "  - [What is a Black Body?](http://en.wikipedia.org/wiki/Black_body)\n",
    "  - [Ultraviolet Catastrophe](http://en.wikipedia.org/wiki/Ultraviolet_catastrophe)\n",
    "  - [Raleigh-Jeans Law for Classical Black Bodies](http://en.wikipedia.org/wiki/Rayleigh-Jeans_law)\n",
    "  - [Planck's Law for Black-Body Radiation](http://en.wikipedia.org/wiki/Planck%27s_law)\n",
    "  - [Wien's Displacement Law for the Peak Wavelength of a Black Body](http://en.wikipedia.org/wiki/Wien%27s_displacement_law)\n",
    "- [Photoelectric Effect](http://en.wikipedia.org/wiki/Photoelectric_effect)\n",
    "- [Compton Scattering](http://en.wikipedia.org/wiki/Compton_scattering)\n",
    "- [De Broglie Wavelength](http://en.wikipedia.org/wiki/Matter_wave)\n",
    "- Electron/Particle Diffraction\n",
    "  - [Davisson-Germer Experiment](http://en.wikipedia.org/wiki/Davisson%E2%80%93Germer_experiment)\n",
    "  - [Electron Diffraction](http://en.wikipedia.org/wiki/Electron_diffraction)\n",
    "  - [Electron Crystallography](http://en.wikipedia.org/wiki/Electron_crystallography)\n",
    "  - [Electron Microscope](http://en.wikipedia.org/wiki/Electron_microscopy)\n",
    "  - [Transmission Electron Microscope](http://en.wikipedia.org/wiki/Transmission_Electron_Microscopy)\n",
    "- Spectral lines in simple atoms\n",
    "  - [Franck-Hertz Experiment, the first experiment to show discrete atomic energy levels](http://en.wikipedia.org/wiki/Franck%E2%80%93Hertz_experiment)\n",
    "  - [Balmer formula, a predecessor of the Rydberg formula](http://en.wikipedia.org/wiki/Balmer_series)\n",
    "  - [Rydberg formula](http://en.wikipedia.org/wiki/Rydberg_formula)\n",
    "  - [Spectral Lines](http://en.wikipedia.org/wiki/Spectral_line)\n",
    "  - [Atomic Spectral Lines](http://en.wikipedia.org/wiki/Atomic_spectral_line)\n",
    "- Schr&ouml;dinger Equation\n",
    "  - [Schr&ouml;dinger Equation](http://en.wikipedia.org/wiki/Schrodinger_equation)\n",
    "  - [Theoretical Justification of S.E.](http://en.wikipedia.org/wiki/Theoretical_and_experimental_justification_for_the_Schr%C3%B6dinger_equation). See [also](https://github.com/PaulWAyers/IntroQChem/blob/main/linkedFiles/SchrodingerHJeq.pdf).\n",
    "  - [Momentum Operator](http://en.wikipedia.org/wiki/Momentum_operator)"
   ]
  },
  {
   "cell_type": "markdown",
   "metadata": {},
   "source": []
  }
 ],
 "metadata": {
  "kernelspec": {
   "display_name": "Python 3",
   "language": "python",
   "name": "python3"
  },
  "language_info": {
   "codemirror_mode": {
    "name": "ipython",
    "version": 3
   },
   "file_extension": ".py",
   "mimetype": "text/x-python",
   "name": "python",
   "nbconvert_exporter": "python",
   "pygments_lexer": "ipython3",
   "version": "3.7.3"
  },
  "latex_envs": {
   "LaTeX_envs_menu_present": true,
   "autoclose": false,
   "autocomplete": true,
   "bibliofile": "biblio.bib",
   "cite_by": "apalike",
   "current_citInitial": 1,
   "eqLabelWithNumbers": true,
   "eqNumInitial": 1,
   "hotkeys": {
    "equation": "Ctrl-E",
    "itemize": "Ctrl-I"
   },
   "labels_anchors": false,
   "latex_user_defs": false,
   "report_style_numbering": false,
   "user_envs_cfg": false
  },
  "toc": {
   "base_numbering": 1,
   "nav_menu": {
    "height": "688px",
    "width": "378px"
   },
   "number_sections": true,
   "sideBar": true,
   "skip_h1_title": false,
   "title_cell": "Table of Contents",
   "title_sidebar": "Contents",
   "toc_cell": true,
   "toc_position": {
    "height": "602.857px",
    "left": "426px",
    "top": "183.571px",
    "width": "236.708px"
   },
   "toc_section_display": true,
   "toc_window_display": true
  }
 },
 "nbformat": 4,
 "nbformat_minor": 4
}
